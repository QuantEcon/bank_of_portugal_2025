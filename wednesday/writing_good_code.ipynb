{
 "cells": [
  {
   "cell_type": "markdown",
   "id": "d5b36f93",
   "metadata": {},
   "source": [
    "# Writing Good Code\n",
    "\n",
    "\n",
    "Any fool can write code that a computer can understand. Good programmers write\n",
    "code that humans can understand. – Martin Fowler"
   ]
  },
  {
   "cell_type": "markdown",
   "id": "1c124964",
   "metadata": {},
   "source": [
    "## Overview\n",
    "\n",
    "When computer programs are small, poorly written code is not overly costly.\n",
    "\n",
    "But more data, more sophisticated models, and more computer power are enabling\n",
    "us to take on more challenging problems that involve writing longer programs.\n",
    "\n",
    "For such programs, investment in good coding practices will pay high returns."
   ]
  },
  {
   "cell_type": "markdown",
   "id": "f746ac61",
   "metadata": {},
   "source": [
    "## An Example of Poor Code\n",
    "\n",
    "Let’s have a look at some poorly written code.\n",
    "\n",
    "The job of the code is to generate and plot time series of the simplified Solow model\n",
    "\n",
    "$$\n",
    "    k_{t+1} = s k_t^{\\alpha} + (1 - \\delta) k_t,\n",
    "    \\quad t = 0, 1, 2, \\ldots \n",
    "$$\n",
    "\n",
    "Here\n",
    "\n",
    "- $ k_t $ is capital at time $ t $ and  \n",
    "- $ s, \\alpha, \\delta $ are parameters (savings, a productivity parameter and depreciation)  \n",
    "\n",
    "For each parameterization, the code\n",
    "\n",
    "1. sets $ k_0 = 1 $  \n",
    "1. iterates using the equation above to produce a sequence $ k_0, k_1, k_2 \\ldots , k_T $  \n",
    "1. plots the sequence  \n",
    "\n",
    "\n",
    "The plots will be grouped into three subfigures.\n",
    "\n",
    "In each subfigure, two parameters are held fixed while another varies"
   ]
  },
  {
   "cell_type": "code",
   "execution_count": null,
   "id": "0b993079",
   "metadata": {},
   "outputs": [],
   "source": [
    "import numpy as np\n",
    "import matplotlib.pyplot as plt\n",
    "\n",
    "# Allocate memory for time series\n",
    "k = np.empty(50)\n",
    "\n",
    "fig, axes = plt.subplots(3, 1, figsize=(8, 16))\n",
    "\n",
    "# Trajectories with different α\n",
    "δ = 0.1\n",
    "s = 0.4\n",
    "α = (0.25, 0.33, 0.45)\n",
    "\n",
    "for j in range(3):\n",
    "    k[0] = 1\n",
    "    for t in range(49):\n",
    "        k[t+1] = s * k[t]**α[j] + (1 - δ) * k[t]\n",
    "    axes[0].plot(k, 'o-', label=rf\"$\\alpha = {α[j]},\\; s = {s},\\; \\delta={δ}$\")\n",
    "\n",
    "axes[0].grid(lw=0.2)\n",
    "axes[0].set_ylim(0, 18)\n",
    "axes[0].set_xlabel('time')\n",
    "axes[0].set_ylabel('capital')\n",
    "axes[0].legend(loc='upper left', frameon=True)\n",
    "\n",
    "# Trajectories with different s\n",
    "δ = 0.1\n",
    "α = 0.33\n",
    "s = (0.3, 0.4, 0.5)\n",
    "\n",
    "for j in range(3):\n",
    "    k[0] = 1\n",
    "    for t in range(49):\n",
    "        k[t+1] = s[j] * k[t]**α + (1 - δ) * k[t]\n",
    "    axes[1].plot(k, 'o-', label=rf\"$\\alpha = {α},\\; s = {s[j]},\\; \\delta={δ}$\")\n",
    "\n",
    "axes[1].grid(lw=0.2)\n",
    "axes[1].set_xlabel('time')\n",
    "axes[1].set_ylabel('capital')\n",
    "axes[1].set_ylim(0, 18)\n",
    "axes[1].legend(loc='upper left', frameon=True)\n",
    "\n",
    "# Trajectories with different δ\n",
    "δ = (0.05, 0.1, 0.15)\n",
    "α = 0.33\n",
    "s = 0.4\n",
    "\n",
    "for j in range(3):\n",
    "    k[0] = 1\n",
    "    for t in range(49):\n",
    "        k[t+1] = s * k[t]**α + (1 - δ[j]) * k[t]\n",
    "    axes[2].plot(k, 'o-', label=rf\"$\\alpha = {α},\\; s = {s},\\; \\delta={δ[j]}$\")\n",
    "\n",
    "axes[2].set_ylim(0, 18)\n",
    "axes[2].set_xlabel('time')\n",
    "axes[2].set_ylabel('capital')\n",
    "axes[2].grid(lw=0.2)\n",
    "axes[2].legend(loc='upper left', frameon=True)\n",
    "\n",
    "plt.show()"
   ]
  },
  {
   "cell_type": "markdown",
   "id": "aed29111",
   "metadata": {},
   "source": [
    "True, the code more or less follows [PEP8](https://peps.python.org/pep-0008/).\n",
    "\n",
    "At the same time, it’s very poorly structured.\n",
    "\n",
    "Let’s talk about why that’s the case, and what we can do about it."
   ]
  },
  {
   "cell_type": "markdown",
   "id": "f4f72007",
   "metadata": {},
   "source": [
    "## Good Coding Practice\n",
    "\n",
    "Here are some basic precepts."
   ]
  },
  {
   "cell_type": "markdown",
   "id": "d7997d19",
   "metadata": {},
   "source": [
    "### Don’t Use Magic Numbers\n",
    "\n",
    "If you look at the code above, you’ll see numbers like `50` and `49` and `3`\n",
    "scattered through the code.\n",
    "\n",
    "These kinds of numeric literals in the body of your code are sometimes called\n",
    "“magic numbers”.\n",
    "\n",
    "This is not a compliment.\n",
    "\n",
    "While numeric literals are not all evil, the numbers shown in the program above\n",
    "should certainly be replaced by named constants.\n",
    "\n",
    "For example, the code above could declare the variable `time_series_length = 50`.\n",
    "\n",
    "Then in the loops, `49` should be replaced by `time_series_length - 1`.\n",
    "\n",
    "The advantages are:\n",
    "\n",
    "- the meaning is much clearer throughout  \n",
    "- to alter the time series length, you only need to change one value"
   ]
  },
  {
   "cell_type": "markdown",
   "id": "0502a229",
   "metadata": {},
   "source": [
    "### Don’t Repeat Yourself\n",
    "\n",
    "The other mistake in the code snippet above is repetition.\n",
    "\n",
    "Blocks of logic (such as the loop to generate time series) are repeated with only minor changes.\n",
    "\n",
    "This violates a fundamental tenet of programming: Don’t repeat yourself (DRY).\n",
    "\n",
    "- Also called DIE (duplication is evil).  \n",
    "\n",
    "Yes, we realize that you can just cut and paste and change a few symbols.\n",
    "\n",
    "But as a programmer, your aim should be to **automate** repetition, **not** do it yourself.\n",
    "\n",
    "More importantly, repeating the same logic in different places means that eventually one of them will likely be wrong."
   ]
  },
  {
   "cell_type": "markdown",
   "id": "12527373",
   "metadata": {},
   "source": [
    "### Minimize Global Variables\n",
    "\n",
    "Global variables (i.e., names assigned to values outside of any function or class) are convenient.\n",
    "\n",
    "Rookie programmers typically use global variables with abandon.\n",
    "\n",
    "But global variables are dangerous, especially in medium to large size programs, since\n",
    "\n",
    "- they can affect what happens in any part of your program  \n",
    "- they can be changed by any function  \n",
    "\n",
    "This makes it much harder to be certain about what some  small part of a given piece of code actually commands.\n",
    "\n",
    "While the odd global in small scripts is no big deal, we recommend that you\n",
    "teach yourself to avoid them.\n",
    "\n",
    "(We’ll discuss how just below)."
   ]
  },
  {
   "cell_type": "markdown",
   "id": "d2c84d7c",
   "metadata": {},
   "source": [
    "#### JIT Compilation\n",
    "\n",
    "For scientific computing, there is another good reason to avoid global variables.\n",
    "\n",
    "JIT compilation can generate excellent performance for scripting languages like Python.\n",
    "\n",
    "But the task of the compiler used for JIT compilation becomes harder when global\n",
    "variables are present.\n",
    "\n",
    "Put differently, the type inference required for JIT compilation is safer and\n",
    "more effective when variables are sandboxed inside a function."
   ]
  },
  {
   "cell_type": "markdown",
   "id": "b269f8d8",
   "metadata": {},
   "source": [
    "### Use Functions \n",
    "\n",
    "Fortunately, we can easily avoid the evils of global variables and WET code.\n",
    "\n",
    "- WET stands for “we enjoy typing” and is the opposite of DRY.  \n",
    "\n",
    "We can do this by making frequent use of functions or classes.\n",
    "\n",
    "In fact, functions are designed specifically to help us avoid shaming ourselves\n",
    "by repeating code or excessive use of global variables."
   ]
  },
  {
   "cell_type": "markdown",
   "id": "2843e09d",
   "metadata": {},
   "source": [
    "## Revisiting the Example\n",
    "\n",
    "Here’s some code that reproduces the plot above with better coding style."
   ]
  },
  {
   "cell_type": "code",
   "execution_count": null,
   "id": "c7b87067",
   "metadata": {},
   "outputs": [],
   "source": [
    "def simulate_solow(α, s, δ, ts_length=50):\n",
    "    \"\"\"Simulate the Solow model.\"\"\"\n",
    "    k = np.empty(ts_length)\n",
    "    k[0] = 1\n",
    "    for t in range(ts_length - 1):\n",
    "        k[t+1] = s * k[t]**α + (1 - δ) * k[t]\n",
    "    return k\n",
    "\n",
    "\n",
    "def plot_solow(ax, vary_param, param_vals, α=0.33, s=0.4, δ=0.1):\n",
    "    \"\"\"Plot Solow trajectories while varying one parameter.\"\"\"\n",
    "    for val in param_vals:\n",
    "        params = {'α': α, 's': s, 'δ': δ}\n",
    "        params[vary_param] = val\n",
    "        k = simulate_solow(**params)\n",
    "        label = (rf\"$\\alpha = {params['α']},\\; s = {params['s']},\\; \"\n",
    "                 rf\"\\delta={params['δ']}$\")\n",
    "        ax.plot(k, 'o-', label=label)\n",
    "\n",
    "    ax.grid(lw=0.2)\n",
    "    ax.set_ylim(0, 18)\n",
    "    ax.set_xlabel('time')\n",
    "    ax.set_ylabel('capital')\n",
    "    ax.legend(loc='upper left', frameon=True)\n",
    "\n",
    "\n",
    "# Create plots\n",
    "fig, axes = plt.subplots(3, 1, figsize=(8, 16))\n",
    "\n",
    "plot_solow(axes[0], 'α', (0.25, 0.33, 0.45))\n",
    "plot_solow(axes[1], 's', (0.3, 0.4, 0.5))\n",
    "plot_solow(axes[2], 'δ', (0.05, 0.1, 0.15))\n",
    "\n",
    "plt.show()"
   ]
  },
  {
   "cell_type": "markdown",
   "id": "5a6a5ffe",
   "metadata": {},
   "source": [
    "If you inspect this code, you will see that\n",
    "\n",
    "- it uses a function to avoid repetition.  \n",
    "- Global variables are quarantined by collecting them together at the end, not the start of the program.  \n",
    "- Magic numbers are avoided.  \n",
    "- The loop at the end where the actual work is done is short and relatively simple."
   ]
  },
  {
   "cell_type": "markdown",
   "id": "df67870f",
   "metadata": {},
   "source": [
    "## Exercises"
   ]
  },
  {
   "cell_type": "markdown",
   "id": "72c9839a",
   "metadata": {},
   "source": [
    "## Exercise 20.1\n",
    "\n",
    "Here is some code that needs improving.\n",
    "\n",
    "It involves a basic supply and demand problem.\n",
    "\n",
    "Supply is given by\n",
    "\n",
    "$$\n",
    "q_s(p) = \\exp(\\alpha p) - \\beta.\n",
    "$$\n",
    "\n",
    "The demand curve is\n",
    "\n",
    "$$\n",
    "q_d(p) = \\gamma p^{-\\delta}.\n",
    "$$\n",
    "\n",
    "The values $ \\alpha $, $ \\beta $, $ \\gamma $ and\n",
    "$ \\delta $ are **parameters**\n",
    "\n",
    "The equilibrium $ p^* $ is the price such that\n",
    "$ q_d(p) = q_s(p) $.\n",
    "\n",
    "We can solve for this equilibrium using a root finding algorithm.\n",
    "Specifically, we will find the $ p $ such that $ h(p) = 0 $,\n",
    "where\n",
    "\n",
    "$$\n",
    "h(p) := q_d(p) - q_s(p)\n",
    "$$\n",
    "\n",
    "This yields the equilibrium price $ p^* $. From this we get the\n",
    "equilibrium quantity by $ q^* = q_s(p^*) $\n",
    "\n",
    "The parameter values will be\n",
    "\n",
    "- $ \\alpha = 0.1 $  \n",
    "- $ \\beta = 1 $  \n",
    "- $ \\gamma = 1 $  \n",
    "- $ \\delta = 1 $"
   ]
  },
  {
   "cell_type": "code",
   "execution_count": null,
   "id": "299b7310",
   "metadata": {},
   "outputs": [],
   "source": [
    "from scipy.optimize import brentq\n",
    "\n",
    "# Compute equilibrium\n",
    "def h(p):\n",
    "    return p**(-1) - (np.exp(0.1 * p) - 1)  # demand - supply\n",
    "\n",
    "p_star = brentq(h, 2, 4)\n",
    "q_star = np.exp(0.1 * p_star) - 1\n",
    "\n",
    "print(f'Equilibrium price is {p_star: .2f}')\n",
    "print(f'Equilibrium quantity is {q_star: .2f}')"
   ]
  },
  {
   "cell_type": "markdown",
   "id": "9acad893",
   "metadata": {},
   "source": [
    "Let’s also plot our results."
   ]
  },
  {
   "cell_type": "code",
   "execution_count": null,
   "id": "952c6929",
   "metadata": {},
   "outputs": [],
   "source": [
    "# Now plot\n",
    "grid = np.linspace(2, 4, 100)\n",
    "fig, ax = plt.subplots()\n",
    "\n",
    "qs = np.exp(0.1 * grid) - 1\n",
    "qd = grid**(-1)\n",
    "\n",
    "\n",
    "ax.plot(grid, qd, 'b-', lw=2, label='demand')\n",
    "ax.plot(grid, qs, 'g-', lw=2, label='supply')\n",
    "\n",
    "ax.set_xlabel('price')\n",
    "ax.set_ylabel('quantity')\n",
    "ax.legend(loc='upper center')\n",
    "\n",
    "plt.show()"
   ]
  },
  {
   "cell_type": "markdown",
   "id": "01a39515",
   "metadata": {},
   "source": [
    "We also want to consider supply and demand shifts.\n",
    "\n",
    "For example, let’s see what happens when demand shifts up, with $ \\gamma $ increasing to $ 1.25 $:"
   ]
  },
  {
   "cell_type": "code",
   "execution_count": null,
   "id": "ee1a1122",
   "metadata": {},
   "outputs": [],
   "source": [
    "# Compute equilibrium\n",
    "def h(p):\n",
    "    return 1.25 * p**(-1) - (np.exp(0.1 * p) - 1)\n",
    "\n",
    "p_star = brentq(h, 2, 4)\n",
    "q_star = np.exp(0.1 * p_star) - 1\n",
    "\n",
    "print(f'Equilibrium price is {p_star: .2f}')\n",
    "print(f'Equilibrium quantity is {q_star: .2f}')"
   ]
  },
  {
   "cell_type": "code",
   "execution_count": null,
   "id": "3baac999",
   "metadata": {},
   "outputs": [],
   "source": [
    "# Now plot\n",
    "p_grid = np.linspace(2, 4, 100)\n",
    "fig, ax = plt.subplots()\n",
    "\n",
    "qs = np.exp(0.1 * p_grid) - 1\n",
    "qd = 1.25 * p_grid**(-1)\n",
    "\n",
    "\n",
    "ax.plot(grid, qd, 'b-', lw=2, label='demand')\n",
    "ax.plot(grid, qs, 'g-', lw=2, label='supply')\n",
    "\n",
    "ax.set_xlabel('price')\n",
    "ax.set_ylabel('quantity')\n",
    "ax.legend(loc='upper center')\n",
    "\n",
    "plt.show()"
   ]
  },
  {
   "cell_type": "markdown",
   "id": "9c89287b",
   "metadata": {},
   "source": [
    "Now we might consider supply shifts, but you already get the idea that there’s\n",
    "a lot of repeated code here.\n",
    "\n",
    "Refactor and improve clarity in the code above using the principles discussed\n",
    "in this lecture."
   ]
  },
  {
   "cell_type": "code",
   "execution_count": null,
   "id": "b7c9ab33",
   "metadata": {},
   "outputs": [],
   "source": [
    "# Put your code here"
   ]
  },
  {
   "cell_type": "code",
   "execution_count": null,
   "id": "1594f2e7",
   "metadata": {},
   "outputs": [],
   "source": [
    "for _ in range(20):\n",
    "    print(\"Solution below!\")"
   ]
  },
  {
   "cell_type": "markdown",
   "id": "830726c4",
   "metadata": {},
   "source": [
    "Here’s one solution."
   ]
  },
  {
   "cell_type": "code",
   "execution_count": null,
   "id": "298084ae",
   "metadata": {},
   "outputs": [],
   "source": [
    "from typing import NamedTuple\n",
    "\n",
    "class EquilibriumModel(NamedTuple):\n",
    "    α: float = 0.1\n",
    "    β: float = 1.0\n",
    "    γ: float = 1.0\n",
    "    δ: float = 1\n",
    "\n",
    "def qs(model, p):\n",
    "    return np.exp(model.α * p) - model.β\n",
    "\n",
    "def qd(model, p):\n",
    "    return model.γ * p**(-model.δ)\n",
    "\n",
    "def compute_equilibrium(model):\n",
    "    def h(p):\n",
    "        return qd(model, p) - qs(model, p)\n",
    "    p_star = brentq(h, 2, 4)\n",
    "    q_star = np.exp(model.α * p_star) - model.β\n",
    "\n",
    "    print(f'Equilibrium price is {p_star: .2f}')\n",
    "    print(f'Equilibrium quantity is {q_star: .2f}')\n",
    "\n",
    "def plot_equilibrium(model):\n",
    "    # Now plot\n",
    "    grid = np.linspace(2, 4, 100)\n",
    "    fig, ax = plt.subplots()\n",
    "\n",
    "    ax.plot(grid, qd(model, grid), 'b-', lw=2, label='demand')\n",
    "    ax.plot(grid, qs(model, grid), 'g-', lw=2, label='supply')\n",
    "\n",
    "    ax.set_xlabel('price')\n",
    "    ax.set_ylabel('quantity')\n",
    "    ax.legend(loc='upper center')\n",
    "\n",
    "    plt.show()"
   ]
  },
  {
   "cell_type": "markdown",
   "id": "d1f9706e",
   "metadata": {},
   "source": [
    "Let’s create an instance at the default parameter values."
   ]
  },
  {
   "cell_type": "code",
   "execution_count": null,
   "id": "bd64f444",
   "metadata": {},
   "outputs": [],
   "source": [
    "model = EquilibriumModel()"
   ]
  },
  {
   "cell_type": "markdown",
   "id": "5ab44756",
   "metadata": {},
   "source": [
    "Now we’ll compute the equilibrium and plot it."
   ]
  },
  {
   "cell_type": "code",
   "execution_count": null,
   "id": "e8dba46e",
   "metadata": {},
   "outputs": [],
   "source": [
    "compute_equilibrium(model)"
   ]
  },
  {
   "cell_type": "code",
   "execution_count": null,
   "id": "30d70885",
   "metadata": {},
   "outputs": [],
   "source": [
    "plot_equilibrium(model)"
   ]
  },
  {
   "cell_type": "markdown",
   "id": "98528599",
   "metadata": {},
   "source": [
    "One of the nice things about our refactored code is that, when we change\n",
    "parameters, we don’t need to repeat ourselves:"
   ]
  },
  {
   "cell_type": "code",
   "execution_count": null,
   "id": "78afef66",
   "metadata": {},
   "outputs": [],
   "source": [
    "model = EquilibriumModel(γ=1.25)"
   ]
  },
  {
   "cell_type": "code",
   "execution_count": null,
   "id": "8bb119fe",
   "metadata": {},
   "outputs": [],
   "source": [
    "compute_equilibrium(model)"
   ]
  },
  {
   "cell_type": "code",
   "execution_count": null,
   "id": "cd2c471a",
   "metadata": {},
   "outputs": [],
   "source": [
    "plot_equilibrium(model)"
   ]
  },
  {
   "cell_type": "code",
   "execution_count": null,
   "id": "1c0facbc",
   "metadata": {},
   "outputs": [],
   "source": []
  }
 ],
 "metadata": {
  "jupytext": {
   "default_lexer": "ipython3"
  },
  "kernelspec": {
   "display_name": "Python 3 (ipykernel)",
   "language": "python",
   "name": "python3"
  }
 },
 "nbformat": 4,
 "nbformat_minor": 5
}
