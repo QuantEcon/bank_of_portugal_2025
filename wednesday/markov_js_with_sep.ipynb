{
 "cells": [
  {
   "cell_type": "markdown",
   "id": "42a711ed",
   "metadata": {},
   "source": [
    "# Job Search with Separation\n",
    "\n",
    "**Prepared for the Bank of Portugal Computational Economics Course (Oct 2025)**\n",
    "\n",
    "**Author:** [John Stachurski](https://johnstachurski.net)\n",
    "\n",
    "This module solves for the optimal policy of an agent who can be either\n",
    "unemployed or employed. \n",
    "\n",
    "## Model Setup\n",
    "\n",
    "- Jobs terminate with probability α each period (separation rate)\n",
    "- An unemployed agent receives a wage offer sequence $(w_t)$ until accepting a\n",
    "  new job\n",
    "- Wage offers follow a Markov chain with transition matrix $P$\n",
    "- Employed agents maintain a constant wage during their employment\n",
    "- An agent who separates from a job with wage $w$ draws a new offer from\n",
    "  distribution $P(w, \\cdot)$\n",
    "- Unemployed workers receive compensation $c$ each period\n",
    "- Future payoffs discounted by factor $\\beta \\in (0,1)$"
   ]
  },
  {
   "cell_type": "markdown",
   "id": "f29e35c1",
   "metadata": {},
   "source": [
    "## Decision Problem\n",
    "\n",
    "When unemployed and receiving wage offer $w$, the agent chooses between:\n",
    "\n",
    "1. Accept offer $w$ and work at this wage until separation\n",
    "2. Reject offer: Remain unemployed, receive $c$, get new offer next period"
   ]
  },
  {
   "cell_type": "markdown",
   "id": "cbe1b5f5",
   "metadata": {},
   "source": [
    "## Value Functions\n",
    "\n",
    "Let \n",
    "\n",
    "- $v_u(w)$ be the value of being unemployed when current wage offer is $w$\n",
    "- $v_e(w)$ be the value of being employed at wage $w$\n",
    "\n",
    "## Bellman Equations\n",
    "\n",
    "The unemployed worker's value function satisfies:\n",
    "\n",
    "$$v_u(w) = \\max\\{v_e(w), c + \\beta \\sum_{w'} v_u(w') P(w,w')\\}$$\n",
    "\n",
    "The employed worker's value function satisfies:\n",
    "\n",
    "$$v_e(w) = w + \\beta[\\alpha \\sum_{w'} v_u(w') P(w,w') + (1-\\alpha) v_e(w)]$$\n",
    "\n",
    "We can rewrite these using matrix-vector style notation as\n",
    "\n",
    "\n",
    "$$v_u = \\max\\{v_e, c + \\beta P v_u \\}$$\n",
    "\n",
    "The employed worker's value function satisfies:\n",
    "\n",
    "$$v_e = \\vec w + \\beta[\\alpha P v_u + (1-\\alpha) v_e]$$\n",
    "\n",
    "Here $\\vec w$ is a vector containing the list of possible wage offers."
   ]
  },
  {
   "cell_type": "markdown",
   "id": "8890fa41",
   "metadata": {},
   "source": [
    "## Computational Approach\n",
    "\n",
    "1. Solve the employed value function in terms of $v_u$:\n",
    "\n",
    "   $$v_e(w) = \\frac{1}{1-\\beta(1-\\alpha)} \\cdot (w + \\alpha\\beta(Pv_u)(w))$$\n",
    "\n",
    "3. Substitute into unemployed Bellman equation to get:\n",
    "\n",
    "   $$v_u(w) = \\max\\left\\{\\frac{1}{1-\\beta(1-\\alpha)} \\cdot (w + \\alpha\\beta(Pv_u)(w)), c + \\beta(Pv_u)(w)\\right\\}$$\n",
    "\n",
    "4. Use value function iteration to solve for  the fixed point $v_u^*$\n",
    "5. Compute optimal policy: accept if $v_e^*(w) ≥ c + \\beta(Pv_u^*)(w)$\n",
    "\n",
    "The optimal policy is a reservation wage strategy: accept all wages above\n",
    "some threshold $\\bar w$."
   ]
  },
  {
   "cell_type": "markdown",
   "id": "91b081c9",
   "metadata": {},
   "source": [
    "## Code\n",
    "\n",
    "In addition to what's in Anaconda, this lecture will need the QE library:"
   ]
  },
  {
   "cell_type": "code",
   "execution_count": null,
   "id": "e17df0ec",
   "metadata": {},
   "outputs": [],
   "source": [
    "!pip install quantecon  "
   ]
  },
  {
   "cell_type": "markdown",
   "id": "589022b9",
   "metadata": {},
   "source": [
    "We use the following imports:"
   ]
  },
  {
   "cell_type": "code",
   "execution_count": null,
   "id": "b8e0e15d",
   "metadata": {},
   "outputs": [],
   "source": [
    "from quantecon.markov import tauchen\n",
    "import numpy as np\n",
    "from typing import NamedTuple, Callable, Union\n",
    "import matplotlib.pyplot as plt\n",
    "import numba"
   ]
  },
  {
   "cell_type": "markdown",
   "id": "5347b013",
   "metadata": {},
   "source": [
    "First, we implement the successive approximation algorithm:"
   ]
  },
  {
   "cell_type": "code",
   "execution_count": null,
   "id": "e35290b8",
   "metadata": {},
   "outputs": [],
   "source": [
    "def successive_approx(\n",
    "        T: Callable,               # Operator\n",
    "        x_0: np.ndarray,           # Initial condition\n",
    "        tolerance: float = 1e-6,   # Error tolerance\n",
    "        max_iter: int = 100_000,   # Max iteration bound\n",
    "        verbose: bool = False\n",
    "    ):\n",
    "    \"\"\"\n",
    "    Computes the approximate fixed point of T via successive\n",
    "    approximation.\n",
    "\n",
    "    \"\"\"\n",
    "    x = x_0\n",
    "    error = tolerance + 1\n",
    "    k = 1\n",
    "    while (error > tolerance) and (k <= max_iter):\n",
    "        x_new = T(x)\n",
    "        error = np.max(np.abs(x_new - x))\n",
    "        x = x_new\n",
    "        k += 1\n",
    "    if error <= tolerance:\n",
    "        if verbose:\n",
    "            print(f\"Terminated successfully in {k} iterations.\")\n",
    "    else:\n",
    "        print(\"Warning: hit iteration bound.\")\n",
    "    return x"
   ]
  },
  {
   "cell_type": "markdown",
   "id": "986db816",
   "metadata": {},
   "source": [
    "Let's set up a `Model` class to store information needed to solve the model:"
   ]
  },
  {
   "cell_type": "code",
   "execution_count": null,
   "id": "433f3e3f",
   "metadata": {},
   "outputs": [],
   "source": [
    "class Model(NamedTuple):\n",
    "    n: int\n",
    "    w_vals: np.ndarray\n",
    "    P: np.ndarray\n",
    "    β: float\n",
    "    c: float\n",
    "    α: float"
   ]
  },
  {
   "cell_type": "markdown",
   "id": "d7251122",
   "metadata": {},
   "source": [
    "The function below holds default values and creates a `Model` instance:"
   ]
  },
  {
   "cell_type": "code",
   "execution_count": null,
   "id": "5dcc42ef",
   "metadata": {},
   "outputs": [],
   "source": [
    "def create_js_with_sep_model(\n",
    "        n: int = 200,          # wage grid size\n",
    "        ρ: float = 0.9,        # wage persistence\n",
    "        ν: float = 0.2,        # wage volatility\n",
    "        β: float = 0.96,       # discount factor\n",
    "        α: float = 0.05,       # separation rate\n",
    "        c: float = 1.0         # unemployment compensation\n",
    "    ) -> Model:\n",
    "    \"\"\"Creates an instance of the job search model with separation.\"\"\"\n",
    "    mc = tauchen(n, ρ, ν)\n",
    "    w_vals, P = np.exp(mc.state_values), mc.P\n",
    "    return Model(n, w_vals, P, β, c, α)"
   ]
  },
  {
   "cell_type": "markdown",
   "id": "c2f7f17d",
   "metadata": {},
   "source": [
    "Here's the Bellman operator for the unemployed worker's value function:"
   ]
  },
  {
   "cell_type": "code",
   "execution_count": null,
   "id": "757b1ba6",
   "metadata": {},
   "outputs": [],
   "source": [
    "@numba.jit\n",
    "def T(v: np.ndarray, model: Model) -> np.ndarray:\n",
    "    \"\"\"The Bellman operator for the value of being unemployed.\"\"\"\n",
    "    n, w_vals, P, β, c, α = model\n",
    "    d = 1 / (1 - β * (1 - α))\n",
    "    accept = d * (w_vals + α * β * P @ v)\n",
    "    reject = c + β * P @ v\n",
    "    return np.maximum(accept, reject)"
   ]
  },
  {
   "cell_type": "markdown",
   "id": "7c5c3f8b",
   "metadata": {},
   "source": [
    "The next function computes the optimal policy under the assumption that v is\n",
    "the value function:"
   ]
  },
  {
   "cell_type": "code",
   "execution_count": null,
   "id": "fe3044de",
   "metadata": {},
   "outputs": [],
   "source": [
    "@numba.jit\n",
    "def get_greedy(v: np.ndarray, model: Model) -> np.ndarray:\n",
    "    \"\"\"Get a v-greedy policy.\"\"\"\n",
    "    n, w_vals, P, β, c, α = model\n",
    "    d = 1 / (1 - β * (1 - α))\n",
    "    accept = d * (w_vals + α * β * P @ v)\n",
    "    reject = c + β * P @ v\n",
    "    σ = accept >= reject\n",
    "    return σ"
   ]
  },
  {
   "cell_type": "markdown",
   "id": "94fcd601",
   "metadata": {},
   "source": [
    "Here's a routine for value function iteration:"
   ]
  },
  {
   "cell_type": "code",
   "execution_count": null,
   "id": "d1436e86",
   "metadata": {},
   "outputs": [],
   "source": [
    "def vfi(model: Model, verbose: bool = False):\n",
    "    \"\"\"Solve by VFI.\"\"\"\n",
    "    v_init = np.zeros(model.w_vals.shape)\n",
    "    v_star = successive_approx(lambda v: T(v, model), v_init, verbose)\n",
    "    σ_star = get_greedy(v_star, model)\n",
    "    return v_star, σ_star"
   ]
  },
  {
   "cell_type": "markdown",
   "id": "22e95d67",
   "metadata": {},
   "source": [
    "Here's a function to compute the reservation wage given a policy $\\sigma$"
   ]
  },
  {
   "cell_type": "code",
   "execution_count": null,
   "id": "ee4222be",
   "metadata": {},
   "outputs": [],
   "source": [
    "def get_reservation_wage(σ: np.ndarray, model: Model) -> float:\n",
    "    \"\"\"\n",
    "    Calculate the reservation wage from a given policy.\n",
    "\n",
    "    Parameters:\n",
    "    - σ: Policy array where σ[i] = True means accept wage w_vals[i]\n",
    "    - model: Model instance containing wage values\n",
    "\n",
    "    Returns:\n",
    "    - Reservation wage (lowest wage for which policy indicates acceptance)\n",
    "    \"\"\"\n",
    "    n, w_vals, P, β, c, α = model\n",
    "\n",
    "    # Find all wage indices where policy indicates acceptance\n",
    "    accept_indices = np.where(σ)[0]\n",
    "\n",
    "    if len(accept_indices) == 0:\n",
    "        return np.inf  # Agent never accepts any wage\n",
    "\n",
    "    # Return the lowest wage that is accepted\n",
    "    return w_vals[accept_indices[0]]"
   ]
  },
  {
   "cell_type": "markdown",
   "id": "18cd6127",
   "metadata": {},
   "source": [
    "## Computing the Solution\n",
    "\n",
    "Let's solve the model and plot the results:"
   ]
  },
  {
   "cell_type": "code",
   "execution_count": null,
   "id": "d3cfed69",
   "metadata": {},
   "outputs": [],
   "source": [
    "model = create_js_with_sep_model()\n",
    "n, w_vals, P, β, c, α = model\n",
    "v_star, σ_star = vfi(model)\n",
    "\n",
    "d = 1 / (1 - β * (1 - α))\n",
    "accept = d * (w_vals + α * β * P @ v_star)\n",
    "h_star = c + β * P @ v_star\n",
    "\n",
    "w_star = get_reservation_wage(σ_star, model)\n",
    "\n",
    "fig, ax = plt.subplots()\n",
    "ax.plot(w_vals, h_star, linewidth=4, ls=\"--\", alpha=0.4,\n",
    "        label=\"continuation value\")\n",
    "ax.plot(w_vals, accept, linewidth=4, ls=\"--\", alpha=0.4,\n",
    "        label=\"stopping value\")\n",
    "ax.plot(w_vals, v_star, \"k-\", alpha=0.7, label=r\"$v_u^*(w)$\")\n",
    "ax.legend(frameon=False)\n",
    "ax.set_xlabel(r\"$w$\")\n",
    "plt.show()"
   ]
  },
  {
   "cell_type": "markdown",
   "id": "a96a9796",
   "metadata": {},
   "source": [
    "## Sensitivity Analysis\n",
    "\n",
    "Let's examine how reservation wages change with the separation rate α:"
   ]
  },
  {
   "cell_type": "code",
   "execution_count": null,
   "id": "8251bed0",
   "metadata": {},
   "outputs": [],
   "source": [
    "α_vals: np.ndarray = np.linspace(0.0, 1.0, 10)\n",
    "\n",
    "w_star_vec = np.empty_like(α_vals)\n",
    "for (i_α, α) in enumerate(α_vals):\n",
    "    model = create_js_with_sep_model(α=α)\n",
    "    v_star, σ_star = vfi(model)\n",
    "    w_star = get_reservation_wage(σ_star, model)\n",
    "    w_star_vec[i_α] = w_star\n",
    "\n",
    "fig, ax = plt.subplots()\n",
    "ax.plot(α_vals, w_star_vec, linewidth=2, alpha=0.6,\n",
    "        label=\"reservation wage\")\n",
    "ax.legend(frameon=False)\n",
    "ax.set_xlabel(r\"$\\alpha$\")\n",
    "ax.set_ylabel(r\"$w$\")\n",
    "plt.show()"
   ]
  },
  {
   "cell_type": "markdown",
   "id": "d012088c",
   "metadata": {},
   "source": [
    "## Employment Simulation\n",
    "\n",
    "Now let's simulate the employment dynamics of a single agent under the optimal policy:"
   ]
  },
  {
   "cell_type": "code",
   "execution_count": null,
   "id": "37db73c2",
   "metadata": {},
   "outputs": [],
   "source": [
    "@numba.jit\n",
    "def weighted_choice(probs):\n",
    "    \"\"\"Numba-compatible weighted random choice.\"\"\"\n",
    "    cumsum = np.cumsum(probs)\n",
    "    return np.searchsorted(cumsum, np.random.random())\n",
    "\n",
    "@numba.jit\n",
    "def update_agent(is_employed, wage_idx, model, σ_star):\n",
    "\n",
    "    n, w_vals, P, β, c, α = model\n",
    "\n",
    "    if is_employed: # Employed update\n",
    "\n",
    "        # Separation => become unemployed and draw new wage\n",
    "        if np.random.random() < α:\n",
    "            is_employed = False\n",
    "            wage_idx = weighted_choice(P[wage_idx, :])\n",
    "\n",
    "        # No separation => employment status and wage unchanged\n",
    "        else:\n",
    "            pass\n",
    "\n",
    "    else: # Unemployed update\n",
    "\n",
    "        # Accept => become employed and hold wage unchanged\n",
    "        if σ_star[wage_idx]:\n",
    "            is_employed = True\n",
    "\n",
    "        # Reject => stay unemployed and update wage\n",
    "        else:\n",
    "            wage_idx = weighted_choice(P[wage_idx, :])\n",
    "\n",
    "    return is_employed, wage_idx"
   ]
  },
  {
   "cell_type": "code",
   "execution_count": null,
   "id": "7782ea05",
   "metadata": {},
   "outputs": [],
   "source": [
    "def simulate_employment_path(\n",
    "        model: Model,     # Model detaisl\n",
    "        T: int = 2_000,   # Simulation length\n",
    "        seed: int = 42    # Set seed for simulation\n",
    "    ):\n",
    "    \"\"\"\n",
    "    Simulate employment path for T periods starting from unemployment.\n",
    "\n",
    "    \"\"\"\n",
    "    np.random.seed(seed)\n",
    "    # Unpack, solve for optimal policy\n",
    "    n, w_vals, P, β, c, α = model\n",
    "    v_star, σ_star = vfi(model)\n",
    "\n",
    "    # A series wage_path to track the wage that the agent will use to\n",
    "    # update their wage offer (constant when employed)\n",
    "    wage_path = np.zeros(T)\n",
    "    # A series to track employment status (0 = unemployed, 1 = employed)\n",
    "    employment_status = np.zeros(T, dtype=int)\n",
    "\n",
    "    # Start unemployed with uniform wage draw\n",
    "    is_employed = False\n",
    "    wage_idx = 0\n",
    "\n",
    "    for t in range(T):\n",
    "        wage_path[t] = w_vals[wage_idx]\n",
    "        employment_status[t] = is_employed\n",
    "        is_employed, wage_idx = update_agent(\n",
    "            is_employed, wage_idx, model, σ_star\n",
    "        )\n",
    "\n",
    "    return wage_path, employment_status"
   ]
  },
  {
   "cell_type": "markdown",
   "id": "23ae5885",
   "metadata": {},
   "source": [
    "Let's create a comprehensive plot of the employment simulation:"
   ]
  },
  {
   "cell_type": "code",
   "execution_count": null,
   "id": "a0206dba",
   "metadata": {},
   "outputs": [],
   "source": [
    "model = create_js_with_sep_model()\n",
    "\n",
    "# Calculate reservation wage for plotting\n",
    "v_star, σ_star = vfi(model)\n",
    "w_star = get_reservation_wage(σ_star, model)\n",
    "\n",
    "wage_path, employment_status = simulate_employment_path(model, T=5_000)\n",
    "\n",
    "fig, (ax1, ax2, ax3) = plt.subplots(3, 1, figsize=(8, 8))\n",
    "\n",
    "# Plot employment status\n",
    "ax1.plot(employment_status, 'b-', alpha=0.7, linewidth=1)\n",
    "ax1.fill_between(\n",
    "    range(len(employment_status)), employment_status, alpha=0.3, color='blue'\n",
    ")\n",
    "ax1.set_ylabel('employment status')\n",
    "ax1.set_title('Employment path (0=unemployed, 1=employed)')\n",
    "ax1.set_xticks((0, 1))\n",
    "ax1.set_ylim(-0.1, 1.1)\n",
    "\n",
    "# Plot wage path with employment status coloring\n",
    "ax2.plot(wage_path, 'b-', alpha=0.7, linewidth=1)\n",
    "ax2.axhline(y=w_star, color='black', linestyle='--', alpha=0.8,\n",
    "           label=f'Reservation wage: {w_star:.2f}')\n",
    "ax2.set_xlabel('time')\n",
    "ax2.set_ylabel('wage')\n",
    "ax2.set_title('Wage path (actual and offers)')\n",
    "ax2.legend()\n",
    "\n",
    "# Plot cumulative fraction of time unemployed\n",
    "unemployed_indicator = (employment_status == 0)\n",
    "cumulative_unemployment = (\n",
    "    np.cumsum(unemployed_indicator) /\n",
    "    np.arange(1, len(employment_status) + 1)\n",
    ")\n",
    "\n",
    "ax3.plot(cumulative_unemployment, 'r-', alpha=0.8, linewidth=2)\n",
    "ax3.axhline(y=np.mean(unemployed_indicator), color='black',\n",
    "            linestyle='--', alpha=0.7,\n",
    "            label=f'Final rate: {np.mean(unemployed_indicator):.3f}')\n",
    "ax3.set_xlabel('time')\n",
    "ax3.set_ylabel('cumulative unemployment rate')\n",
    "ax3.set_title('Cumulative fraction of time spent unemployed')\n",
    "ax3.legend()\n",
    "ax3.set_ylim(0, 1)\n",
    "\n",
    "plt.tight_layout()\n",
    "plt.show()\n",
    "\n",
    "# Print summary statistics"
   ]
  },
  {
   "cell_type": "markdown",
   "id": "4c600bdf",
   "metadata": {},
   "source": [
    "## Results Summary\n",
    "\n",
    "The simulation demonstrates the model's key predictions:\n",
    "\n",
    "1. **Optimal Policy**: The agent follows a reservation wage strategy\n",
    "2. **Employment Dynamics**: Realistic patterns of job search, acceptance, and separation\n",
    "3. **Steady State**: The cumulative unemployment rate converges to the theoretical prediction\n",
    "4. **Labor Market Flows**: Clear cycles between unemployment and employment spells\n",
    "\n",
    "The model successfully captures the essential features of labor market dynamics with job separation, showing how workers optimally balance the trade-off between accepting current offers versus waiting for better opportunities.\n",
    "\n",
    "## Cross-Sectional Analysis\n",
    "\n",
    "Now let's simulate many agents simultaneously to examine the cross-sectional unemployment rate:"
   ]
  },
  {
   "cell_type": "code",
   "execution_count": null,
   "id": "b3092664",
   "metadata": {},
   "outputs": [],
   "source": [
    "@numba.jit\n",
    "def simulate_cross_section_numba(\n",
    "        employment_matrix, is_employed, wage_indices, model, σ_star,\n",
    "        n_agents, T\n",
    "    ):\n",
    "    \"\"\"Numba-accelerated simulation loop.\"\"\"\n",
    "    for t in range(T):\n",
    "        for agent in range(n_agents):\n",
    "            employment_matrix[agent, t] = 1 if is_employed[agent] else 0\n",
    "            is_employed[agent], wage_indices[agent] = update_agent(\n",
    "                is_employed[agent], wage_indices[agent], model, σ_star\n",
    "            )\n",
    "\n",
    "def simulate_cross_section(\n",
    "        model: Model,\n",
    "        n_agents: int = 100_000,\n",
    "        T: int = 200,\n",
    "        seed: int = 42\n",
    "    ) -> tuple[np.ndarray, np.ndarray]:\n",
    "    \"\"\"\n",
    "    Simulate employment paths for many agents simultaneously.\n",
    "\n",
    "    Parameters:\n",
    "    - model: Model instance with parameters\n",
    "    - n_agents: Number of agents to simulate\n",
    "    - T: Number of periods to simulate\n",
    "    - seed: Random seed for reproducibility\n",
    "\n",
    "    Returns:\n",
    "    - unemployment_rates: Fraction of agents unemployed at each period\n",
    "    - employment_matrix: n_agents x T matrix of employment status\n",
    "    \"\"\"\n",
    "    np.random.seed(seed)\n",
    "\n",
    "    # Solve for optimal policy\n",
    "    v_star, σ_star = vfi(model)\n",
    "    n, w_vals, P, β, c, α = model\n",
    "\n",
    "    # Initialize arrays\n",
    "    employment_matrix = np.zeros((n_agents, T), dtype=np.int32)\n",
    "    wage_indices = np.random.randint(0, n, size=n_agents)\n",
    "    is_employed = np.zeros(n_agents, dtype=np.bool_)\n",
    "\n",
    "    # Run the accelerated simulation\n",
    "    simulate_cross_section_numba(\n",
    "        employment_matrix, is_employed, wage_indices, model, σ_star,\n",
    "        n_agents, T\n",
    "    )\n",
    "\n",
    "    # Calculate unemployment rate at each period\n",
    "    unemployment_rates = 1 - np.mean(employment_matrix, axis=0)\n",
    "\n",
    "    return unemployment_rates, employment_matrix\n",
    "\n",
    "def plot_cross_sectional_unemployment(model: Model):\n",
    "    \"\"\"\n",
    "    Generate cross-sectional unemployment rate plot for a given model.\n",
    "\n",
    "    Parameters:\n",
    "    - model: Model instance with parameters\n",
    "    \"\"\"\n",
    "    unemployment_rates, employment_matrix = simulate_cross_section(model)\n",
    "\n",
    "    fig, ax = plt.subplots()\n",
    "\n",
    "    # Plot unemployment rate over time\n",
    "    ax.plot(unemployment_rates, 'b-', alpha=0.8, linewidth=1.5,\n",
    "            label=f'Cross-sectional unemployment rate (c={model.c})')\n",
    "\n",
    "    # Add shaded region for ±1 standard deviation\n",
    "    window_size = 50\n",
    "    rolling_std = np.array([\n",
    "        np.std(unemployment_rates[max(0, t-window_size):t+1])\n",
    "        for t in range(len(unemployment_rates))\n",
    "    ])\n",
    "\n",
    "    ax.fill_between(range(len(unemployment_rates)),\n",
    "                    unemployment_rates - rolling_std,\n",
    "                    unemployment_rates + rolling_std,\n",
    "                    alpha=0.2, color='blue',\n",
    "                    label='±1 rolling std')\n",
    "\n",
    "    ax.set_xlabel('time')\n",
    "    ax.set_ylabel('unemployment rate')\n",
    "    ax.set_title(f'Cross-sectional unemployment rate (c={model.c})')\n",
    "    ax.set_ylim(0, 1)\n",
    "    ax.grid(alpha=0.3)\n",
    "    ax.legend()\n",
    "\n",
    "    plt.tight_layout()\n",
    "    plt.show()"
   ]
  },
  {
   "cell_type": "code",
   "execution_count": null,
   "id": "689206a9",
   "metadata": {},
   "outputs": [],
   "source": [
    "model = create_js_with_sep_model()\n",
    "plot_cross_sectional_unemployment(model)"
   ]
  },
  {
   "cell_type": "markdown",
   "id": "bc8db15e",
   "metadata": {},
   "source": [
    "## Cross-Sectional Analysis with Lower Unemployment Compensation (c=0.5)\n",
    "\n",
    "Let's examine how the cross-sectional unemployment rate changes with lower unemployment compensation:"
   ]
  },
  {
   "cell_type": "code",
   "execution_count": null,
   "id": "225aa5e8",
   "metadata": {},
   "outputs": [],
   "source": [
    "model_low_c = create_js_with_sep_model(c=0.5)\n",
    "plot_cross_sectional_unemployment(model_low_c)"
   ]
  },
  {
   "cell_type": "markdown",
   "id": "dc35d070",
   "metadata": {},
   "source": [
    "## Exercise\n",
    "\n",
    "Create a plot that shows how the steady state cross-sectional unemployment rate\n",
    "changes with unemployment compensation."
   ]
  },
  {
   "cell_type": "code",
   "execution_count": null,
   "id": "d1f5be80",
   "metadata": {},
   "outputs": [],
   "source": [
    "# put your code here"
   ]
  },
  {
   "cell_type": "code",
   "execution_count": null,
   "id": "2e013233",
   "metadata": {},
   "outputs": [],
   "source": [
    "for _ in range(20):\n",
    "    print('Solution below!')"
   ]
  },
  {
   "cell_type": "markdown",
   "id": "b13a2fb0",
   "metadata": {},
   "source": [
    "## Solution"
   ]
  },
  {
   "cell_type": "code",
   "execution_count": null,
   "id": "4849e999",
   "metadata": {},
   "outputs": [],
   "source": [
    "c_values = 1.0, 0.8, 0.6, 0.4, 0.2\n",
    "rates = []\n",
    "for c in c_values:\n",
    "    model = create_js_with_sep_model(c=c)\n",
    "    unemployment_rates, employment_matrix = simulate_cross_section(model)\n",
    "    rates.append(unemployment_rates[-1])"
   ]
  },
  {
   "cell_type": "code",
   "execution_count": null,
   "id": "ce1ad7dd",
   "metadata": {},
   "outputs": [],
   "source": [
    "fig, ax = plt.subplots()\n",
    "ax.plot(\n",
    "    c_values, rates, alpha=0.8, \n",
    "    linewidth=1.5, label=f'Unemployment rate'\n",
    ")\n",
    "ax.legend(frameon=False)\n",
    "plt.show()"
   ]
  },
  {
   "cell_type": "code",
   "execution_count": null,
   "id": "74d39737",
   "metadata": {},
   "outputs": [],
   "source": []
  }
 ],
 "metadata": {
  "jupytext": {
   "default_lexer": "ipython3"
  },
  "kernelspec": {
   "display_name": "Python 3 (ipykernel)",
   "language": "python",
   "name": "python3"
  }
 },
 "nbformat": 4,
 "nbformat_minor": 5
}
