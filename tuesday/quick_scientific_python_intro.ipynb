{
 "cells": [
  {
   "cell_type": "markdown",
   "id": "386d7729",
   "metadata": {},
   "source": [
    "## Quick scientific Python introduction\n",
    "\n",
    "**Prepared for the Bank of Portugal Computational Economics Course (Oct 2025)**\n",
    "\n",
    "**Author:** [John Stachurski](https://johnstachurski.net)\n",
    "\n",
    "This notebook does a \"whirlwind tour\" of the functionality that the scientific Python stack exposes."
   ]
  },
  {
   "cell_type": "markdown",
   "id": "7dabc255",
   "metadata": {},
   "source": [
    "## Numpy"
   ]
  },
  {
   "cell_type": "code",
   "execution_count": null,
   "id": "f99f21e4",
   "metadata": {},
   "outputs": [],
   "source": [
    "import numpy as np"
   ]
  },
  {
   "cell_type": "markdown",
   "id": "b52e4c4b",
   "metadata": {},
   "source": [
    "NumPy is one of the core scientific libraries used in Python.\n",
    "\n",
    "It introduces an \"array\" type. \n",
    "\n",
    "This array type allows for users to represent vectors, matrices, and higher dimensional arrays."
   ]
  },
  {
   "cell_type": "code",
   "execution_count": null,
   "id": "9b0e35f1",
   "metadata": {},
   "outputs": [],
   "source": [
    "x = np.array([0.0, 1.0, 2.0])\n",
    "\n",
    "y = np.array([[0.0, 1.0], \n",
    "              [2.0, 3.0], \n",
    "              [4.0, 5.0]])"
   ]
  },
  {
   "cell_type": "code",
   "execution_count": null,
   "id": "98bc3905",
   "metadata": {},
   "outputs": [],
   "source": [
    "x"
   ]
  },
  {
   "cell_type": "code",
   "execution_count": null,
   "id": "ebe8d8ff",
   "metadata": {},
   "outputs": [],
   "source": [
    "y"
   ]
  },
  {
   "cell_type": "code",
   "execution_count": null,
   "id": "d4f7564d",
   "metadata": {},
   "outputs": [],
   "source": [
    "y.shape"
   ]
  },
  {
   "cell_type": "code",
   "execution_count": null,
   "id": "0a3af259",
   "metadata": {},
   "outputs": [],
   "source": [
    "y.T"
   ]
  },
  {
   "cell_type": "code",
   "execution_count": null,
   "id": "e2be59b8",
   "metadata": {},
   "outputs": [],
   "source": [
    "y.T.shape"
   ]
  },
  {
   "cell_type": "markdown",
   "id": "ae96fb3c",
   "metadata": {},
   "source": [
    "**Indexing**"
   ]
  },
  {
   "cell_type": "markdown",
   "id": "c33029a7",
   "metadata": {},
   "source": [
    "We can select elements out of the array by indexing into the arrays"
   ]
  },
  {
   "cell_type": "code",
   "execution_count": null,
   "id": "30e88c0c",
   "metadata": {},
   "outputs": [],
   "source": [
    "x[0]"
   ]
  },
  {
   "cell_type": "code",
   "execution_count": null,
   "id": "9af48f6c",
   "metadata": {},
   "outputs": [],
   "source": [
    "y[:, 1]  # Select column 1 "
   ]
  },
  {
   "cell_type": "markdown",
   "id": "643bd697",
   "metadata": {},
   "source": [
    "### Special array creation methods"
   ]
  },
  {
   "cell_type": "markdown",
   "id": "2ab9f56d",
   "metadata": {},
   "source": [
    "**Create an empty array**"
   ]
  },
  {
   "cell_type": "code",
   "execution_count": null,
   "id": "c84daf7f",
   "metadata": {},
   "outputs": [],
   "source": [
    "np.empty((5, 2))"
   ]
  },
  {
   "cell_type": "markdown",
   "id": "b2c59d1c",
   "metadata": {},
   "source": [
    "**Create an array filled with zeros**"
   ]
  },
  {
   "cell_type": "code",
   "execution_count": null,
   "id": "89863604",
   "metadata": {},
   "outputs": [],
   "source": [
    "np.zeros(10)"
   ]
  },
  {
   "cell_type": "markdown",
   "id": "99b91f37",
   "metadata": {},
   "source": [
    "**Create an array filled with ones**"
   ]
  },
  {
   "cell_type": "code",
   "execution_count": null,
   "id": "ea0657b6",
   "metadata": {},
   "outputs": [],
   "source": [
    "np.ones((2, 5))"
   ]
  },
  {
   "cell_type": "markdown",
   "id": "24429bad",
   "metadata": {},
   "source": [
    "**Create a vector filled with numbers from i to n**"
   ]
  },
  {
   "cell_type": "code",
   "execution_count": null,
   "id": "a5c272c2",
   "metadata": {},
   "outputs": [],
   "source": [
    "np.arange(1, 7)"
   ]
  },
  {
   "cell_type": "markdown",
   "id": "43452d88",
   "metadata": {},
   "source": [
    "**Create a vector filled with n evenly spaced numbers from x to z**"
   ]
  },
  {
   "cell_type": "code",
   "execution_count": null,
   "id": "01b9d559",
   "metadata": {},
   "outputs": [],
   "source": [
    "np.linspace(0, 5, 11)"
   ]
  },
  {
   "cell_type": "markdown",
   "id": "f28a2bd4",
   "metadata": {},
   "source": [
    "**Create a vector filled with U(0, 1)**"
   ]
  },
  {
   "cell_type": "code",
   "execution_count": null,
   "id": "3f6e80c9",
   "metadata": {},
   "outputs": [],
   "source": [
    "np.random.rand(2, 3)"
   ]
  },
  {
   "cell_type": "markdown",
   "id": "e508e9a9",
   "metadata": {},
   "source": [
    "**Create a vector filled with N(0, 1)**"
   ]
  },
  {
   "cell_type": "code",
   "execution_count": null,
   "id": "43d5e522",
   "metadata": {},
   "outputs": [],
   "source": [
    "np.random.randn(2, 2, 3)"
   ]
  },
  {
   "cell_type": "markdown",
   "id": "01d1271f",
   "metadata": {},
   "source": [
    "### Operations on Arrays\n",
    "\n",
    "Operations on arrays are typically element by element."
   ]
  },
  {
   "cell_type": "code",
   "execution_count": null,
   "id": "9e08145f",
   "metadata": {},
   "outputs": [],
   "source": [
    "z = np.full(3, 10.0)\n",
    "print(f\"    x = {x}\")\n",
    "print(f\"    z = {z}\")\n",
    "print(f\"z + x = {z + x}\")"
   ]
  },
  {
   "cell_type": "markdown",
   "id": "b1ef2870",
   "metadata": {},
   "source": [
    "**Operations between scalars and arrays**\n",
    "\n",
    "These operations do mostly what you would expect -- They apply the scalar operation to each individual element of the array."
   ]
  },
  {
   "cell_type": "code",
   "execution_count": null,
   "id": "f2062274",
   "metadata": {},
   "outputs": [],
   "source": [
    "x"
   ]
  },
  {
   "cell_type": "code",
   "execution_count": null,
   "id": "b8e9eb3f",
   "metadata": {},
   "outputs": [],
   "source": [
    "x + 1"
   ]
  },
  {
   "cell_type": "code",
   "execution_count": null,
   "id": "2b08e6a6",
   "metadata": {},
   "outputs": [],
   "source": [
    "x * 3"
   ]
  },
  {
   "cell_type": "code",
   "execution_count": null,
   "id": "3cee62fd",
   "metadata": {},
   "outputs": [],
   "source": [
    "x - 3"
   ]
  },
  {
   "cell_type": "markdown",
   "id": "e0e7c5a7",
   "metadata": {},
   "source": [
    "#### Operations between arrays of different sizes\n",
    "\n",
    "In general, for pointwise operations between arrays of different shape, NumPy uses *broadcasting* rules."
   ]
  },
  {
   "cell_type": "code",
   "execution_count": null,
   "id": "aae1ff69",
   "metadata": {},
   "outputs": [],
   "source": [
    "z = np.ones((3, 1)) * 10\n",
    "print(z)\n",
    "print()\n",
    "print(y)\n",
    "print()\n",
    "print(z + y)"
   ]
  },
  {
   "cell_type": "markdown",
   "id": "61361465",
   "metadata": {},
   "source": [
    "#### Matrix Multiplication"
   ]
  },
  {
   "cell_type": "code",
   "execution_count": null,
   "id": "8b34d04d",
   "metadata": {},
   "outputs": [],
   "source": [
    "print(y)\n",
    "print(y @ y.T)"
   ]
  },
  {
   "cell_type": "markdown",
   "id": "74ae6ef0",
   "metadata": {},
   "source": [
    "We can use `@` for inner products too:"
   ]
  },
  {
   "cell_type": "code",
   "execution_count": null,
   "id": "54e4d086",
   "metadata": {},
   "outputs": [],
   "source": [
    "z = np.random.randn(10)\n",
    "print(np.sum(z * z))\n",
    "print(z @ z)"
   ]
  },
  {
   "cell_type": "markdown",
   "id": "c34ab02e",
   "metadata": {},
   "source": [
    "### Reductions\n",
    "\n",
    "In NumPy-speak, *reductions* are functions that map an array into a single value.\n",
    "\n",
    "Here we demonstrate a few of the most common array functions and some reductions:"
   ]
  },
  {
   "cell_type": "code",
   "execution_count": null,
   "id": "94ec1db8",
   "metadata": {},
   "outputs": [],
   "source": [
    "np.cumsum(x)"
   ]
  },
  {
   "cell_type": "code",
   "execution_count": null,
   "id": "ed75ad56",
   "metadata": {},
   "outputs": [],
   "source": [
    "np.mean(z)"
   ]
  },
  {
   "cell_type": "code",
   "execution_count": null,
   "id": "246f576a",
   "metadata": {},
   "outputs": [],
   "source": [
    "np.var(z)"
   ]
  },
  {
   "cell_type": "code",
   "execution_count": null,
   "id": "a09a3a9b",
   "metadata": {},
   "outputs": [],
   "source": [
    "np.std(np.random.randn(100_000))"
   ]
  },
  {
   "cell_type": "markdown",
   "id": "f239c57f",
   "metadata": {},
   "source": [
    "### Universal functions\n",
    "\n",
    "Universal functions (\"ufuncs\") are maps that operate directly on n-dimensional arrays in an element-by-element fashion."
   ]
  },
  {
   "cell_type": "code",
   "execution_count": null,
   "id": "190182b2",
   "metadata": {},
   "outputs": [],
   "source": [
    "np.sin(x)"
   ]
  },
  {
   "cell_type": "code",
   "execution_count": null,
   "id": "61fab543",
   "metadata": {},
   "outputs": [],
   "source": [
    "np.exp(x)"
   ]
  },
  {
   "cell_type": "markdown",
   "id": "0dc953e0",
   "metadata": {},
   "source": [
    "## Matplotlib\n",
    "\n",
    "The \"default\" plotting package for most of the Python world is `matplotlib`.\n",
    "\n",
    "It is a very flexible package and allows for creating very good looking graphs (in spite of relatively simple defaults)"
   ]
  },
  {
   "cell_type": "code",
   "execution_count": null,
   "id": "fb3808c3",
   "metadata": {},
   "outputs": [],
   "source": [
    "import matplotlib.pyplot as plt"
   ]
  },
  {
   "cell_type": "markdown",
   "id": "44db0fda",
   "metadata": {},
   "source": [
    "### Figure/Axis\n",
    "\n",
    "The main pieces of a graph in `matplotlib` are a \"figure\" and an \"axis\". We’ve found that the easiest way for us to distinguish between the figure and axis objects is to think about them as a framed painting.\n",
    "\n",
    "The axis is the canvas; it is where we “draw” our plots.\n",
    "\n",
    "The figure is the entire framed painting (which inclues the axis itself!).\n",
    "\n",
    "We can see this difference by setting certain elements of the figure to different colors."
   ]
  },
  {
   "cell_type": "code",
   "execution_count": null,
   "id": "28eed5dc",
   "metadata": {},
   "outputs": [],
   "source": [
    "fig, ax = plt.subplots()\n",
    "\n",
    "fig.set_facecolor(\"green\")\n",
    "ax.set_facecolor(\"blue\")"
   ]
  },
  {
   "cell_type": "markdown",
   "id": "59bd03f3",
   "metadata": {},
   "source": [
    "### More"
   ]
  },
  {
   "cell_type": "markdown",
   "id": "cb4eff85",
   "metadata": {},
   "source": [
    "**Scatter plots**"
   ]
  },
  {
   "cell_type": "code",
   "execution_count": null,
   "id": "fd1425a2",
   "metadata": {},
   "outputs": [],
   "source": [
    "x = np.random.randn(5_000)\n",
    "y = np.random.randn(5_000)\n",
    "\n",
    "fig, ax = plt.subplots()\n",
    "\n",
    "ax.scatter(x, y, color=\"DarkBlue\", alpha=0.05, s=25)"
   ]
  },
  {
   "cell_type": "markdown",
   "id": "7586ece7",
   "metadata": {},
   "source": [
    "**Line plots**"
   ]
  },
  {
   "cell_type": "code",
   "execution_count": null,
   "id": "30f3c853",
   "metadata": {},
   "outputs": [],
   "source": [
    "x = np.linspace(0, 10)\n",
    "y = np.sin(x)\n",
    "\n",
    "fig, ax = plt.subplots()\n",
    "\n",
    "ax.plot(x, y, linestyle=\"-\", color=\"k\")\n",
    "ax.plot(x, 2*y, linestyle=\"--\", color=\"k\")\n",
    "\n",
    "# Bonus - Fill between two lines\n",
    "ax.fill_between(x, y, 2*y, color=\"LightBlue\", alpha=0.3)"
   ]
  },
  {
   "cell_type": "markdown",
   "id": "3c5bc0be",
   "metadata": {},
   "source": [
    "**Bar plots**"
   ]
  },
  {
   "cell_type": "code",
   "execution_count": null,
   "id": "ed778fa5",
   "metadata": {},
   "outputs": [],
   "source": [
    "x = np.arange(10)\n",
    "y = np.cos(x)\n",
    "fig, ax = plt.subplots(figsize=(6, 4))\n",
    "ax.bar(x, y)"
   ]
  },
  {
   "cell_type": "markdown",
   "id": "23aa338d",
   "metadata": {},
   "source": [
    "**Histograms**"
   ]
  },
  {
   "cell_type": "code",
   "execution_count": null,
   "id": "00544a63",
   "metadata": {},
   "outputs": [],
   "source": [
    "x = np.random.randn(5000)\n",
    "fig, ax = plt.subplots()\n",
    "_ = ax.hist(x, bins=25, density=True)"
   ]
  },
  {
   "cell_type": "markdown",
   "id": "ae2862d9",
   "metadata": {},
   "source": [
    "**Plotting piecewise linear interpolation**"
   ]
  },
  {
   "cell_type": "code",
   "execution_count": null,
   "id": "07b36036",
   "metadata": {},
   "outputs": [],
   "source": [
    "x = np.linspace(0.25, 10.0, 15)  # interpolation points on x axis\n",
    "y = np.sin(x)                    # interpolation points on y axis\n",
    "\n",
    "x_interp = np.linspace(0.0, 11, 100)    # x points where we seek interpolated values\n",
    "y_interp = np.interp(x_interp, x, y)    # interpolated values\n",
    "\n",
    "fig, ax = plt.subplots()\n",
    "ax.scatter(x, y, color=\"r\", s=20, label='interpolation points')\n",
    "ax.plot(x_interp, y_interp, alpha=0.5, lw=2, label='interpolated values')\n",
    "ax.set_yticks((-1, 0, 1))\n",
    "ax.legend()"
   ]
  },
  {
   "cell_type": "markdown",
   "id": "9c2261b8",
   "metadata": {},
   "source": [
    "## Scipy\n",
    "\n",
    "`scipy` is a package that is closely related to `numpy`.\n",
    "\n",
    "While `numpy` introduces the array type and some basic functionality on top of that array, `scipy` extends these arrays further by providing higher level functionality with access to a variety of useful tools for science."
   ]
  },
  {
   "cell_type": "markdown",
   "id": "a9d55efa",
   "metadata": {},
   "source": [
    "### Interpolation\n",
    "\n",
    "NumPy provides basic linear interpolation, as shown above.\n",
    "\n",
    "The function `scipy.interpolate` provides more options"
   ]
  },
  {
   "cell_type": "code",
   "execution_count": null,
   "id": "3fc23d34",
   "metadata": {},
   "outputs": [],
   "source": [
    "import scipy.interpolate as interp"
   ]
  },
  {
   "cell_type": "markdown",
   "id": "2a79e52a",
   "metadata": {},
   "source": [
    "**Piecewise cubic**"
   ]
  },
  {
   "cell_type": "code",
   "execution_count": null,
   "id": "fe576f3a",
   "metadata": {},
   "outputs": [],
   "source": [
    "f = interp.interp1d(x, y, kind=\"cubic\", fill_value=\"extrapolate\")\n",
    "y_interp = f(x_interp)\n",
    "\n",
    "fig, ax = plt.subplots()\n",
    "ax.scatter(x, y, color=\"r\", s=20)\n",
    "ax.plot(x_interp, y_interp, lw=2, alpha=0.5)"
   ]
  },
  {
   "cell_type": "markdown",
   "id": "46af382a",
   "metadata": {},
   "source": [
    "**Other**"
   ]
  },
  {
   "cell_type": "code",
   "execution_count": null,
   "id": "fc3ad5b4",
   "metadata": {},
   "outputs": [],
   "source": [
    "f = interp.PchipInterpolator(x, y, extrapolate=True)\n",
    "y_interp = f(x_interp)\n",
    "\n",
    "fig, ax = plt.subplots()\n",
    "ax.scatter(x, y, color=\"r\", s=20)\n",
    "ax.plot(x_interp, y_interp, linewidth=2, alpha=0.5)"
   ]
  },
  {
   "cell_type": "markdown",
   "id": "f74b08f4",
   "metadata": {},
   "source": [
    "### Linear algebra\n",
    "\n",
    "Linear algebra is a core component of many toolkits. `numpy` itself has a small set of core operations that are within a package called `numpy.linalg` but `scipy.linalg` contains a superset of those operations."
   ]
  },
  {
   "cell_type": "code",
   "execution_count": null,
   "id": "3b6b0d0c",
   "metadata": {},
   "outputs": [],
   "source": [
    "import scipy.linalg as la"
   ]
  },
  {
   "cell_type": "markdown",
   "id": "f5e61d73",
   "metadata": {},
   "source": [
    "**Lots of your standard linear algebra tools**"
   ]
  },
  {
   "cell_type": "code",
   "execution_count": null,
   "id": "c6bf9a77",
   "metadata": {},
   "outputs": [],
   "source": [
    "X = np.array([\n",
    "    [0.5, 0.3, 0.0],\n",
    "    [0.3, 0.5, 0.4],\n",
    "    [0.0, 0.4, 0.75]\n",
    "])"
   ]
  },
  {
   "cell_type": "code",
   "execution_count": null,
   "id": "ffe79ed5",
   "metadata": {},
   "outputs": [],
   "source": [
    "la.cholesky(X)"
   ]
  },
  {
   "cell_type": "code",
   "execution_count": null,
   "id": "3bd10be5",
   "metadata": {},
   "outputs": [],
   "source": [
    "la.solve(X, np.array([0.0, 0.5, 0.3]))"
   ]
  },
  {
   "cell_type": "code",
   "execution_count": null,
   "id": "32b6d218",
   "metadata": {},
   "outputs": [],
   "source": [
    "la.eigvals(X)"
   ]
  },
  {
   "cell_type": "code",
   "execution_count": null,
   "id": "221ec84e",
   "metadata": {},
   "outputs": [],
   "source": [
    "Q, R = la.qr(X)\n",
    "print(Q, R)"
   ]
  },
  {
   "cell_type": "code",
   "execution_count": null,
   "id": "5cb6d127",
   "metadata": {},
   "outputs": [],
   "source": [
    "X"
   ]
  },
  {
   "cell_type": "code",
   "execution_count": null,
   "id": "3c032aaa",
   "metadata": {},
   "outputs": [],
   "source": [
    "Q @ R"
   ]
  },
  {
   "cell_type": "code",
   "execution_count": null,
   "id": "357ae362",
   "metadata": {},
   "outputs": [],
   "source": [
    "la.inv(X) @ X"
   ]
  },
  {
   "cell_type": "markdown",
   "id": "810a6570",
   "metadata": {},
   "source": [
    "### Statistics\n",
    "\n",
    "We often want to work with various probability distributions. \n",
    "\n",
    "We could code up the pdf or a sampler ourselves but this work is largely done for us within `scipy.statistics`."
   ]
  },
  {
   "cell_type": "code",
   "execution_count": null,
   "id": "a6daeac4",
   "metadata": {},
   "outputs": [],
   "source": [
    "import scipy.stats as st"
   ]
  },
  {
   "cell_type": "code",
   "execution_count": null,
   "id": "5e62c4f5",
   "metadata": {},
   "outputs": [],
   "source": [
    "# location specifies the mean / scale specifies the standard deviation\n",
    "d = st.norm(loc=2.0, scale=4.0)"
   ]
  },
  {
   "cell_type": "code",
   "execution_count": null,
   "id": "5834c252",
   "metadata": {},
   "outputs": [],
   "source": [
    "# Draw random samples\n",
    "d.rvs(25)"
   ]
  },
  {
   "cell_type": "code",
   "execution_count": null,
   "id": "b740ffcc",
   "metadata": {},
   "outputs": [],
   "source": [
    "# Probability density function\n",
    "d.pdf(0.5)"
   ]
  },
  {
   "cell_type": "code",
   "execution_count": null,
   "id": "8b84b405",
   "metadata": {},
   "outputs": [],
   "source": [
    "# Cumulative density function\n",
    "d.cdf(2.0)"
   ]
  },
  {
   "cell_type": "code",
   "execution_count": null,
   "id": "10a75302",
   "metadata": {},
   "outputs": [],
   "source": [
    "# Fit a normal rv to N(0, 1) data\n",
    "st.norm.fit(12 + 4 * np.random.randn(100_000))"
   ]
  },
  {
   "cell_type": "markdown",
   "id": "7a43a311",
   "metadata": {},
   "source": [
    "SciPy's API for working with probability distributions is a bit weird but the code is stable and well-written."
   ]
  },
  {
   "cell_type": "markdown",
   "id": "180613ec",
   "metadata": {},
   "source": [
    "## Numba\n",
    "\n",
    "`numba` is a very exciting, and powerful package, that brings \"just-in-time\" (JIT) compilation technology to Python."
   ]
  },
  {
   "cell_type": "code",
   "execution_count": null,
   "id": "236aca78",
   "metadata": {},
   "outputs": [],
   "source": [
    "import numpy as np\n",
    "\n",
    "\n",
    "def calculate_pi_python(n=1_000_000):\n",
    "    \"\"\"\n",
    "    Approximates π as follows:\n",
    "\n",
    "    For a circle of radius 1/2, area = π r^2 = π / 4 \n",
    "\n",
    "    Hence π = 4 area.\n",
    "\n",
    "    We estimate the area of a circle C of radius 1/2 inside the unit square S = [0, 1] x [0, 1].\n",
    "\n",
    "        area = probability that a uniform distribution on S assigns to C\n",
    "        area is approximately fraction of uniform draws in S that fall in C\n",
    "\n",
    "    Then we estimate π using the formula above.\n",
    "    \"\"\"\n",
    "    in_circ = 0\n",
    "\n",
    "    for i in range(n):\n",
    "        # Draw (x, y) uniformly on S\n",
    "        x = np.random.random()\n",
    "        y = np.random.random()\n",
    "        # Increment counter if (x, y) falls in C\n",
    "        if np.sqrt((x - 0.5)**2 + (y - 0.5)**2) < 1/2:\n",
    "            in_circ += 1\n",
    "\n",
    "    approximate_area = in_circ / n\n",
    "\n",
    "    return 4 * approximate_area"
   ]
  },
  {
   "cell_type": "code",
   "execution_count": null,
   "id": "d5b2eea0",
   "metadata": {},
   "outputs": [],
   "source": [
    "%%timeit\n",
    "\n",
    "calculate_pi_python(1_000_000)"
   ]
  },
  {
   "cell_type": "markdown",
   "id": "8d433f89",
   "metadata": {},
   "source": [
    "_Fortran_"
   ]
  },
  {
   "cell_type": "code",
   "execution_count": null,
   "id": "89dda1f1",
   "metadata": {},
   "outputs": [],
   "source": [
    "#pip install meson ninja  # Uncomment if you wish\n",
    "#pip install fortran-magic"
   ]
  },
  {
   "cell_type": "code",
   "execution_count": null,
   "id": "e83eb5ed",
   "metadata": {},
   "outputs": [],
   "source": [
    "#sudo apt install gfortran  # Uncomment for Ubuntu or search for instructions for your OS"
   ]
  },
  {
   "cell_type": "code",
   "execution_count": null,
   "id": "16a7546e",
   "metadata": {},
   "outputs": [],
   "source": [
    "%load_ext fortranmagic"
   ]
  },
  {
   "cell_type": "code",
   "execution_count": null,
   "id": "fb18376c",
   "metadata": {},
   "outputs": [],
   "source": [
    "%%fortran\n",
    "\n",
    "subroutine calculate_pi_fortran(n, pi_approx)\n",
    "    implicit none\n",
    "    integer, intent(in) :: n\n",
    "    real, intent(out) :: pi_approx\n",
    "    \n",
    "    integer :: in_circ, i\n",
    "    real :: x, y, distance\n",
    "    real :: approximate_area\n",
    "\n",
    "    in_circ = 0\n",
    "    \n",
    "    CALL RANDOM_SEED\n",
    "    DO i = 1, n\n",
    "        ! Draw (x, y) uniformly on unit square [0,1] x [0,1]\n",
    "        CALL RANDOM_NUMBER(x)\n",
    "        CALL RANDOM_NUMBER(y)\n",
    "        \n",
    "        ! Calculate distance from center (0.5, 0.5)\n",
    "        distance = SQRT((x - 0.5)**2 + (y - 0.5)**2)\n",
    "        \n",
    "        ! Increment counter if (x, y) falls in circle of radius 1/2\n",
    "        IF (distance < 0.5) in_circ = in_circ + 1\n",
    "    END DO\n",
    "\n",
    "    ! Estimate area and then π\n",
    "    approximate_area = REAL(in_circ) / REAL(n)\n",
    "    pi_approx = 4.0 * approximate_area\n",
    "end subroutine calculate_pi_fortran\n"
   ]
  },
  {
   "cell_type": "code",
   "execution_count": null,
   "id": "fd625528",
   "metadata": {},
   "outputs": [],
   "source": [
    "%%timeit\n",
    "\n",
    "calculate_pi_fortran(1_000_000)"
   ]
  },
  {
   "cell_type": "markdown",
   "id": "d2157b95",
   "metadata": {},
   "source": [
    "Clearly Fortran is much faster!"
   ]
  },
  {
   "cell_type": "markdown",
   "id": "611e102f",
   "metadata": {},
   "source": [
    "**JIT compilation**\n",
    "\n",
    "JIT is a relatively modern development which has the goal of bridging some of the gaps between compiled and interpreted.\n",
    "\n",
    "Rather than compile the code ahead of time or interpreting line-by-line, JIT compiles small chunks of the code right before it runs them.\n",
    "\n",
    "For example, recall the function `mc_approximate_pi_python` (that we wrote earlier) that approximates the value of pi using Monte-carlo methods... We might even want to run this function multiple times to average across the approximations. The way that JIT works is,\n",
    "\n",
    "1. Check the input types to the function\n",
    "2. The first time it sees particular types of inputs to the function, it compiles the function assuming those types as inputs and stores this compiled code\n",
    "3. The computer then runs the function using the compiled code -- If it has seen these inputs before, it can jump directly to this step.\n",
    "\n",
    "`numba` is a package that will empower Python with \"JIT super powers\""
   ]
  },
  {
   "cell_type": "markdown",
   "id": "6d32efb3",
   "metadata": {},
   "source": [
    "**What works within Numba?**\n",
    "\n",
    "* Almost all core Python objects. including: lists, tuples, dictionaries, integers, floats, strings\n",
    "* Python logic, including: `if.. elif.. else`, `while`, `for .. in`, `break`, `continue`\n",
    "* NumPy arrays\n",
    "* Many (but not all!) NumPy functions -- This includes `np.interp`!\n",
    "\n",
    "For more information, read these sections from the documentation\n",
    "\n",
    "* [Supported Python features](https://numba.readthedocs.io/en/stable/reference/pysupported.html)\n",
    "* [Supported NumPy  features](https://numba.readthedocs.io/en/stable/reference/numpysupported.html)"
   ]
  },
  {
   "cell_type": "code",
   "execution_count": null,
   "id": "d7ef38b9",
   "metadata": {},
   "outputs": [],
   "source": [
    "import numba"
   ]
  },
  {
   "cell_type": "code",
   "execution_count": null,
   "id": "56a4d731",
   "metadata": {},
   "outputs": [],
   "source": [
    "calculate_pi_numba = numba.jit(calculate_pi_python, nopython=True)"
   ]
  },
  {
   "cell_type": "code",
   "execution_count": null,
   "id": "3cc47c36",
   "metadata": {},
   "outputs": [],
   "source": [
    "%%time\n",
    "\n",
    "calculate_pi_numba(1_000_000)"
   ]
  },
  {
   "cell_type": "code",
   "execution_count": null,
   "id": "abc0aeac",
   "metadata": {},
   "outputs": [],
   "source": [
    "%%timeit\n",
    "\n",
    "calculate_pi_numba(1_000_000)"
   ]
  },
  {
   "cell_type": "markdown",
   "id": "332fe0d3",
   "metadata": {},
   "source": [
    "**Writing parallel code with numba**"
   ]
  },
  {
   "cell_type": "code",
   "execution_count": null,
   "id": "f97843e9",
   "metadata": {},
   "outputs": [],
   "source": [
    "@numba.jit(nopython=True, parallel=True)\n",
    "def calculate_pi_parallel(n=1_000_000):\n",
    "    in_circ = 0\n",
    "\n",
    "    for i in numba.prange(n):\n",
    "        # Draw (x, y) uniformly on S\n",
    "        x = np.random.random()\n",
    "        y = np.random.random()\n",
    "        # Increment counter if (x, y) falls in C\n",
    "        if np.sqrt((x - 0.5)**2 + (y - 0.5)**2) < 1/2:\n",
    "            in_circ += 1\n",
    "\n",
    "    approximate_area = in_circ / n\n",
    "\n",
    "    return 4 * approximate_area"
   ]
  },
  {
   "cell_type": "code",
   "execution_count": null,
   "id": "ac6c3c50",
   "metadata": {},
   "outputs": [],
   "source": [
    "calculate_pi_parallel(1_000_000)"
   ]
  },
  {
   "cell_type": "code",
   "execution_count": null,
   "id": "5ba7f972",
   "metadata": {},
   "outputs": [],
   "source": [
    "%%timeit\n",
    "\n",
    "calculate_pi_parallel(1_000_000)"
   ]
  },
  {
   "cell_type": "markdown",
   "id": "4a2fbf0e",
   "metadata": {},
   "source": [
    "**Writing GPU code with numba**"
   ]
  },
  {
   "cell_type": "code",
   "execution_count": null,
   "id": "4736e7de",
   "metadata": {},
   "outputs": [],
   "source": [
    "import numpy as np\n",
    "\n",
    "from numba import cuda\n",
    "from numba.cuda.random import create_xoroshiro128p_states, xoroshiro128p_uniform_float32"
   ]
  },
  {
   "cell_type": "code",
   "execution_count": null,
   "id": "40f07f0f",
   "metadata": {},
   "outputs": [],
   "source": [
    "@cuda.jit\n",
    "def compute_pi(rng_states, n, out):\n",
    "    thread_id = cuda.grid(1)\n",
    "\n",
    "    # Compute pi by drawing random (x, y) points and finding\n",
    "    # the fraction that lie inside the unit circle\n",
    "    inside = 0\n",
    "    for i in range(n):\n",
    "        x = xoroshiro128p_uniform_float32(rng_states, thread_id)\n",
    "        y = xoroshiro128p_uniform_float32(rng_states, thread_id)\n",
    "        if x**2 + y**2 <= 1.0:\n",
    "            inside += 1\n",
    "\n",
    "    out[thread_id] = 4.0 * inside / n"
   ]
  },
  {
   "cell_type": "code",
   "execution_count": null,
   "id": "447d784d",
   "metadata": {},
   "outputs": [],
   "source": [
    "%%time\n",
    "\n",
    "threads_per_block = 64\n",
    "blocks = 32\n",
    "\n",
    "n = 500\n",
    "\n",
    "rng_states = create_xoroshiro128p_states(threads_per_block*blocks, seed=3252024)\n",
    "out = np.zeros(threads_per_block*blocks, dtype=np.float32)\n",
    "\n",
    "compute_pi[blocks, threads_per_block](rng_states, n, out)"
   ]
  },
  {
   "cell_type": "code",
   "execution_count": null,
   "id": "f6df0748",
   "metadata": {},
   "outputs": [],
   "source": [
    "print(\"As if we sampled: \", threads_per_block*blocks*n)\n",
    "print(\"Pi: \", out.mean())"
   ]
  }
 ],
 "metadata": {
  "jupytext": {
   "default_lexer": "ipython3"
  },
  "kernelspec": {
   "display_name": "Python 3 (ipykernel)",
   "language": "python",
   "name": "python3"
  }
 },
 "nbformat": 4,
 "nbformat_minor": 5
}
