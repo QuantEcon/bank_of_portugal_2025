{
 "cells": [
  {
   "cell_type": "markdown",
   "id": "0bd695a2",
   "metadata": {},
   "source": [
    "# A Quick Introduction to Python\n",
    "\n",
    "**Prepared for the Bank of Portugal Computational Economics Course (Oct 2025)**\n",
    "\n",
    "**Author:** [John Stachurski](https://johnstachurski.net)\n",
    "\n",
    "\n",
    "\n",
    "This notebook provides a super quick introduction to Python.\n",
    "\n",
    "Participants who don't need it can either ask more advanced questions, work, or sleep.\n",
    "\n",
    "Participants who want a slower treatment can either\n",
    "\n",
    "1. slow the class down by asking lots of questions, or\n",
    "1. review the first few [QuantEcon Python programming lectures](https://python-programming.quantecon.org/intro.html) after the class"
   ]
  },
  {
   "cell_type": "markdown",
   "id": "ad73ad0a",
   "metadata": {},
   "source": [
    "## Example Task: Plotting a White Noise Process\n",
    "\n",
    "Task: simulate and plot the white noise process $ \\epsilon_0, \\epsilon_1,\n",
    "\\ldots, \\epsilon_T $, where each draw $ \\epsilon_t $ is independent standard\n",
    "normal.\n",
    "\n",
    "\n",
    "### Version 1\n",
    "\n",
    "Here are a few lines of code that perform the task we set"
   ]
  },
  {
   "cell_type": "code",
   "execution_count": null,
   "id": "71ae964a",
   "metadata": {},
   "outputs": [],
   "source": [
    "import numpy as np\n",
    "import matplotlib.pyplot as plt   \n",
    "\n",
    "ϵ_values = np.random.randn(100)   # 100 draws from N(0, 1)\n",
    "plt.plot(ϵ_values)                # Plot draws\n",
    "plt.show()"
   ]
  },
  {
   "cell_type": "markdown",
   "id": "607400d4",
   "metadata": {},
   "source": [
    "Let’s discuss some aspects of this program."
   ]
  },
  {
   "cell_type": "markdown",
   "id": "408a52d6",
   "metadata": {},
   "source": [
    "#### Imports\n",
    "\n",
    "The first two lines import functionality from external code libraries:"
   ]
  },
  {
   "cell_type": "code",
   "execution_count": null,
   "id": "adca3dae",
   "metadata": {},
   "outputs": [],
   "source": [
    "import numpy as np\n",
    "import matplotlib.pyplot as plt "
   ]
  },
  {
   "cell_type": "markdown",
   "id": "66684918",
   "metadata": {},
   "source": [
    "The first line imports [NumPy](https://python-programming.quantecon.org/numpy.html), a Python package for tasks like\n",
    "\n",
    "- working with arrays (vectors and matrices)  \n",
    "- common mathematical functions like `cos` and `sqrt`  \n",
    "- generating random numbers  \n",
    "- linear algebra, etc.  \n",
    "\n",
    "\n",
    "After `import numpy as np` we have access to these attributes via the syntax `np.attribute`.\n",
    "\n",
    "Here’s two more examples"
   ]
  },
  {
   "cell_type": "code",
   "execution_count": null,
   "id": "ee2325bc",
   "metadata": {},
   "outputs": [],
   "source": [
    "np.sqrt(4)"
   ]
  },
  {
   "cell_type": "code",
   "execution_count": null,
   "id": "e182c173",
   "metadata": {},
   "outputs": [],
   "source": [
    "np.log(4)"
   ]
  },
  {
   "cell_type": "markdown",
   "id": "0bd1758e",
   "metadata": {},
   "source": [
    "#### Why So Many Imports?\n",
    "\n",
    "When you want to do something interesting with Python, you almost always need\n",
    "to import additional functionality.\n",
    "\n",
    "Why is that?"
   ]
  },
  {
   "cell_type": "markdown",
   "id": "b378b52d",
   "metadata": {},
   "source": [
    "#### Importing Names Directly\n",
    "\n",
    "Recall this code that we saw above"
   ]
  },
  {
   "cell_type": "code",
   "execution_count": null,
   "id": "7f59c371",
   "metadata": {},
   "outputs": [],
   "source": [
    "import numpy as np\n",
    "np.sqrt(4)"
   ]
  },
  {
   "cell_type": "markdown",
   "id": "9b84edd1",
   "metadata": {},
   "source": [
    "Here’s another way to access NumPy’s square root function"
   ]
  },
  {
   "cell_type": "code",
   "execution_count": null,
   "id": "3ccb1d2d",
   "metadata": {},
   "outputs": [],
   "source": [
    "from numpy import sqrt\n",
    "sqrt(4)"
   ]
  },
  {
   "cell_type": "markdown",
   "id": "d77eb645",
   "metadata": {},
   "source": [
    "### A Version with a For Loop\n",
    "\n",
    "Here’s a (less efficient) version that illustrates `for` loops and Python lists."
   ]
  },
  {
   "cell_type": "code",
   "execution_count": null,
   "id": "f9cbd330",
   "metadata": {},
   "outputs": [],
   "source": [
    "ts_length = 100\n",
    "ϵ_values = []       # Empty list\n",
    "\n",
    "for i in range(ts_length):\n",
    "    e = np.random.randn()\n",
    "    ϵ_values.append(e)\n",
    "\n",
    "plt.plot(ϵ_values)\n",
    "plt.show()"
   ]
  },
  {
   "cell_type": "markdown",
   "id": "1c016a68",
   "metadata": {},
   "source": [
    "How does it work?\n",
    "\n",
    "How do you like significant whitespace??"
   ]
  },
  {
   "cell_type": "markdown",
   "id": "e6b3906f",
   "metadata": {},
   "source": [
    "#### Lists\n",
    "\n",
    "\n",
    "Consider the statement `ϵ_values = []`, which creates an empty list.\n",
    "\n",
    "Lists are a native Python data structure used to group a collection of objects.\n",
    "\n",
    "Here's another:"
   ]
  },
  {
   "cell_type": "code",
   "execution_count": null,
   "id": "fed0de85",
   "metadata": {},
   "outputs": [],
   "source": [
    "x = [10, 'foo', False]\n",
    "type(x)"
   ]
  },
  {
   "cell_type": "markdown",
   "id": "2709fef5",
   "metadata": {},
   "source": [
    "When adding a value to a list, we can use the syntax `list_name.append(some_value)`"
   ]
  },
  {
   "cell_type": "code",
   "execution_count": null,
   "id": "ba8dcdbc",
   "metadata": {},
   "outputs": [],
   "source": [
    "x.append(2.5)\n",
    "x"
   ]
  },
  {
   "cell_type": "markdown",
   "id": "badbbcd1",
   "metadata": {},
   "source": [
    "Here `append()` is what’s called a **method**, which is a function \"attached to\" an object -- in this case, the list `x`.\n",
    "\n",
    "- Python objects such as lists and strings all have methods that can\n",
    "  manipulate data contained in the object.  \n",
    "- String objects have string methods, list objects have list methods, etc.\n",
    "\n",
    "Another useful list method is `pop()`"
   ]
  },
  {
   "cell_type": "code",
   "execution_count": null,
   "id": "b5ec6f29",
   "metadata": {},
   "outputs": [],
   "source": [
    "x"
   ]
  },
  {
   "cell_type": "code",
   "execution_count": null,
   "id": "a2bf6035",
   "metadata": {},
   "outputs": [],
   "source": [
    "x.pop()"
   ]
  },
  {
   "cell_type": "code",
   "execution_count": null,
   "id": "f1b433c4",
   "metadata": {},
   "outputs": [],
   "source": [
    "x"
   ]
  },
  {
   "cell_type": "markdown",
   "id": "4609137d",
   "metadata": {},
   "source": [
    "How can I get a list of all methods?\n",
    "\n",
    "\n",
    "### Indices\n",
    "\n",
    "Lists in Python are zero-based (as in C, Java or Go), so the first element is referenced by `x[0]`"
   ]
  },
  {
   "cell_type": "code",
   "execution_count": null,
   "id": "f78774bc",
   "metadata": {},
   "outputs": [],
   "source": [
    "x[0]   # First element of x"
   ]
  },
  {
   "cell_type": "code",
   "execution_count": null,
   "id": "d7d695f0",
   "metadata": {},
   "outputs": [],
   "source": [
    "x[1]   # Second element of x"
   ]
  },
  {
   "cell_type": "markdown",
   "id": "f9ac13c0",
   "metadata": {},
   "source": [
    "Who likes zero based lists/arrays?\n",
    "\n",
    "\n",
    "To get the last element use?"
   ]
  },
  {
   "cell_type": "markdown",
   "id": "eef26329",
   "metadata": {},
   "source": [
    "### While Loops\n",
    "\n",
    "\n",
    "For the purpose of illustration, let’s modify our program to use a `while` loop instead of a `for` loop."
   ]
  },
  {
   "cell_type": "code",
   "execution_count": null,
   "id": "93e88265",
   "metadata": {},
   "outputs": [],
   "source": [
    "ts_length = 100\n",
    "ϵ_values = []\n",
    "i = 0\n",
    "while i < ts_length:\n",
    "    e = np.random.randn()\n",
    "    ϵ_values.append(e)\n",
    "    i = i + 1             # Equivalent: i += 1\n",
    "plt.plot(ϵ_values)\n",
    "plt.show()"
   ]
  },
  {
   "cell_type": "markdown",
   "id": "44395edc",
   "metadata": {},
   "source": [
    "How does it work?"
   ]
  },
  {
   "cell_type": "markdown",
   "id": "47b6a0a5",
   "metadata": {},
   "source": [
    "**Exercise**\n",
    "\n",
    "Plot the balance of a bank account over $0, \\ldots, T$ when $T=50$.\n",
    "\n",
    "* There are no withdraws \n",
    "* The initial balance is $ b_0 = 10 $ and the interest rate is $ r = 0.025$.\n",
    "\n",
    "The balance updates from period $ t $ to $ t+1 $ according to $ b_{t+1} = (1 + r) b_t $.\n",
    "\n",
    "Your task is to generate and plot the sequence $b_0, b_1, \\ldots, b_T $.\n",
    "\n",
    "You can use a Python list to store this sequence, or a NumPy array.\n",
    "\n",
    "In the first case, start with"
   ]
  },
  {
   "cell_type": "code",
   "execution_count": null,
   "id": "027116d9",
   "metadata": {},
   "outputs": [],
   "source": [
    "T = 50\n",
    "b = []"
   ]
  },
  {
   "cell_type": "markdown",
   "id": "24ccfb2c",
   "metadata": {},
   "source": [
    "In the second case, you can use a statement such as"
   ]
  },
  {
   "cell_type": "code",
   "execution_count": null,
   "id": "478da6b3",
   "metadata": {},
   "outputs": [],
   "source": [
    "T = 50\n",
    "b = np.empty(T+1)   # Allocate memory to store all b_t"
   ]
  },
  {
   "cell_type": "markdown",
   "id": "ee764e5e",
   "metadata": {},
   "source": [
    "and then populate `b` in a for loop."
   ]
  },
  {
   "cell_type": "code",
   "execution_count": null,
   "id": "2af9074b",
   "metadata": {},
   "outputs": [],
   "source": [
    "# Put your solution here"
   ]
  },
  {
   "cell_type": "code",
   "execution_count": null,
   "id": "2d89d091",
   "metadata": {},
   "outputs": [],
   "source": [
    "for _ in range(20):\n",
    "    print(\"Solution below!\")"
   ]
  },
  {
   "cell_type": "markdown",
   "id": "3813c150",
   "metadata": {},
   "source": [
    "Here's the list-based solution"
   ]
  },
  {
   "cell_type": "code",
   "execution_count": null,
   "id": "906b03e4",
   "metadata": {},
   "outputs": [],
   "source": [
    "b = []\n",
    "x = 10         # initial balance\n",
    "r = 0.025         # interest rate\n",
    "T = 50            # end date\n",
    "for t in range(T):\n",
    "    b.append(x)\n",
    "    x = (1 + r) *x\n",
    "b.append(x)\n",
    "plt.plot(b, label='bank balance')\n",
    "plt.legend()\n",
    "plt.show()"
   ]
  },
  {
   "cell_type": "markdown",
   "id": "e04fff52",
   "metadata": {},
   "source": [
    "And here's the NumPy array-based solution."
   ]
  },
  {
   "cell_type": "code",
   "execution_count": null,
   "id": "765febbe",
   "metadata": {},
   "outputs": [],
   "source": [
    "b = np.empty(T+1) # an empty NumPy array, to store all b_t\n",
    "b[0] = 10         # initial balance\n",
    "for t in range(T):\n",
    "    b[t+1] = (1 + r) * b[t]\n",
    "\n",
    "plt.plot(b, label='bank balance')\n",
    "plt.legend()\n",
    "plt.show()"
   ]
  },
  {
   "cell_type": "markdown",
   "id": "c50e6cf4",
   "metadata": {},
   "source": [
    "**Exercise**\n",
    "\n",
    "Simulate and plot the correlated time series\n",
    "\n",
    "$$\n",
    "    x_{t+1} = \\alpha \\, x_t + \\epsilon_{t+1}\n",
    "    \\quad \\text{where} \\quad\n",
    "    x_0 = 0\n",
    "    \\quad \\text{and} \\quad t = 0,\\ldots,T\n",
    "$$\n",
    "\n",
    "were $ \\{\\epsilon_t\\} $ is IID and standard normal.\n",
    "\n",
    "In your solution, restrict your import statements to"
   ]
  },
  {
   "cell_type": "code",
   "execution_count": null,
   "id": "00e8fd68",
   "metadata": {},
   "outputs": [],
   "source": [
    "import numpy as np\n",
    "import matplotlib.pyplot as plt"
   ]
  },
  {
   "cell_type": "markdown",
   "id": "b07e81d2",
   "metadata": {},
   "source": [
    "Set $ T=200 $ and $ \\alpha = 0.9 $."
   ]
  },
  {
   "cell_type": "code",
   "execution_count": null,
   "id": "11ac2644",
   "metadata": {},
   "outputs": [],
   "source": [
    "# Put your code here"
   ]
  },
  {
   "cell_type": "code",
   "execution_count": null,
   "id": "a4974dc1",
   "metadata": {},
   "outputs": [],
   "source": [
    "for i in range(20):\n",
    "    print(\"Solution below.\")"
   ]
  },
  {
   "cell_type": "markdown",
   "id": "b2ac986a",
   "metadata": {},
   "source": [
    "Here’s one solution."
   ]
  },
  {
   "cell_type": "code",
   "execution_count": null,
   "id": "9a63f79b",
   "metadata": {},
   "outputs": [],
   "source": [
    "α = 0.9\n",
    "T = 200\n",
    "x = np.empty(T+1)\n",
    "x[0] = 0\n",
    "\n",
    "for t in range(T):\n",
    "    x[t+1] = α * x[t] + np.random.randn()\n",
    "\n",
    "plt.plot(x)\n",
    "plt.show()"
   ]
  },
  {
   "cell_type": "markdown",
   "id": "941dd43b",
   "metadata": {},
   "source": [
    "**Exercise** \n",
    "\n",
    "Plot three simulated time series,\n",
    "one for each of the cases $ \\alpha=0 $, $ \\alpha=0.8 $ and $ \\alpha=0.98 $.\n",
    "\n",
    "Use a `for` loop to step through the $ \\alpha $ values.\n",
    "\n",
    "If you can, add a legend, to help distinguish between the three time series.\n",
    "\n",
    "- If you call the `plot()` function multiple times before calling `show()`, all of the lines you produce will end up on the same figure.  \n",
    "- For the legend, noted that suppose `var = 42`, the expression `f'foo{var}'` evaluates to `'foo42'`."
   ]
  },
  {
   "cell_type": "code",
   "execution_count": null,
   "id": "18d0b38b",
   "metadata": {},
   "outputs": [],
   "source": [
    "# Put your code here"
   ]
  },
  {
   "cell_type": "code",
   "execution_count": null,
   "id": "e5a13ed3",
   "metadata": {},
   "outputs": [],
   "source": [
    "for i in range(20):\n",
    "    print(\"Solution below.\")"
   ]
  },
  {
   "cell_type": "code",
   "execution_count": null,
   "id": "fe976415",
   "metadata": {},
   "outputs": [],
   "source": [
    "α_values = [0.0, 0.8, 0.98]\n",
    "T = 200\n",
    "x = np.empty(T+1)\n",
    "\n",
    "for α in α_values:\n",
    "    x[0] = 0\n",
    "    for t in range(T):\n",
    "        x[t+1] = α * x[t] + np.random.randn()\n",
    "    plt.plot(x, label=f'$\\\\alpha = {α}$')\n",
    "\n",
    "plt.legend()\n",
    "plt.show()"
   ]
  },
  {
   "cell_type": "markdown",
   "id": "25e64e0c",
   "metadata": {},
   "source": [
    "## Conditional execution\n",
    "\n",
    "One important aspect of essentially all programming languages is branching and\n",
    "conditions.\n",
    "\n",
    "In Python, conditions are usually implemented with if-else syntax.\n",
    "\n",
    "Here’s an example, that prints -1 for each negative number in an array and 1\n",
    "for each nonnegative number"
   ]
  },
  {
   "cell_type": "code",
   "execution_count": null,
   "id": "e166e47f",
   "metadata": {},
   "outputs": [],
   "source": [
    "numbers = [-9, 2.3, -11, 0]"
   ]
  },
  {
   "cell_type": "code",
   "execution_count": null,
   "id": "9a258001",
   "metadata": {},
   "outputs": [],
   "source": [
    "for x in numbers:\n",
    "    if x < 0:\n",
    "        print(-1)\n",
    "    else:\n",
    "        print(1)"
   ]
  },
  {
   "cell_type": "code",
   "execution_count": null,
   "id": "112b7613",
   "metadata": {},
   "outputs": [],
   "source": [
    "# Put your code here"
   ]
  },
  {
   "cell_type": "code",
   "execution_count": null,
   "id": "3918bf99",
   "metadata": {},
   "outputs": [],
   "source": [
    "for i in range(20):\n",
    "    print(\"Solution below.\")"
   ]
  },
  {
   "cell_type": "markdown",
   "id": "b7d04b1d",
   "metadata": {},
   "source": [
    "**Exercise**\n",
    "\n",
    "Simulate and plot the correlated time series\n",
    "\n",
    "$$\n",
    "    x_{t+1} = \\alpha \\, |x_t| + \\epsilon_{t+1}\n",
    "    \\quad \\text{where} \\quad\n",
    "    x_0 = 0\n",
    "    \\quad \\text{and} \\quad t = 0,\\ldots,T\n",
    "$$\n",
    "\n",
    "were $ \\{\\epsilon_t\\} $ is IID and standard normal.  Use"
   ]
  },
  {
   "cell_type": "code",
   "execution_count": null,
   "id": "dead0fa1",
   "metadata": {},
   "outputs": [],
   "source": [
    "α = 0.9\n",
    "T = 200"
   ]
  },
  {
   "cell_type": "markdown",
   "id": "d68edf2c",
   "metadata": {},
   "source": [
    "Do not use an existing function such as `abs()` or `np.abs()`\n",
    "to compute the absolute value.\n",
    "\n",
    "Replace this existing function with an if-else condition."
   ]
  },
  {
   "cell_type": "code",
   "execution_count": null,
   "id": "4a12cad0",
   "metadata": {},
   "outputs": [],
   "source": [
    "# Put your code here"
   ]
  },
  {
   "cell_type": "code",
   "execution_count": null,
   "id": "a5dcb1a9",
   "metadata": {},
   "outputs": [],
   "source": [
    "for i in range(20):\n",
    "    print(\"Solution below.\")"
   ]
  },
  {
   "cell_type": "markdown",
   "id": "6a346abe",
   "metadata": {},
   "source": [
    "Here’s one way:"
   ]
  },
  {
   "cell_type": "code",
   "execution_count": null,
   "id": "6abb3060",
   "metadata": {},
   "outputs": [],
   "source": [
    "x = np.empty(T+1)\n",
    "x[0] = 0\n",
    "\n",
    "for t in range(T):\n",
    "    if x[t] < 0:\n",
    "        abs_x = - x[t]\n",
    "    else:\n",
    "        abs_x = x[t]\n",
    "    x[t+1] = α * abs_x + np.random.randn()\n",
    "\n",
    "plt.plot(x)\n",
    "plt.show()"
   ]
  },
  {
   "cell_type": "markdown",
   "id": "818d7bfe",
   "metadata": {},
   "source": [
    "Here’s a shorter way to write the same thing:"
   ]
  },
  {
   "cell_type": "code",
   "execution_count": null,
   "id": "d017e226",
   "metadata": {},
   "outputs": [],
   "source": [
    "α = 0.9\n",
    "T = 200\n",
    "x = np.empty(T+1)\n",
    "x[0] = 0\n",
    "\n",
    "for t in range(T):\n",
    "    abs_x = - x[t] if x[t] < 0 else x[t]\n",
    "    x[t+1] = α * abs_x + np.random.randn()\n",
    "\n",
    "plt.plot(x)\n",
    "plt.show()"
   ]
  },
  {
   "cell_type": "markdown",
   "id": "4ae631c3",
   "metadata": {},
   "source": [
    "## Data Types\n",
    "\n",
    "\n",
    "Computer programs typically keep track of a range of data types.\n",
    "\n",
    "For example, `1.5` is a floating point number, while `1` is an integer.\n",
    "\n",
    "Another data type is Boolean values, which can be either `True` or `False`"
   ]
  },
  {
   "cell_type": "code",
   "execution_count": null,
   "id": "e1faa990",
   "metadata": {},
   "outputs": [],
   "source": [
    "x = True\n",
    "x"
   ]
  },
  {
   "cell_type": "markdown",
   "id": "a1b259db",
   "metadata": {},
   "source": [
    "We can check the type of any object in memory using the `type()` function."
   ]
  },
  {
   "cell_type": "code",
   "execution_count": null,
   "id": "b722fcda",
   "metadata": {},
   "outputs": [],
   "source": [
    "type(x)"
   ]
  },
  {
   "cell_type": "markdown",
   "id": "29091972",
   "metadata": {},
   "source": [
    "In the next line of code, the interpreter evaluates the expression on the right\n",
    "of = and binds `y` to this value"
   ]
  },
  {
   "cell_type": "code",
   "execution_count": null,
   "id": "b56c6d1e",
   "metadata": {},
   "outputs": [],
   "source": [
    "y = 100 < 10\n",
    "y"
   ]
  },
  {
   "cell_type": "code",
   "execution_count": null,
   "id": "fa97a90d",
   "metadata": {},
   "outputs": [],
   "source": [
    "type(y)"
   ]
  },
  {
   "cell_type": "markdown",
   "id": "5cc7f5f0",
   "metadata": {},
   "source": [
    "In arithmetic expressions, `True` is converted to `1` and `False` is converted `0`.\n",
    "\n",
    "This is called **Boolean arithmetic** and is often useful in programming.\n",
    "\n",
    "Here are some examples"
   ]
  },
  {
   "cell_type": "code",
   "execution_count": null,
   "id": "01cb15a3",
   "metadata": {},
   "outputs": [],
   "source": [
    "x + y"
   ]
  },
  {
   "cell_type": "code",
   "execution_count": null,
   "id": "edce5e03",
   "metadata": {},
   "outputs": [],
   "source": [
    "x * y"
   ]
  },
  {
   "cell_type": "code",
   "execution_count": null,
   "id": "0a72d1ed",
   "metadata": {},
   "outputs": [],
   "source": [
    "bools = [True, True, False, True]  # List of Boolean values\n",
    "sum(bools)"
   ]
  },
  {
   "cell_type": "markdown",
   "id": "27aae17a",
   "metadata": {},
   "source": [
    "### Containers\n",
    "\n",
    "Python has several basic types for storing collections of (possibly heterogeneous) data.\n",
    "\n",
    "We have already discussed lists.\n",
    "\n",
    "A related data type is **tuples**, which are \"immutable\" lists"
   ]
  },
  {
   "cell_type": "code",
   "execution_count": null,
   "id": "5fe03fc8",
   "metadata": {},
   "outputs": [],
   "source": [
    "x = ('a', 'b')  # Parentheses instead of the square brackets\n",
    "x = 'a', 'b'    # Or no brackets --- the meaning is identical\n",
    "x"
   ]
  },
  {
   "cell_type": "code",
   "execution_count": null,
   "id": "4e15774a",
   "metadata": {},
   "outputs": [],
   "source": [
    "type(x)"
   ]
  },
  {
   "cell_type": "markdown",
   "id": "31a5b2f9",
   "metadata": {},
   "source": [
    "In Python, an object is called **immutable** if, once created, the object cannot be changed.\n",
    "\n",
    "Conversely, an object is **mutable** if it can still be altered after creation.\n",
    "\n",
    "Python lists are mutable"
   ]
  },
  {
   "cell_type": "code",
   "execution_count": null,
   "id": "982bbe21",
   "metadata": {},
   "outputs": [],
   "source": [
    "x = [1, 2]\n",
    "x[0] = 10\n",
    "x"
   ]
  },
  {
   "cell_type": "markdown",
   "id": "58ad8f62",
   "metadata": {},
   "source": [
    "But tuples are not"
   ]
  },
  {
   "cell_type": "code",
   "execution_count": null,
   "id": "fe11ddf0",
   "metadata": {},
   "outputs": [],
   "source": [
    "x = (1, 2)\n",
    "#x[0] = 10  # Uncomment and run"
   ]
  },
  {
   "cell_type": "markdown",
   "id": "23d20775",
   "metadata": {},
   "source": [
    "Tuples (and lists) can be “unpacked” as follows"
   ]
  },
  {
   "cell_type": "code",
   "execution_count": null,
   "id": "8a2addcf",
   "metadata": {},
   "outputs": [],
   "source": [
    "integers = (10, 20, 30)\n",
    "x, y, z = integers\n",
    "x"
   ]
  },
  {
   "cell_type": "code",
   "execution_count": null,
   "id": "bfd9e830",
   "metadata": {},
   "outputs": [],
   "source": [
    "y"
   ]
  },
  {
   "cell_type": "markdown",
   "id": "44c6f759",
   "metadata": {},
   "source": [
    "#### Slice Notation\n",
    "\n",
    "To access multiple elements of a sequence (a list, a tuple or a string), you can use Python’s slice\n",
    "notation.\n",
    "\n",
    "For example,"
   ]
  },
  {
   "cell_type": "code",
   "execution_count": null,
   "id": "a96795b1",
   "metadata": {},
   "outputs": [],
   "source": [
    "a = [\"a\", \"b\", \"c\", \"d\", \"e\"]\n",
    "a[1:]"
   ]
  },
  {
   "cell_type": "code",
   "execution_count": null,
   "id": "a55d0972",
   "metadata": {},
   "outputs": [],
   "source": [
    "a[1:3]"
   ]
  },
  {
   "cell_type": "markdown",
   "id": "13c5a1b5",
   "metadata": {},
   "source": [
    "The rule is `a[m:n]` returns `n - m` elements, starting at `a[m]`.\n",
    "\n",
    "Also:"
   ]
  },
  {
   "cell_type": "code",
   "execution_count": null,
   "id": "55656b46",
   "metadata": {},
   "outputs": [],
   "source": [
    "a[-2:]  # Last two elements of the list"
   ]
  },
  {
   "cell_type": "code",
   "execution_count": null,
   "id": "3bf1d230",
   "metadata": {},
   "outputs": [],
   "source": [
    "s = 'foobar'\n",
    "s[-3:]  # Last three elements"
   ]
  },
  {
   "cell_type": "markdown",
   "id": "873e2237",
   "metadata": {},
   "source": [
    "## Iterating\n",
    "\n",
    "One of the most important tasks in computing is stepping through a\n",
    "sequence of data and performing a given action.\n",
    "\n",
    "One of Python’s strengths is its simple, flexible interface to iteration.\n",
    "\n",
    "### Looping over Different Objects\n",
    "\n",
    "Many Python objects are \"iterable\", in the sense that they can be looped over.\n",
    "\n",
    "To give an example, let’s write the file us_cities.txt, which lists US cities and their population, to the present working directory."
   ]
  },
  {
   "cell_type": "code",
   "execution_count": null,
   "id": "42260abd",
   "metadata": {},
   "outputs": [],
   "source": [
    "%%writefile us_cities.txt\n",
    "new york: 8244910\n",
    "los angeles: 3819702\n",
    "chicago: 2707120\n",
    "houston: 2145146\n",
    "philadelphia: 1536471\n",
    "phoenix: 1469471\n",
    "san antonio: 1359758\n",
    "san diego: 1326179\n",
    "dallas: 1223229"
   ]
  },
  {
   "cell_type": "markdown",
   "id": "b4b1b677",
   "metadata": {},
   "source": [
    "Suppose that we want to make the information more readable, by capitalizing names and adding commas to mark thousands.\n",
    "\n",
    "The program below reads the data in and makes the conversion:"
   ]
  },
  {
   "cell_type": "code",
   "execution_count": null,
   "id": "2776d046",
   "metadata": {},
   "outputs": [],
   "source": [
    "data_file = open('us_cities.txt', 'r')\n",
    "for line in data_file:\n",
    "    city, population = line.split(':')         # Tuple unpacking\n",
    "    city = city.title()                        # Capitalize city names\n",
    "    population = f'{int(population):,}'        # Add commas to numbers\n",
    "    print(city.ljust(15) + population)\n",
    "data_file.close()"
   ]
  },
  {
   "cell_type": "markdown",
   "id": "2cb88d2c",
   "metadata": {},
   "source": [
    "### Looping without Indices\n",
    "\n",
    "Python tends to favor looping without explicit indexing.\n",
    "\n",
    "For example,"
   ]
  },
  {
   "cell_type": "code",
   "execution_count": null,
   "id": "44a6f8a9",
   "metadata": {},
   "outputs": [],
   "source": [
    "x_values = [1, 2, 3]  # Some iterable x\n",
    "for x in x_values:\n",
    "    print(x * x)"
   ]
  },
  {
   "cell_type": "markdown",
   "id": "634c5171",
   "metadata": {},
   "source": [
    "is preferred to"
   ]
  },
  {
   "cell_type": "code",
   "execution_count": null,
   "id": "3f53e902",
   "metadata": {},
   "outputs": [],
   "source": [
    "for i in range(len(x_values)):\n",
    "    print(x_values[i] * x_values[i])"
   ]
  },
  {
   "cell_type": "markdown",
   "id": "7354d379",
   "metadata": {},
   "source": [
    "Python provides some facilities to simplify looping without indices.\n",
    "\n",
    "One is `zip()`, which is used for stepping through pairs from two sequences.\n",
    "\n",
    "For example, try running the following code"
   ]
  },
  {
   "cell_type": "code",
   "execution_count": null,
   "id": "dca60da4",
   "metadata": {},
   "outputs": [],
   "source": [
    "countries = ('Japan', 'Korea', 'China')\n",
    "cities = ('Tokyo', 'Seoul', 'Beijing')\n",
    "for country, city in zip(countries, cities):\n",
    "    print(f'The capital of {country} is {city}')"
   ]
  },
  {
   "cell_type": "markdown",
   "id": "51a2c1c9",
   "metadata": {},
   "source": [
    "If we actually need the index from a list, one option is to use `enumerate()`.\n",
    "\n",
    "To understand what `enumerate()` does, consider the following example"
   ]
  },
  {
   "cell_type": "code",
   "execution_count": null,
   "id": "5df959bb",
   "metadata": {},
   "outputs": [],
   "source": [
    "letter_list = ['a', 'b', 'c']\n",
    "for index, letter in enumerate(letter_list):\n",
    "    print(f\"letter_list[{index}] = '{letter}'\")"
   ]
  },
  {
   "cell_type": "markdown",
   "id": "0c5076a1",
   "metadata": {},
   "source": [
    "### List Comprehensions\n",
    "\n",
    "[List comprehensions](https://en.wikipedia.org/wiki/List_comprehension) are an elegant Python tool for creating lists.\n",
    "\n",
    "Consider the following example, where the list comprehension is on the\n",
    "right-hand side of the second line"
   ]
  },
  {
   "cell_type": "code",
   "execution_count": null,
   "id": "90522d6f",
   "metadata": {},
   "outputs": [],
   "source": [
    "animals = ['dog', 'cat', 'bird']\n",
    "plurals = [animal + 's' for animal in animals]\n",
    "plurals"
   ]
  },
  {
   "cell_type": "markdown",
   "id": "21331870",
   "metadata": {},
   "source": [
    "Here’s another example"
   ]
  },
  {
   "cell_type": "code",
   "execution_count": null,
   "id": "5e968f28",
   "metadata": {},
   "outputs": [],
   "source": [
    "range(8)"
   ]
  },
  {
   "cell_type": "code",
   "execution_count": null,
   "id": "b1748305",
   "metadata": {},
   "outputs": [],
   "source": [
    "doubles = [2 * x for x in range(8)]\n",
    "doubles"
   ]
  },
  {
   "cell_type": "markdown",
   "id": "f5a1cdc4",
   "metadata": {},
   "source": [
    "## Comparisons and Logical Operators\n",
    "\n",
    "\n",
    "### Comparisons\n",
    "\n",
    "In Python we can chain inequalities"
   ]
  },
  {
   "cell_type": "code",
   "execution_count": null,
   "id": "35007d2f",
   "metadata": {},
   "outputs": [],
   "source": [
    "1 < 2 < 3"
   ]
  },
  {
   "cell_type": "code",
   "execution_count": null,
   "id": "3c4f9546",
   "metadata": {},
   "outputs": [],
   "source": [
    "1 <= 2 <= 3"
   ]
  },
  {
   "cell_type": "markdown",
   "id": "2cd92f8f",
   "metadata": {},
   "source": [
    "When testing for equality we use `==`"
   ]
  },
  {
   "cell_type": "code",
   "execution_count": null,
   "id": "4fb50a28",
   "metadata": {},
   "outputs": [],
   "source": [
    "x = 1    # Assignment\n",
    "x == 2   # Comparison"
   ]
  },
  {
   "cell_type": "markdown",
   "id": "80927176",
   "metadata": {},
   "source": [
    "For “not equal” use `!=`"
   ]
  },
  {
   "cell_type": "code",
   "execution_count": null,
   "id": "e11072e2",
   "metadata": {},
   "outputs": [],
   "source": [
    "1 != 2"
   ]
  },
  {
   "cell_type": "markdown",
   "id": "c48a3e83",
   "metadata": {},
   "source": [
    "### Combining Expressions\n",
    "\n",
    "We can combine expressions using `and`, `or` and `not`.\n",
    "\n",
    "These are the standard logical connectives (conjunction, disjunction and denial)"
   ]
  },
  {
   "cell_type": "code",
   "execution_count": null,
   "id": "09e043c8",
   "metadata": {},
   "outputs": [],
   "source": [
    "1 < 2 and 'f' in 'foo'"
   ]
  },
  {
   "cell_type": "code",
   "execution_count": null,
   "id": "b0b151db",
   "metadata": {},
   "outputs": [],
   "source": [
    "1 < 2 and 'g' in 'foo'"
   ]
  },
  {
   "cell_type": "code",
   "execution_count": null,
   "id": "5230fdda",
   "metadata": {},
   "outputs": [],
   "source": [
    "1 < 2 or 'g' in 'foo'"
   ]
  },
  {
   "cell_type": "code",
   "execution_count": null,
   "id": "76d8860f",
   "metadata": {},
   "outputs": [],
   "source": [
    "not not True"
   ]
  },
  {
   "cell_type": "markdown",
   "id": "15110f59",
   "metadata": {},
   "source": [
    "### Coding Style and Documentation\n",
    "\n",
    "A consistent coding style make code easier to understand and maintain.\n",
    "\n",
    "You can find Python programming philosophy by typing `import this` at the prompt.\n",
    "\n",
    "See also the Python style guide [PEP8](https://www.python.org/dev/peps/pep-0008/)."
   ]
  },
  {
   "cell_type": "markdown",
   "id": "08316b28",
   "metadata": {},
   "source": [
    "**Exercise**\n",
    "\n",
    "Part 1: Given two numeric lists or tuples `x_vals` and `y_vals` of equal length, compute\n",
    "their inner product using `zip()`.\n",
    "\n",
    "Part 2: In one line, count the number of even numbers in 0,…,99.\n",
    "\n",
    "\n",
    "(Hint: `x % 2` returns 0 if `x` is even, 1 otherwise.)\n",
    "\n",
    "Part 3: Given `pairs = ((2, 5), (4, 2), (9, 8), (12, 10))`, count the number of pairs `(a, b)`\n",
    "such that both `a` and `b` are even."
   ]
  },
  {
   "cell_type": "code",
   "execution_count": null,
   "id": "0ee80bb5",
   "metadata": {},
   "outputs": [],
   "source": [
    "# Put your solutions here"
   ]
  },
  {
   "cell_type": "code",
   "execution_count": null,
   "id": "49a2cbd3",
   "metadata": {},
   "outputs": [],
   "source": [
    "for i in range(20):\n",
    "    print(\"Solutions below.\")"
   ]
  },
  {
   "cell_type": "markdown",
   "id": "e0f600cb",
   "metadata": {},
   "source": [
    "**Part 1 Solution:**\n",
    "\n",
    "Here’s one possible solution"
   ]
  },
  {
   "cell_type": "code",
   "execution_count": null,
   "id": "4c2adad8",
   "metadata": {},
   "outputs": [],
   "source": [
    "x_vals = [1, 2, 3]\n",
    "y_vals = [1, 1, 1]\n",
    "sum([x * y for x, y in zip(x_vals, y_vals)])"
   ]
  },
  {
   "cell_type": "markdown",
   "id": "a49148f0",
   "metadata": {},
   "source": [
    "This also works"
   ]
  },
  {
   "cell_type": "code",
   "execution_count": null,
   "id": "e66ad722",
   "metadata": {},
   "outputs": [],
   "source": [
    "sum(x * y for x, y in zip(x_vals, y_vals))"
   ]
  },
  {
   "cell_type": "markdown",
   "id": "be8cf53b",
   "metadata": {},
   "source": [
    "**Part 2 Solution:**\n",
    "\n",
    "One solution is"
   ]
  },
  {
   "cell_type": "code",
   "execution_count": null,
   "id": "1757a48d",
   "metadata": {},
   "outputs": [],
   "source": [
    "sum([x % 2 == 0 for x in range(100)])"
   ]
  },
  {
   "cell_type": "markdown",
   "id": "f80d0f99",
   "metadata": {},
   "source": [
    "This also works:"
   ]
  },
  {
   "cell_type": "code",
   "execution_count": null,
   "id": "6d396526",
   "metadata": {},
   "outputs": [],
   "source": [
    "sum(x % 2 == 0 for x in range(100))"
   ]
  },
  {
   "cell_type": "markdown",
   "id": "d85cb9f8",
   "metadata": {},
   "source": [
    "So does this:"
   ]
  },
  {
   "cell_type": "code",
   "execution_count": null,
   "id": "839d7ab9",
   "metadata": {},
   "outputs": [],
   "source": [
    "len([x for x in range(100) if x % 2 == 0])"
   ]
  },
  {
   "cell_type": "markdown",
   "id": "7324346d",
   "metadata": {},
   "source": [
    "**Part 3 Solution:**\n",
    "\n",
    "Here’s one possibility"
   ]
  },
  {
   "cell_type": "code",
   "execution_count": null,
   "id": "4c9a448c",
   "metadata": {},
   "outputs": [],
   "source": [
    "pairs = ((2, 5), (4, 2), (9, 8), (12, 10))\n",
    "sum([x % 2 == 0 and y % 2 == 0 for x, y in pairs])"
   ]
  },
  {
   "cell_type": "markdown",
   "id": "881c0c06",
   "metadata": {},
   "source": [
    "## Defining Functions\n",
    "\n",
    "### Basic Syntax\n",
    "\n",
    "Here’s a very simple Python function"
   ]
  },
  {
   "cell_type": "code",
   "execution_count": null,
   "id": "676dcd57",
   "metadata": {},
   "outputs": [],
   "source": [
    "def f(x):\n",
    "    return 2 * x + 1"
   ]
  },
  {
   "cell_type": "markdown",
   "id": "f7858e65",
   "metadata": {},
   "source": [
    "Now that we’ve defined this function, let’s *call* it and check whether it does what we expect:"
   ]
  },
  {
   "cell_type": "code",
   "execution_count": null,
   "id": "be601733",
   "metadata": {},
   "outputs": [],
   "source": [
    "f(1)   "
   ]
  },
  {
   "cell_type": "code",
   "execution_count": null,
   "id": "4f411e8b",
   "metadata": {},
   "outputs": [],
   "source": [
    "f(10)"
   ]
  },
  {
   "cell_type": "markdown",
   "id": "baad7f31",
   "metadata": {},
   "source": [
    "Here’s a longer function, that computes the absolute value of a given number.\n",
    "\n",
    "(Such a function already exists as a built-in, but let’s write our own for the\n",
    "exercise.)"
   ]
  },
  {
   "cell_type": "code",
   "execution_count": null,
   "id": "31584d80",
   "metadata": {},
   "outputs": [],
   "source": [
    "def new_abs_function(x):\n",
    "    if x < 0:\n",
    "        abs_value = -x\n",
    "    else:\n",
    "        abs_value = x\n",
    "    return abs_value"
   ]
  },
  {
   "cell_type": "markdown",
   "id": "e627d13a",
   "metadata": {},
   "source": [
    "Let’s call it to check that it works:"
   ]
  },
  {
   "cell_type": "code",
   "execution_count": null,
   "id": "27173ced",
   "metadata": {},
   "outputs": [],
   "source": [
    "new_abs_function(3)"
   ]
  },
  {
   "cell_type": "code",
   "execution_count": null,
   "id": "3bfe8ff2",
   "metadata": {},
   "outputs": [],
   "source": [
    "new_abs_function(-3)"
   ]
  },
  {
   "cell_type": "markdown",
   "id": "22a07590",
   "metadata": {},
   "source": [
    "Note that a function can have arbitrarily many `return` statements (including zero).\n",
    "\n",
    "Functions without a return statement automatically return the special Python object `None`."
   ]
  },
  {
   "cell_type": "markdown",
   "id": "5b36d58e",
   "metadata": {},
   "source": [
    "**Exercise**\n",
    "\n",
    "Write a function that takes a string as an argument and returns the number of capital letters in the string.\n",
    "\n",
    "(Hint:`'foo'.upper()` returns `'FOO'`.)"
   ]
  },
  {
   "cell_type": "code",
   "execution_count": null,
   "id": "d884dd6e",
   "metadata": {},
   "outputs": [],
   "source": [
    "# Put your solution here"
   ]
  },
  {
   "cell_type": "code",
   "execution_count": null,
   "id": "8656686a",
   "metadata": {},
   "outputs": [],
   "source": [
    "for i in range(12):\n",
    "    print(\"Solution below.\")"
   ]
  },
  {
   "cell_type": "markdown",
   "id": "48357b0b",
   "metadata": {},
   "source": [
    "Here’s one solution:"
   ]
  },
  {
   "cell_type": "code",
   "execution_count": null,
   "id": "3282f5b6",
   "metadata": {},
   "outputs": [],
   "source": [
    "def count_upper_case(string):\n",
    "    count = 0\n",
    "    for letter in string:\n",
    "        if letter == letter.upper() and letter.isalpha():\n",
    "            count += 1\n",
    "    return count\n",
    "\n",
    "count_upper_case('The Rain in Spain')"
   ]
  },
  {
   "cell_type": "markdown",
   "id": "2c18dda8",
   "metadata": {},
   "source": [
    "Alternatively,"
   ]
  },
  {
   "cell_type": "code",
   "execution_count": null,
   "id": "7acef646",
   "metadata": {},
   "outputs": [],
   "source": [
    "def count_upper_case(string):\n",
    "    return sum([c.isupper() for c in string])\n",
    "\n",
    "count_upper_case('The Rain in Spain')"
   ]
  },
  {
   "cell_type": "markdown",
   "id": "68c7335b",
   "metadata": {},
   "source": [
    "### Keyword Arguments\n",
    "\n",
    "\n",
    "The following example illustrates the syntax"
   ]
  },
  {
   "cell_type": "code",
   "execution_count": null,
   "id": "4cfe8918",
   "metadata": {},
   "outputs": [],
   "source": [
    "def f(x, a=1, b=1):\n",
    "    return a + b * x"
   ]
  },
  {
   "cell_type": "markdown",
   "id": "bf42fa0e",
   "metadata": {},
   "source": [
    "The keyword argument values we supplied in the definition of `f` become the default values"
   ]
  },
  {
   "cell_type": "code",
   "execution_count": null,
   "id": "dca71203",
   "metadata": {},
   "outputs": [],
   "source": [
    "f(2)"
   ]
  },
  {
   "cell_type": "markdown",
   "id": "2d49a37b",
   "metadata": {},
   "source": [
    "They can be modified as follows"
   ]
  },
  {
   "cell_type": "code",
   "execution_count": null,
   "id": "9f34fd47",
   "metadata": {},
   "outputs": [],
   "source": [
    "f(2, a=4, b=5)"
   ]
  },
  {
   "cell_type": "markdown",
   "id": "2dc18c22",
   "metadata": {},
   "source": [
    "### The Flexibility of Python Functions\n",
    "\n",
    "\n",
    "- Any number of functions can be defined in a given file.  \n",
    "- Functions can be (and often are) defined inside other functions.  \n",
    "- Any object can be passed to a function as an argument, including other functions.  \n",
    "- A function can return any kind of object, including functions."
   ]
  },
  {
   "cell_type": "markdown",
   "id": "1b2c83d5",
   "metadata": {},
   "source": [
    "### One-Line Functions: `lambda`\n",
    "\n",
    "\n",
    "The `lambda` keyword is used to create simple functions on one line.\n",
    "\n",
    "For example,"
   ]
  },
  {
   "cell_type": "code",
   "execution_count": null,
   "id": "c288a2dc",
   "metadata": {},
   "outputs": [],
   "source": [
    "def f(x):\n",
    "    return x**3"
   ]
  },
  {
   "cell_type": "markdown",
   "id": "7a1998a3",
   "metadata": {},
   "source": [
    "is equivalent to."
   ]
  },
  {
   "cell_type": "code",
   "execution_count": null,
   "id": "61cdc0b6",
   "metadata": {},
   "outputs": [],
   "source": [
    "f = lambda x: x**3"
   ]
  },
  {
   "cell_type": "markdown",
   "id": "68378038",
   "metadata": {},
   "source": [
    "One use case is \"anonymous\" functions"
   ]
  },
  {
   "cell_type": "code",
   "execution_count": null,
   "id": "9657e74b",
   "metadata": {},
   "outputs": [],
   "source": [
    "from scipy.integrate import quad\n",
    "quad(lambda x: x**3, 0, 2)"
   ]
  },
  {
   "cell_type": "markdown",
   "id": "adc206ae",
   "metadata": {},
   "source": [
    "### Random Draws\n",
    "\n",
    "Consider again the code"
   ]
  },
  {
   "cell_type": "code",
   "execution_count": null,
   "id": "dc664ed8",
   "metadata": {},
   "outputs": [],
   "source": [
    "ts_length = 100\n",
    "ϵ_values = []   # empty list\n",
    "\n",
    "for i in range(ts_length):\n",
    "    e = np.random.randn()\n",
    "    ϵ_values.append(e)\n",
    "\n",
    "plt.plot(ϵ_values)\n",
    "plt.show()"
   ]
  },
  {
   "cell_type": "markdown",
   "id": "c39a4def",
   "metadata": {},
   "source": [
    "We can break this down as follows:"
   ]
  },
  {
   "cell_type": "code",
   "execution_count": null,
   "id": "b5f3337b",
   "metadata": {},
   "outputs": [],
   "source": [
    "def generate_data(n):\n",
    "    ϵ_values = []\n",
    "    for i in range(n):\n",
    "        e = np.random.randn()\n",
    "        ϵ_values.append(e)\n",
    "    return ϵ_values\n",
    "\n",
    "data = generate_data(100)\n",
    "plt.plot(data)\n",
    "plt.show()"
   ]
  },
  {
   "cell_type": "markdown",
   "id": "53b2af2e",
   "metadata": {},
   "source": [
    "Here's an alternative where we pass a function to a function:"
   ]
  },
  {
   "cell_type": "code",
   "execution_count": null,
   "id": "541f8eb0",
   "metadata": {},
   "outputs": [],
   "source": [
    "def generate_data(n, generator_type):\n",
    "    ϵ_values = []\n",
    "    for i in range(n):\n",
    "        e = generator_type()\n",
    "        ϵ_values.append(e)\n",
    "    return ϵ_values\n",
    "\n",
    "data = generate_data(100, np.random.uniform)\n",
    "plt.plot(data)\n",
    "plt.show()"
   ]
  },
  {
   "cell_type": "markdown",
   "id": "163d8aff",
   "metadata": {},
   "source": [
    "**Exercise**\n",
    "\n",
    "The binomial random variable $Y$ gives the number of successes in $ n $ binary trials, where each trial\n",
    "succeeds with probability $ p $.\n",
    "\n",
    "Without any import besides `from numpy.random import uniform`, write a function\n",
    "`binomial_rv` such that `binomial_rv(n, p)` generates one draw of $ Y $.\n",
    "\n",
    "Hint: If $ U $ is uniform on $ (0, 1) $ and $ p \\in (0,1) $, then the expression `U < p` evaluates to `True` with probability $ p $."
   ]
  },
  {
   "cell_type": "code",
   "execution_count": null,
   "id": "c115f5ee",
   "metadata": {},
   "outputs": [],
   "source": [
    "# Put your solution here"
   ]
  },
  {
   "cell_type": "code",
   "execution_count": null,
   "id": "11e97746",
   "metadata": {},
   "outputs": [],
   "source": [
    "for i in range(20):\n",
    "    print(\"Solution below.\")"
   ]
  },
  {
   "cell_type": "markdown",
   "id": "83815fb5",
   "metadata": {},
   "source": [
    "Here's one solution:"
   ]
  },
  {
   "cell_type": "code",
   "execution_count": null,
   "id": "3211cf0f",
   "metadata": {},
   "outputs": [],
   "source": [
    "from numpy.random import uniform\n",
    "\n",
    "def binomial_rv(n, p):\n",
    "    count = 0\n",
    "    for i in range(n):\n",
    "        U = uniform()\n",
    "        if U < p:\n",
    "            count = count + 1    # Or count += 1\n",
    "    return count\n",
    "\n",
    "binomial_rv(10, 0.5)"
   ]
  },
  {
   "cell_type": "markdown",
   "id": "00311ed0",
   "metadata": {},
   "source": [
    "## OOP: Objects and Methods\n",
    "\n",
    "\n",
    "The traditional programming paradigm (Fortran, C, MATLAB, etc.) is called\n",
    "**procedural**.\n",
    "\n",
    "\n",
    "Another important paradigm is **object-oriented programming** (OOP) \n",
    "\n",
    "In the OOP paradigm, data and functions are bundled together into “objects” —\n",
    "and functions in this context are referred to as **methods**.\n",
    "\n",
    "Methods are called on to transform the data contained in the object.\n",
    "\n",
    "- Think of a Python list that contains data and has methods such as `append()`\n",
    "  and `pop()` that transform the data.  \n",
    "\n",
    "A third paradigm is **functional programming** \n",
    "\n",
    "* Built on the idea of composing functions.\n",
    "* We'll discuss this more when we get to JAX\n",
    "\n",
    "Python is a pragmatic language that blends object-oriented, functional and procedural styles.\n",
    "\n",
    "But at a foundational level, Python *is* object-oriented.\n",
    "\n",
    "By this we mean that, in Python, *everything is an object*.\n",
    "\n",
    "\n",
    "### Objects\n",
    "\n",
    "\n",
    "In Python, an *object* is a collection of data and instructions held in computer memory that consists of\n",
    "\n",
    "1. a type  \n",
    "1. a unique identity  \n",
    "1. data (i.e., content, reference count)  \n",
    "1. methods"
   ]
  },
  {
   "cell_type": "markdown",
   "id": "db5914ca",
   "metadata": {},
   "source": [
    "#### Type\n",
    "\n",
    "\n",
    "Python provides for different types of objects, to accommodate different categories of data.\n",
    "\n",
    "For example"
   ]
  },
  {
   "cell_type": "code",
   "execution_count": null,
   "id": "3de5c914",
   "metadata": {},
   "outputs": [],
   "source": [
    "s = 'This is a string'\n",
    "type(s)"
   ]
  },
  {
   "cell_type": "code",
   "execution_count": null,
   "id": "10f3a58d",
   "metadata": {},
   "outputs": [],
   "source": [
    "x = 42   # Now let's create an integer\n",
    "type(x)"
   ]
  },
  {
   "cell_type": "markdown",
   "id": "9beb440b",
   "metadata": {},
   "source": [
    "The type of an object matters for many expressions.\n",
    "\n",
    "For example, the addition operator between two strings means concatenation"
   ]
  },
  {
   "cell_type": "code",
   "execution_count": null,
   "id": "e88b4e8f",
   "metadata": {},
   "outputs": [],
   "source": [
    "'300' + 'cc'"
   ]
  },
  {
   "cell_type": "markdown",
   "id": "49bf4b4f",
   "metadata": {},
   "source": [
    "On the other hand, between two numbers it means ordinary addition"
   ]
  },
  {
   "cell_type": "code",
   "execution_count": null,
   "id": "6f154b8c",
   "metadata": {},
   "outputs": [],
   "source": [
    "300 + 400"
   ]
  },
  {
   "cell_type": "markdown",
   "id": "9e07de47",
   "metadata": {},
   "source": [
    "Consider the following expression"
   ]
  },
  {
   "cell_type": "code",
   "execution_count": null,
   "id": "e71f9247",
   "metadata": {},
   "outputs": [],
   "source": [
    "#'300' + 400   # uncomment and run"
   ]
  },
  {
   "cell_type": "markdown",
   "id": "6549a2ee",
   "metadata": {},
   "source": [
    "Here we are mixing types, and it’s unclear to Python whether the user wants to\n",
    "\n",
    "Python is *strongly typed* -- throws an error rather than trying to perform\n",
    "hidden type conversion."
   ]
  },
  {
   "cell_type": "markdown",
   "id": "58d3306c",
   "metadata": {},
   "source": [
    "#### Identity\n",
    "\n",
    "\n",
    "In Python, each object has a unique identifier, which helps Python (and us) keep track of the object.\n",
    "\n",
    "The identity of an object can be obtained via the `id()` function"
   ]
  },
  {
   "cell_type": "code",
   "execution_count": null,
   "id": "44329968",
   "metadata": {},
   "outputs": [],
   "source": [
    "y = 2.5\n",
    "z = 2.5\n",
    "id(y)"
   ]
  },
  {
   "cell_type": "code",
   "execution_count": null,
   "id": "fa05ab99",
   "metadata": {},
   "outputs": [],
   "source": [
    "id(z)"
   ]
  },
  {
   "cell_type": "markdown",
   "id": "6902b12c",
   "metadata": {},
   "source": [
    "In this example, `y` and `z` happen to have the same value (i.e., `2.5`), but they are not the same object."
   ]
  },
  {
   "cell_type": "markdown",
   "id": "aacf413c",
   "metadata": {},
   "source": [
    "**Question** Why is the following case different??!"
   ]
  },
  {
   "cell_type": "code",
   "execution_count": null,
   "id": "82e651f5",
   "metadata": {},
   "outputs": [],
   "source": [
    "a = 10\n",
    "b = 10\n",
    "id(a)"
   ]
  },
  {
   "cell_type": "code",
   "execution_count": null,
   "id": "65c3a732",
   "metadata": {},
   "outputs": [],
   "source": [
    "id(b)"
   ]
  },
  {
   "cell_type": "markdown",
   "id": "9983d648",
   "metadata": {},
   "source": [
    "#### Object Content: Data and Attributes\n",
    "\n",
    "If we set `x = 42` then we create an object of type `int` that contains\n",
    "the data `42`.\n",
    "\n",
    "In fact, it contains more, as the following example shows"
   ]
  },
  {
   "cell_type": "code",
   "execution_count": null,
   "id": "4d287999",
   "metadata": {},
   "outputs": [],
   "source": [
    "x = 42\n",
    "x"
   ]
  },
  {
   "cell_type": "code",
   "execution_count": null,
   "id": "ce37d72c",
   "metadata": {},
   "outputs": [],
   "source": [
    "x.imag"
   ]
  },
  {
   "cell_type": "code",
   "execution_count": null,
   "id": "a7872395",
   "metadata": {},
   "outputs": [],
   "source": [
    "x.__class__"
   ]
  },
  {
   "cell_type": "markdown",
   "id": "69903279",
   "metadata": {},
   "source": [
    "When Python creates this integer object, it stores with it various auxiliary\n",
    "information, such as the imaginary part, and the type.\n",
    "\n",
    "Any name following a dot is called an *attribute* of the object to the left of the dot.\n",
    "\n",
    "- e.g.,`imag` and `__class__` are attributes of `x`.  \n",
    "\n",
    "We see from this example that objects have attributes that contain auxiliary information."
   ]
  },
  {
   "cell_type": "markdown",
   "id": "adb77589",
   "metadata": {},
   "source": [
    "### Methods\n",
    "\n",
    "\n",
    "Attributes that are *callable* (act like functions) are called *methods*.\n",
    "\n",
    "Informally, methods are functions that are bundled with objects."
   ]
  },
  {
   "cell_type": "code",
   "execution_count": null,
   "id": "77cba421",
   "metadata": {},
   "outputs": [],
   "source": [
    "x = ['foo', 'bar']\n",
    "callable(x.append)"
   ]
  },
  {
   "cell_type": "code",
   "execution_count": null,
   "id": "c41fe7e3",
   "metadata": {},
   "outputs": [],
   "source": [
    "callable(x.__doc__)"
   ]
  },
  {
   "cell_type": "markdown",
   "id": "bf9836e5",
   "metadata": {},
   "source": [
    "Methods typically act on the data contained in the object they belong to, or combine that data with other data"
   ]
  },
  {
   "cell_type": "code",
   "execution_count": null,
   "id": "ae4d692e",
   "metadata": {},
   "outputs": [],
   "source": [
    "x = ['a', 'b']\n",
    "x.append('c')\n",
    "x"
   ]
  },
  {
   "cell_type": "code",
   "execution_count": null,
   "id": "4af170be",
   "metadata": {},
   "outputs": [],
   "source": [
    "s = 'This is a string'\n",
    "s.upper()"
   ]
  },
  {
   "cell_type": "code",
   "execution_count": null,
   "id": "041798ae",
   "metadata": {},
   "outputs": [],
   "source": [
    "s.lower()"
   ]
  },
  {
   "cell_type": "code",
   "execution_count": null,
   "id": "8081657c",
   "metadata": {},
   "outputs": [],
   "source": [
    "s.replace('This', 'That')"
   ]
  },
  {
   "cell_type": "markdown",
   "id": "41b178ee",
   "metadata": {},
   "source": [
    "A great deal of Python functionality is organized around method calls.\n",
    "\n",
    "For example, consider the following piece of code"
   ]
  },
  {
   "cell_type": "code",
   "execution_count": null,
   "id": "8d2bb19c",
   "metadata": {},
   "outputs": [],
   "source": [
    "x = ['a', 'b']\n",
    "x[0] = 'aa'  # Item assignment using square bracket notation\n",
    "x"
   ]
  },
  {
   "cell_type": "markdown",
   "id": "186352b5",
   "metadata": {},
   "source": [
    "It doesn’t look like there are any methods used here, but in fact the square\n",
    "bracket assignment notation is just a convenient interface to a method call.\n",
    "\n",
    "What actually happens is that Python calls the `__setitem__` method, as follows"
   ]
  },
  {
   "cell_type": "code",
   "execution_count": null,
   "id": "ff6491d3",
   "metadata": {},
   "outputs": [],
   "source": [
    "x = ['a', 'b']\n",
    "x.__setitem__(0, 'aa')  # Equivalent to x[0] = 'aa'\n",
    "x"
   ]
  },
  {
   "cell_type": "markdown",
   "id": "a924acbf",
   "metadata": {},
   "source": [
    "(If you wanted to you could modify the `__setitem__` method, so that square bracket assignment does something totally different)"
   ]
  },
  {
   "cell_type": "markdown",
   "id": "76db30b3",
   "metadata": {},
   "source": [
    "## Inspection Using Rich\n",
    "\n",
    "There’s a nice package called [rich](https://github.com/Textualize/rich) that\n",
    "helps us view the contents of an object.\n",
    "\n",
    "For example,"
   ]
  },
  {
   "cell_type": "code",
   "execution_count": null,
   "id": "4b13f0b6",
   "metadata": {},
   "outputs": [],
   "source": [
    "#!pip install rich   # Uncomment if necessary"
   ]
  },
  {
   "cell_type": "code",
   "execution_count": null,
   "id": "cbbb6bcb",
   "metadata": {},
   "outputs": [],
   "source": [
    "from rich import inspect\n",
    "x = 10\n",
    "inspect(x)"
   ]
  },
  {
   "cell_type": "markdown",
   "id": "b8db4d88",
   "metadata": {},
   "source": [
    "If we want to see the methods as well, we can use"
   ]
  },
  {
   "cell_type": "code",
   "execution_count": null,
   "id": "9b2b7284",
   "metadata": {},
   "outputs": [],
   "source": [
    "inspect(x, methods=True)"
   ]
  },
  {
   "cell_type": "markdown",
   "id": "10d1b92c",
   "metadata": {},
   "source": [
    "In fact there are still more methods, as you can see if you execute `inspect(10, all=True)`."
   ]
  },
  {
   "cell_type": "markdown",
   "id": "3c19f8da",
   "metadata": {},
   "source": [
    "## Names and Namespaces\n",
    "\n",
    "### Variable Names in Python\n",
    "\n",
    "\n",
    "Consider the Python statement"
   ]
  },
  {
   "cell_type": "code",
   "execution_count": null,
   "id": "cab58e0e",
   "metadata": {},
   "outputs": [],
   "source": [
    "x = 42"
   ]
  },
  {
   "cell_type": "markdown",
   "id": "8291ec7f",
   "metadata": {},
   "source": [
    "In Python, `x` is called a **name**, and the statement `x = 42` **binds** the\n",
    "name `x` to the integer object `42`.\n",
    "\n",
    "There is no problem binding two or more names to the one object, regardless of what that object is"
   ]
  },
  {
   "cell_type": "code",
   "execution_count": null,
   "id": "9c1509dc",
   "metadata": {},
   "outputs": [],
   "source": [
    "def f(string):      # Create a function called f\n",
    "    print(string)   # that prints any string it's passed\n",
    "\n",
    "g = f\n",
    "id(g) == id(f)"
   ]
  },
  {
   "cell_type": "code",
   "execution_count": null,
   "id": "75f908b0",
   "metadata": {},
   "outputs": [],
   "source": [
    "g('test')"
   ]
  },
  {
   "cell_type": "markdown",
   "id": "a2c6f8be",
   "metadata": {},
   "source": [
    "What happens when the number of names bound to an object goes to zero?\n",
    "\n",
    "Here’s an example of this situation:"
   ]
  },
  {
   "cell_type": "code",
   "execution_count": null,
   "id": "38e9aff5",
   "metadata": {},
   "outputs": [],
   "source": [
    "x = 'foo'    # bind x to 'foo'\n",
    "id(x)\n",
    "x = 'bar'    # rebind x to 'bar'\n",
    "id(x)"
   ]
  },
  {
   "cell_type": "markdown",
   "id": "57da7988",
   "metadata": {},
   "source": [
    "Now there are no names bound to `'foo'`.\n",
    "\n",
    "This releases `'foo'` to be garbage collected.\n",
    "\n",
    "In other words, the memory slot that stores that object is deallocated and returned to the operating system."
   ]
  },
  {
   "cell_type": "markdown",
   "id": "828c0786",
   "metadata": {},
   "source": [
    "### Namespaces\n",
    "\n",
    "\n",
    "Recall from the preceding discussion that the statement"
   ]
  },
  {
   "cell_type": "code",
   "execution_count": null,
   "id": "d723ca25",
   "metadata": {},
   "outputs": [],
   "source": [
    "x = 42"
   ]
  },
  {
   "cell_type": "markdown",
   "id": "b7c0f79d",
   "metadata": {},
   "source": [
    "binds the name `x` to the integer object on the right-hand side.\n",
    "\n",
    "This process of binding `x` to the correct object is implemented as a dictionary.\n",
    "\n",
    "This dictionary is called a namespace."
   ]
  },
  {
   "cell_type": "markdown",
   "id": "f3fc306a",
   "metadata": {},
   "source": [
    "Python uses multiple namespaces, creating them on the fly as necessary.\n",
    "\n",
    "For example, every time we import a module, Python creates a namespace for that module.\n",
    "\n",
    "To see this in action, suppose we write a script `mathfoo.py` with a single line"
   ]
  },
  {
   "cell_type": "code",
   "execution_count": null,
   "id": "d407965a",
   "metadata": {},
   "outputs": [],
   "source": [
    "%%file mathfoo.py\n",
    "pi = 'foobar'"
   ]
  },
  {
   "cell_type": "markdown",
   "id": "56408ea6",
   "metadata": {},
   "source": [
    "Let's import this \"module\""
   ]
  },
  {
   "cell_type": "code",
   "execution_count": null,
   "id": "c6d3dce0",
   "metadata": {},
   "outputs": [],
   "source": [
    "import mathfoo"
   ]
  },
  {
   "cell_type": "markdown",
   "id": "470c8000",
   "metadata": {},
   "source": [
    "Next let’s import the `math` module from the standard library"
   ]
  },
  {
   "cell_type": "code",
   "execution_count": null,
   "id": "66a13667",
   "metadata": {},
   "outputs": [],
   "source": [
    "import math"
   ]
  },
  {
   "cell_type": "markdown",
   "id": "ef0e126a",
   "metadata": {},
   "source": [
    "Both of these modules have an attribute called `pi`"
   ]
  },
  {
   "cell_type": "code",
   "execution_count": null,
   "id": "a40414d3",
   "metadata": {},
   "outputs": [],
   "source": [
    "math.pi"
   ]
  },
  {
   "cell_type": "code",
   "execution_count": null,
   "id": "33384208",
   "metadata": {},
   "outputs": [],
   "source": [
    "mathfoo.pi"
   ]
  },
  {
   "cell_type": "markdown",
   "id": "5a895ea5",
   "metadata": {},
   "source": [
    "These two different bindings of `pi` exist in different namespaces, each one implemented as a dictionary.\n",
    "\n",
    "If you wish, you can look at the dictionary directly, using `module_name.__dict__`."
   ]
  },
  {
   "cell_type": "code",
   "execution_count": null,
   "id": "24ef449c",
   "metadata": {},
   "outputs": [],
   "source": [
    "math.__dict__.items()"
   ]
  },
  {
   "cell_type": "markdown",
   "id": "4eb82b98",
   "metadata": {},
   "source": [
    "As you know, we access elements of the namespace using the dotted attribute notation"
   ]
  },
  {
   "cell_type": "code",
   "execution_count": null,
   "id": "7fab3fd2",
   "metadata": {},
   "outputs": [],
   "source": [
    "math.pi"
   ]
  },
  {
   "cell_type": "markdown",
   "id": "d0c1f6d9",
   "metadata": {},
   "source": [
    "This is entirely equivalent to `math.__dict__['pi']`"
   ]
  },
  {
   "cell_type": "code",
   "execution_count": null,
   "id": "ac5d3e2a",
   "metadata": {},
   "outputs": [],
   "source": [
    "math.__dict__['pi'] "
   ]
  },
  {
   "cell_type": "markdown",
   "id": "3a0442f3",
   "metadata": {},
   "source": [
    "Another way to view the namespace of `math` is"
   ]
  },
  {
   "cell_type": "code",
   "execution_count": null,
   "id": "74ba0a15",
   "metadata": {},
   "outputs": [],
   "source": [
    "vars(math)"
   ]
  },
  {
   "cell_type": "markdown",
   "id": "0ea07d4a",
   "metadata": {},
   "source": [
    "### Interactive Sessions\n",
    "\n",
    "\n",
    "In Python, **all** code executed by the interpreter runs in some module.\n",
    "\n",
    "What about commands typed at the prompt?\n",
    "\n",
    "These are also regarded as being executed within a module — in this case, a module called `__main__`.\n",
    "\n",
    "To check this, we can look at the current module name via the value of `__name__` given at the prompt"
   ]
  },
  {
   "cell_type": "code",
   "execution_count": null,
   "id": "a9e51866",
   "metadata": {},
   "outputs": [],
   "source": [
    "print(__name__)"
   ]
  },
  {
   "cell_type": "markdown",
   "id": "96847d29",
   "metadata": {},
   "source": [
    "When we run a script using IPython’s `run` command, the contents of the file are\n",
    "executed as part of `__main__` too.\n",
    "\n",
    "To see this, let’s create a file `mod.py` that prints its own `__name__` attribute"
   ]
  },
  {
   "cell_type": "code",
   "execution_count": null,
   "id": "029b5cc9",
   "metadata": {},
   "outputs": [],
   "source": [
    "%%file mod.py\n",
    "print(__name__)"
   ]
  },
  {
   "cell_type": "markdown",
   "id": "a42292a9",
   "metadata": {},
   "source": [
    "Now let’s look at two different ways of running it in IPython"
   ]
  },
  {
   "cell_type": "code",
   "execution_count": null,
   "id": "fb8f60e8",
   "metadata": {},
   "outputs": [],
   "source": [
    "import mod  # Standard import"
   ]
  },
  {
   "cell_type": "code",
   "execution_count": null,
   "id": "d46e5553",
   "metadata": {},
   "outputs": [],
   "source": [
    "%run mod.py  # Run interactively"
   ]
  },
  {
   "cell_type": "markdown",
   "id": "9af6ed56",
   "metadata": {},
   "source": [
    "In the second case, the code is executed as part of `__main__`, so `__name__` is equal to `__main__`.\n",
    "\n",
    "To see the contents of the namespace of `__main__` we use `vars()` rather than `vars(__main__)`.\n",
    "\n",
    "If you do this in IPython, you will see a whole lot of variables that IPython\n",
    "needs, and has initialized when you started up your session.\n",
    "\n",
    "If you prefer to see only the variables you have initialized, use the IPython\n",
    "\"magic\" command `%whos`"
   ]
  },
  {
   "cell_type": "code",
   "execution_count": null,
   "id": "e1382f62",
   "metadata": {},
   "outputs": [],
   "source": [
    "x = 2\n",
    "y = 3\n",
    "import numpy as np\n",
    "\n",
    "%whos"
   ]
  },
  {
   "cell_type": "markdown",
   "id": "721a20c7",
   "metadata": {},
   "source": [
    "### Global and local namespaces\n",
    "\n",
    "The **global namespace** is *the namespace of the module currently being executed*.\n",
    "\n",
    "For example, suppose that we start the interpreter and begin making assignments.\n",
    "\n",
    "We are now working in the module `__main__`, and hence the namespace for `__main__` is the global namespace."
   ]
  },
  {
   "cell_type": "markdown",
   "id": "9142109f",
   "metadata": {},
   "source": [
    "When we call a function, the interpreter creates a **local namespace** for that\n",
    "function, and registers the variables in that namespace.\n",
    "\n",
    "Variables in the local namespace are called *local variables*.\n",
    "\n",
    "After the function returns, the namespace is deallocated and lost.\n",
    "\n",
    "While the function is executing, we can view the contents of the local namespace with `locals()`.\n",
    "\n",
    "For example, consider"
   ]
  },
  {
   "cell_type": "code",
   "execution_count": null,
   "id": "17e31a04",
   "metadata": {},
   "outputs": [],
   "source": [
    "def f(x):\n",
    "    a = 2\n",
    "    print(locals())\n",
    "    return a * x"
   ]
  },
  {
   "cell_type": "markdown",
   "id": "03013b39",
   "metadata": {},
   "source": [
    "Now let’s call the function"
   ]
  },
  {
   "cell_type": "code",
   "execution_count": null,
   "id": "e7d5356e",
   "metadata": {},
   "outputs": [],
   "source": [
    "f(1)"
   ]
  },
  {
   "cell_type": "markdown",
   "id": "44b7a539",
   "metadata": {},
   "source": [
    "### The `__builtins__` Namespace\n",
    "\n",
    "\n",
    "We have been using various built-in functions, such as `max(), dir(), str(), list(), len(), range(), type()`, etc.\n",
    "\n",
    "How does access to these names work?\n",
    "\n",
    "- These definitions are stored in a module called `__builtin__`.  \n",
    "- They have their own namespace called `__builtins__`."
   ]
  },
  {
   "cell_type": "code",
   "execution_count": null,
   "id": "a02662e0",
   "metadata": {},
   "outputs": [],
   "source": [
    "# Show the first 10 names in `__builtins__`\n",
    "dir(__builtins__)[:10]"
   ]
  },
  {
   "cell_type": "markdown",
   "id": "14b3a9fd",
   "metadata": {},
   "source": [
    "We can access elements of the namespace as follows"
   ]
  },
  {
   "cell_type": "code",
   "execution_count": null,
   "id": "a3ad315e",
   "metadata": {},
   "outputs": [],
   "source": [
    "__builtins__.max"
   ]
  },
  {
   "cell_type": "markdown",
   "id": "f4221d9c",
   "metadata": {},
   "source": [
    "But `__builtins__` is special, because we can always access them directly as well"
   ]
  },
  {
   "cell_type": "code",
   "execution_count": null,
   "id": "5c58ff60",
   "metadata": {},
   "outputs": [],
   "source": [
    "max"
   ]
  },
  {
   "cell_type": "code",
   "execution_count": null,
   "id": "cf9995a0",
   "metadata": {},
   "outputs": [],
   "source": [
    "__builtins__.max == max"
   ]
  },
  {
   "cell_type": "markdown",
   "id": "bb4d170f",
   "metadata": {},
   "source": [
    "## Name Resolution\n",
    "\n",
    "Namespaces help us organize variable names.\n",
    "\n",
    "(Type `import this` at the prompt and look at the last item that’s printed)\n",
    "\n",
    "At any point of execution, there are at least two namespaces that can be accessed directly.\n",
    "\n",
    "(“Accessed directly” means without using a dot, as in  `pi` rather than `math.pi`)\n",
    "\n",
    "These namespaces are\n",
    "\n",
    "- The global namespace (of the module being executed)  \n",
    "- The builtin namespace  \n",
    "\n",
    "\n",
    "If the interpreter is executing a function, then the directly accessible namespaces are\n",
    "\n",
    "- The local namespace of the function  \n",
    "- The global namespace (of the module being executed)  \n",
    "- The builtin namespace  \n",
    "\n",
    "\n",
    "Sometimes functions are defined within other functions, like so"
   ]
  },
  {
   "cell_type": "code",
   "execution_count": null,
   "id": "5d4a28bf",
   "metadata": {},
   "outputs": [],
   "source": [
    "def f():\n",
    "    a = 2\n",
    "    def g():\n",
    "        b = 4\n",
    "        print(a * b)\n",
    "    g()"
   ]
  },
  {
   "cell_type": "markdown",
   "id": "4c3a7a0f",
   "metadata": {},
   "source": [
    "Here `f` is the *enclosing function* for `g`, and each function gets its\n",
    "own namespaces.\n",
    "\n",
    "Now we can give the rule for how namespace resolution works:\n",
    "\n",
    "The order in which the interpreter searches for names is\n",
    "\n",
    "1. the local namespace (if it exists)  \n",
    "1. the hierarchy of enclosing namespaces (if they exist)  \n",
    "1. the global namespace  \n",
    "1. the builtin namespace  \n",
    "\n",
    "\n",
    "If the name is not in any of these namespaces, the interpreter raises a `NameError`.\n",
    "\n",
    "This is called the **LEGB rule** (local, enclosing, global, builtin)."
   ]
  },
  {
   "cell_type": "markdown",
   "id": "da372608",
   "metadata": {},
   "source": [
    "### Mutable Versus Immutable Parameters\n",
    "\n",
    "This is a good time to say a little more about mutable vs immutable objects.\n",
    "\n",
    "Consider the code segment"
   ]
  },
  {
   "cell_type": "code",
   "execution_count": null,
   "id": "8858a6b3",
   "metadata": {},
   "outputs": [],
   "source": [
    "def f(x):\n",
    "    x = x + 1\n",
    "    return x\n",
    "\n",
    "x = 100\n",
    "print(f\"f(x) = {f(x)} and x = {x}\")"
   ]
  },
  {
   "cell_type": "markdown",
   "id": "301395e9",
   "metadata": {},
   "source": [
    "Here's what happens\n",
    "\n",
    "* First `f` and `x` are registered in the global namespace.\n",
    "* The call `f(x)` creates a local namespace and adds `x` to it, bound to `100`.\n",
    "* Next, this local `x` is rebound to the new integer object `101`, and this value is returned.\n",
    " \n",
    "\n",
    "None of this affects the global `x`.\n",
    "\n",
    "However, it’s a different story when we use a **mutable** data type such as a list"
   ]
  },
  {
   "cell_type": "code",
   "execution_count": null,
   "id": "89895e79",
   "metadata": {},
   "outputs": [],
   "source": [
    "def f(x):\n",
    "    x[0] = x[0] + 1\n",
    "    return x\n",
    "\n",
    "x = [100]\n",
    "print(f\"f(x) = {f(x)} and x = {x}\")"
   ]
  },
  {
   "cell_type": "markdown",
   "id": "9b8fd105",
   "metadata": {},
   "source": [
    "Here’s what happens\n",
    "\n",
    "- `f` is registered as a function in the global namespace  \n",
    "- `x` is bound to `[100]` in the global namespace  \n",
    "- The call `f(x)`  \n",
    "  - Creates a local namespace  \n",
    "  - Adds `x` to the local namespace, bound to `[100]`  \n",
    "  - Mutates the data in the list to `[101]`\n",
    "  - Returns the mutated list\n",
    " \n",
    "Global `x` is now bound to the mutated list `[2]`"
   ]
  },
  {
   "cell_type": "code",
   "execution_count": null,
   "id": "59514841",
   "metadata": {},
   "outputs": [],
   "source": []
  }
 ],
 "metadata": {
  "jupytext": {
   "default_lexer": "ipython3"
  },
  "kernelspec": {
   "display_name": "Python 3 (ipykernel)",
   "language": "python",
   "name": "python3"
  }
 },
 "nbformat": 4,
 "nbformat_minor": 5
}
