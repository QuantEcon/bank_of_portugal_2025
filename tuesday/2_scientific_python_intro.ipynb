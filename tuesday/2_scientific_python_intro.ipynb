{
 "cells": [
  {
   "cell_type": "markdown",
   "id": "a1f4f580",
   "metadata": {},
   "source": [
    "## Quick scientific Python introduction\n",
    "\n",
    "**Prepared for the Bank of Portugal Computational Economics Course (Oct 2025)**\n",
    "\n",
    "**Author:** [John Stachurski](https://johnstachurski.net)\n",
    "\n",
    "This notebook does a \"whirlwind tour\" of the functionality that the scientific Python stack exposes."
   ]
  },
  {
   "cell_type": "markdown",
   "id": "cea69703",
   "metadata": {},
   "source": [
    "## Numpy"
   ]
  },
  {
   "cell_type": "code",
   "execution_count": null,
   "id": "986cc227",
   "metadata": {},
   "outputs": [],
   "source": [
    "import numpy as np"
   ]
  },
  {
   "cell_type": "markdown",
   "id": "2a9d00f1",
   "metadata": {},
   "source": [
    "NumPy is one of the core scientific libraries used in Python.\n",
    "\n",
    "It introduces an \"array\" type. \n",
    "\n",
    "This array type allows for users to represent vectors, matrices, and higher dimensional arrays."
   ]
  },
  {
   "cell_type": "code",
   "execution_count": null,
   "id": "127cef59",
   "metadata": {},
   "outputs": [],
   "source": [
    "x = np.array([0.0, 1.0, 2.0])\n",
    "\n",
    "y = np.array([[0.0, 1.0], \n",
    "              [2.0, 3.0], \n",
    "              [4.0, 5.0]])"
   ]
  },
  {
   "cell_type": "code",
   "execution_count": null,
   "id": "059f1caf",
   "metadata": {},
   "outputs": [],
   "source": [
    "x"
   ]
  },
  {
   "cell_type": "code",
   "execution_count": null,
   "id": "724f5ad1",
   "metadata": {},
   "outputs": [],
   "source": [
    "y"
   ]
  },
  {
   "cell_type": "code",
   "execution_count": null,
   "id": "4d52a97e",
   "metadata": {},
   "outputs": [],
   "source": [
    "y.shape"
   ]
  },
  {
   "cell_type": "code",
   "execution_count": null,
   "id": "6a061114",
   "metadata": {},
   "outputs": [],
   "source": [
    "y.T"
   ]
  },
  {
   "cell_type": "code",
   "execution_count": null,
   "id": "d61c0b0c",
   "metadata": {},
   "outputs": [],
   "source": [
    "y.T.shape"
   ]
  },
  {
   "cell_type": "markdown",
   "id": "5f57c511",
   "metadata": {},
   "source": [
    "**Indexing**"
   ]
  },
  {
   "cell_type": "markdown",
   "id": "94c10e3c",
   "metadata": {},
   "source": [
    "We can select elements out of the array by indexing into the arrays"
   ]
  },
  {
   "cell_type": "code",
   "execution_count": null,
   "id": "85753df6",
   "metadata": {},
   "outputs": [],
   "source": [
    "x[0]"
   ]
  },
  {
   "cell_type": "code",
   "execution_count": null,
   "id": "da210c09",
   "metadata": {},
   "outputs": [],
   "source": [
    "y[:, 1]  # Select column 1 "
   ]
  },
  {
   "cell_type": "markdown",
   "id": "4a3d6861",
   "metadata": {},
   "source": [
    "### Special array creation methods"
   ]
  },
  {
   "cell_type": "markdown",
   "id": "ca3b959e",
   "metadata": {},
   "source": [
    "**Create an empty array**"
   ]
  },
  {
   "cell_type": "code",
   "execution_count": null,
   "id": "ecfbccc3",
   "metadata": {},
   "outputs": [],
   "source": [
    "np.empty((5, 2))"
   ]
  },
  {
   "cell_type": "markdown",
   "id": "c1b5bf7c",
   "metadata": {},
   "source": [
    "**Create an array filled with zeros**"
   ]
  },
  {
   "cell_type": "code",
   "execution_count": null,
   "id": "0b635222",
   "metadata": {},
   "outputs": [],
   "source": [
    "np.zeros(10)"
   ]
  },
  {
   "cell_type": "markdown",
   "id": "4141bd65",
   "metadata": {},
   "source": [
    "**Create an array filled with ones**"
   ]
  },
  {
   "cell_type": "code",
   "execution_count": null,
   "id": "2e53a233",
   "metadata": {},
   "outputs": [],
   "source": [
    "np.ones((2, 5))"
   ]
  },
  {
   "cell_type": "markdown",
   "id": "a6ce9c14",
   "metadata": {},
   "source": [
    "**Create a vector filled with numbers from i to n**"
   ]
  },
  {
   "cell_type": "code",
   "execution_count": null,
   "id": "c329d000",
   "metadata": {},
   "outputs": [],
   "source": [
    "np.arange(1, 7)"
   ]
  },
  {
   "cell_type": "markdown",
   "id": "480bcb61",
   "metadata": {},
   "source": [
    "**Create a vector filled with n evenly spaced numbers**"
   ]
  },
  {
   "cell_type": "code",
   "execution_count": null,
   "id": "739b5643",
   "metadata": {},
   "outputs": [],
   "source": [
    "n = 11\n",
    "np.linspace(0, 5, n)"
   ]
  },
  {
   "cell_type": "markdown",
   "id": "a640b84e",
   "metadata": {},
   "source": [
    "**Create a vector filled with U(0, 1)**"
   ]
  },
  {
   "cell_type": "code",
   "execution_count": null,
   "id": "13542ad7",
   "metadata": {},
   "outputs": [],
   "source": [
    "np.random.rand(2, 3)"
   ]
  },
  {
   "cell_type": "code",
   "execution_count": null,
   "id": "d6784023",
   "metadata": {},
   "outputs": [],
   "source": [
    "np.random.rand(2, 3)   # Redraw"
   ]
  },
  {
   "cell_type": "markdown",
   "id": "4bcf70f4",
   "metadata": {},
   "source": [
    "**Create a vector filled with N(0, 1)**"
   ]
  },
  {
   "cell_type": "code",
   "execution_count": null,
   "id": "6c7b4815",
   "metadata": {},
   "outputs": [],
   "source": [
    "np.random.randn(2, 2, 3)"
   ]
  },
  {
   "cell_type": "code",
   "execution_count": null,
   "id": "62c0dcd2",
   "metadata": {},
   "outputs": [],
   "source": [
    "np.random.randn(2, 2, 3)  # Redraw"
   ]
  },
  {
   "cell_type": "markdown",
   "id": "4e7fd12d",
   "metadata": {},
   "source": [
    "### Operations on Arrays\n",
    "\n",
    "Operations on arrays are typically element by element."
   ]
  },
  {
   "cell_type": "code",
   "execution_count": null,
   "id": "bc48d15d",
   "metadata": {},
   "outputs": [],
   "source": [
    "z = np.full(3, 10.0)\n",
    "print(f\"    x = {x}\")\n",
    "print(f\"    z = {z}\")\n",
    "print(f\"z + x = {z + x}\")\n",
    "print(f\"z - x = {z - x}\")\n",
    "print(f\"z * x = {z * x}\")\n",
    "print(f\"z / x = {z / x}\")\n",
    "print(f\"z**x  = {z ** x}\")"
   ]
  },
  {
   "cell_type": "markdown",
   "id": "c71bd4db",
   "metadata": {},
   "source": [
    "**Operations between scalars and arrays**\n",
    "\n",
    "These operations do mostly what you would expect -- They apply the scalar operation to each individual element of the array."
   ]
  },
  {
   "cell_type": "code",
   "execution_count": null,
   "id": "ff0a57fb",
   "metadata": {},
   "outputs": [],
   "source": [
    "x"
   ]
  },
  {
   "cell_type": "code",
   "execution_count": null,
   "id": "2774d69e",
   "metadata": {},
   "outputs": [],
   "source": [
    "x + 1"
   ]
  },
  {
   "cell_type": "code",
   "execution_count": null,
   "id": "8d25103a",
   "metadata": {},
   "outputs": [],
   "source": [
    "x * 3"
   ]
  },
  {
   "cell_type": "code",
   "execution_count": null,
   "id": "b85f6efb",
   "metadata": {},
   "outputs": [],
   "source": [
    "x - 3"
   ]
  },
  {
   "cell_type": "markdown",
   "id": "ba79305c",
   "metadata": {},
   "source": [
    "#### Operations between arrays of different sizes\n",
    "\n",
    "In general, for pointwise operations between arrays of different shape, NumPy uses *broadcasting* rules."
   ]
  },
  {
   "cell_type": "code",
   "execution_count": null,
   "id": "a1a69b97",
   "metadata": {},
   "outputs": [],
   "source": [
    "z = np.ones((3, 1)) * 10"
   ]
  },
  {
   "cell_type": "code",
   "execution_count": null,
   "id": "58d8af05",
   "metadata": {},
   "outputs": [],
   "source": [
    "z"
   ]
  },
  {
   "cell_type": "code",
   "execution_count": null,
   "id": "03106367",
   "metadata": {},
   "outputs": [],
   "source": [
    "y"
   ]
  },
  {
   "cell_type": "code",
   "execution_count": null,
   "id": "cbde4604",
   "metadata": {},
   "outputs": [],
   "source": [
    "z + y"
   ]
  },
  {
   "cell_type": "markdown",
   "id": "da24b8a8",
   "metadata": {},
   "source": [
    "#### Matrix Multiplication"
   ]
  },
  {
   "cell_type": "code",
   "execution_count": null,
   "id": "13ea4d46",
   "metadata": {},
   "outputs": [],
   "source": [
    "print(y)\n",
    "print(y @ y.T)"
   ]
  },
  {
   "cell_type": "markdown",
   "id": "f42aafb6",
   "metadata": {},
   "source": [
    "We can use `@` for inner products too, even for \"flat\" arrays."
   ]
  },
  {
   "cell_type": "code",
   "execution_count": null,
   "id": "63e17afa",
   "metadata": {},
   "outputs": [],
   "source": [
    "z = np.random.randn(10)\n",
    "print(f\"The shape of z is {z.shape}\")\n",
    "print(\"Explicit inner product:\", np.sum(z * z))\n",
    "print(\"Using @\", z @ z)"
   ]
  },
  {
   "cell_type": "markdown",
   "id": "3b3400c3",
   "metadata": {},
   "source": [
    "### Reductions\n",
    "\n",
    "In NumPy-speak, *reductions* are functions that map an array into a single value.\n",
    "\n",
    "Here we demonstrate a few of the most common array functions and some reductions:"
   ]
  },
  {
   "cell_type": "code",
   "execution_count": null,
   "id": "b5ad05af",
   "metadata": {},
   "outputs": [],
   "source": [
    "np.cumsum(x)"
   ]
  },
  {
   "cell_type": "code",
   "execution_count": null,
   "id": "a4ff1142",
   "metadata": {},
   "outputs": [],
   "source": [
    "np.mean(z)"
   ]
  },
  {
   "cell_type": "code",
   "execution_count": null,
   "id": "b8d16fd3",
   "metadata": {},
   "outputs": [],
   "source": [
    "np.var(z)"
   ]
  },
  {
   "cell_type": "code",
   "execution_count": null,
   "id": "960394d8",
   "metadata": {},
   "outputs": [],
   "source": [
    "np.std(np.random.randn(100_000))"
   ]
  },
  {
   "cell_type": "markdown",
   "id": "95fd5f85",
   "metadata": {},
   "source": [
    "### Universal functions\n",
    "\n",
    "Universal functions (\"ufuncs\") are maps scalar-to-scalar maps\n",
    "that can also act on n-dimensional arrays, acting element-by-element."
   ]
  },
  {
   "cell_type": "code",
   "execution_count": null,
   "id": "5d301304",
   "metadata": {},
   "outputs": [],
   "source": [
    "np.sin(x)"
   ]
  },
  {
   "cell_type": "code",
   "execution_count": null,
   "id": "a31bfe68",
   "metadata": {},
   "outputs": [],
   "source": [
    "np.exp(x)"
   ]
  },
  {
   "cell_type": "markdown",
   "id": "611ddcf3",
   "metadata": {},
   "source": [
    "## Matplotlib\n",
    "\n",
    "The \"default\" plotting package for most of the Python world is `matplotlib`.\n",
    "\n",
    "It is a very flexible package and allows for creating very good looking graphs (in spite of relatively simple defaults)"
   ]
  },
  {
   "cell_type": "code",
   "execution_count": null,
   "id": "e08b8810",
   "metadata": {},
   "outputs": [],
   "source": [
    "import matplotlib.pyplot as plt"
   ]
  },
  {
   "cell_type": "markdown",
   "id": "e8bc268f",
   "metadata": {},
   "source": [
    "### Figure/Axis\n",
    "\n",
    "The main pieces of a graph in `matplotlib` are a \"figure\" and an \"axis\". We’ve found that the easiest way for us to distinguish between the figure and axis objects is to think about them as a framed painting.\n",
    "\n",
    "The axis is the canvas; it is where we “draw” our plots.\n",
    "\n",
    "The figure is the entire framed painting (which inclues the axis itself!).\n",
    "\n",
    "We can see this difference by setting certain elements of the figure to different colors."
   ]
  },
  {
   "cell_type": "code",
   "execution_count": null,
   "id": "228c6e61",
   "metadata": {},
   "outputs": [],
   "source": [
    "fig, ax = plt.subplots()\n",
    "\n",
    "fig.set_facecolor(\"green\")\n",
    "ax.set_facecolor(\"blue\")"
   ]
  },
  {
   "cell_type": "markdown",
   "id": "add3f879",
   "metadata": {},
   "source": [
    "### More"
   ]
  },
  {
   "cell_type": "markdown",
   "id": "da83e3a9",
   "metadata": {},
   "source": [
    "**Scatter plots**"
   ]
  },
  {
   "cell_type": "code",
   "execution_count": null,
   "id": "acd43362",
   "metadata": {},
   "outputs": [],
   "source": [
    "x = np.random.randn(5_000)\n",
    "y = np.random.randn(5_000)\n",
    "\n",
    "fig, ax = plt.subplots()\n",
    "\n",
    "ax.scatter(x, y, color=\"DarkBlue\", alpha=0.05, s=25);"
   ]
  },
  {
   "cell_type": "markdown",
   "id": "d84c30f1",
   "metadata": {},
   "source": [
    "**Line plots**"
   ]
  },
  {
   "cell_type": "code",
   "execution_count": null,
   "id": "c8f18efb",
   "metadata": {},
   "outputs": [],
   "source": [
    "x = np.linspace(0, 10)\n",
    "y = np.sin(x)\n",
    "\n",
    "fig, ax = plt.subplots()\n",
    "\n",
    "ax.plot(x, y, linestyle=\"-\", color=\"k\")\n",
    "ax.plot(x, 2*y, linestyle=\"--\", color=\"k\")\n",
    "\n",
    "# Bonus - Fill between two lines\n",
    "ax.fill_between(x, y, 2*y, color=\"LightBlue\", alpha=0.3);"
   ]
  },
  {
   "cell_type": "markdown",
   "id": "108959b8",
   "metadata": {},
   "source": [
    "**Bar plots**"
   ]
  },
  {
   "cell_type": "code",
   "execution_count": null,
   "id": "88bc7558",
   "metadata": {},
   "outputs": [],
   "source": [
    "x = np.arange(10)\n",
    "y = np.cos(x)\n",
    "fig, ax = plt.subplots(figsize=(6, 4))\n",
    "ax.bar(x, y);"
   ]
  },
  {
   "cell_type": "markdown",
   "id": "8d1362f8",
   "metadata": {},
   "source": [
    "**Histograms**"
   ]
  },
  {
   "cell_type": "code",
   "execution_count": null,
   "id": "3030803b",
   "metadata": {},
   "outputs": [],
   "source": [
    "x = np.random.randn(5000)\n",
    "fig, ax = plt.subplots()\n",
    "ax.hist(x, bins=25, density=True, edgecolor='k', alpha=0.5);"
   ]
  },
  {
   "cell_type": "markdown",
   "id": "53065852",
   "metadata": {},
   "source": [
    "**Plotting piecewise linear interpolation**"
   ]
  },
  {
   "cell_type": "code",
   "execution_count": null,
   "id": "baa0699c",
   "metadata": {},
   "outputs": [],
   "source": [
    "x = np.linspace(0.25, 10.0, 15)  # interpolation points on x axis\n",
    "y = np.sin(x)                    # interpolation points on y axis\n",
    "\n",
    "x_interp = np.linspace(0.0, 11, 100)    # x points where we seek interpolated values\n",
    "y_interp = np.interp(x_interp, x, y)    # interpolated values\n",
    "\n",
    "fig, ax = plt.subplots()\n",
    "ax.scatter(x, y, color=\"r\", s=20, label='interpolation points')\n",
    "ax.plot(x_interp, y_interp, alpha=0.5, lw=2, label='interpolated values')\n",
    "ax.set_yticks((-1, 0, 1))\n",
    "ax.legend();"
   ]
  },
  {
   "cell_type": "markdown",
   "id": "f7a4c21d",
   "metadata": {},
   "source": [
    "## Scipy\n",
    "\n",
    "`scipy` is a package that is closely related to `numpy`.\n",
    "\n",
    "While `numpy` introduces the array type and some basic functionality on top of that array, `scipy` extends these arrays further by providing higher level functionality with access to a variety of useful tools for science."
   ]
  },
  {
   "cell_type": "markdown",
   "id": "c8dfe8f5",
   "metadata": {},
   "source": [
    "### Interpolation\n",
    "\n",
    "NumPy provides basic linear interpolation, as shown above.\n",
    "\n",
    "The function `scipy.interpolate` provides more options"
   ]
  },
  {
   "cell_type": "code",
   "execution_count": null,
   "id": "64093970",
   "metadata": {},
   "outputs": [],
   "source": [
    "import scipy.interpolate as interp"
   ]
  },
  {
   "cell_type": "markdown",
   "id": "fb326763",
   "metadata": {},
   "source": [
    "**Piecewise cubic**"
   ]
  },
  {
   "cell_type": "code",
   "execution_count": null,
   "id": "2134a24f",
   "metadata": {},
   "outputs": [],
   "source": [
    "f = interp.interp1d(x, y, kind=\"cubic\", fill_value=\"extrapolate\")\n",
    "y_interp = f(x_interp)\n",
    "\n",
    "fig, ax = plt.subplots()\n",
    "ax.scatter(x, y, color=\"r\", s=20)\n",
    "ax.plot(x_interp, y_interp, lw=2, alpha=0.5);"
   ]
  },
  {
   "cell_type": "markdown",
   "id": "60d6a5bb",
   "metadata": {},
   "source": [
    "**Other**"
   ]
  },
  {
   "cell_type": "code",
   "execution_count": null,
   "id": "eb5443f1",
   "metadata": {},
   "outputs": [],
   "source": [
    "f = interp.PchipInterpolator(x, y, extrapolate=True)\n",
    "y_interp = f(x_interp)\n",
    "\n",
    "fig, ax = plt.subplots()\n",
    "ax.scatter(x, y, color=\"r\", s=20)\n",
    "ax.plot(x_interp, y_interp, linewidth=2, alpha=0.5)"
   ]
  },
  {
   "cell_type": "markdown",
   "id": "8e1e9e39",
   "metadata": {},
   "source": [
    "### Linear algebra\n",
    "\n",
    "Linear algebra is a core component of many toolkits. `numpy` itself has a small set of core operations that are within a package called `numpy.linalg` but `scipy.linalg` contains a superset of those operations."
   ]
  },
  {
   "cell_type": "code",
   "execution_count": null,
   "id": "55a54b0b",
   "metadata": {},
   "outputs": [],
   "source": [
    "import scipy.linalg as la"
   ]
  },
  {
   "cell_type": "markdown",
   "id": "158ea0a0",
   "metadata": {},
   "source": [
    "**Lots of your standard linear algebra tools**"
   ]
  },
  {
   "cell_type": "code",
   "execution_count": null,
   "id": "ebd4c90b",
   "metadata": {},
   "outputs": [],
   "source": [
    "X = np.array([\n",
    "    [0.5, 0.3, 0.0],\n",
    "    [0.3, 0.5, 0.4],\n",
    "    [0.0, 0.4, 0.75]\n",
    "])"
   ]
  },
  {
   "cell_type": "markdown",
   "id": "13fbeee9",
   "metadata": {},
   "source": [
    "Here's the Cholesky decomposition"
   ]
  },
  {
   "cell_type": "code",
   "execution_count": null,
   "id": "7ab1cf44",
   "metadata": {},
   "outputs": [],
   "source": [
    "L = la.cholesky(X)"
   ]
  },
  {
   "cell_type": "code",
   "execution_count": null,
   "id": "5f7ee411",
   "metadata": {},
   "outputs": [],
   "source": [
    "L.T @ L"
   ]
  },
  {
   "cell_type": "markdown",
   "id": "8d4eada4",
   "metadata": {},
   "source": [
    "Here's how we solve $X b = y$ for $b$"
   ]
  },
  {
   "cell_type": "code",
   "execution_count": null,
   "id": "5cc015d3",
   "metadata": {},
   "outputs": [],
   "source": [
    "y = np.array((0.0, 0.5, 0.3))\n",
    "la.solve(X, y)"
   ]
  },
  {
   "cell_type": "markdown",
   "id": "5a3e9429",
   "metadata": {},
   "source": [
    "Get eigenvalues:"
   ]
  },
  {
   "cell_type": "code",
   "execution_count": null,
   "id": "e9d7a96b",
   "metadata": {},
   "outputs": [],
   "source": [
    "la.eigvals(X)"
   ]
  },
  {
   "cell_type": "markdown",
   "id": "ad2c5433",
   "metadata": {},
   "source": [
    "QR decomposition:"
   ]
  },
  {
   "cell_type": "code",
   "execution_count": null,
   "id": "8eda1aa6",
   "metadata": {},
   "outputs": [],
   "source": [
    "Q, R = la.qr(X)\n",
    "print(Q, R)"
   ]
  },
  {
   "cell_type": "code",
   "execution_count": null,
   "id": "70219bd2",
   "metadata": {},
   "outputs": [],
   "source": [
    "X"
   ]
  },
  {
   "cell_type": "code",
   "execution_count": null,
   "id": "654b8107",
   "metadata": {},
   "outputs": [],
   "source": [
    "Q @ R"
   ]
  },
  {
   "cell_type": "markdown",
   "id": "f3197fe1",
   "metadata": {},
   "source": [
    "Here's how to compute an inverse:"
   ]
  },
  {
   "cell_type": "code",
   "execution_count": null,
   "id": "e270ce1c",
   "metadata": {},
   "outputs": [],
   "source": [
    "la.inv(X) @ X"
   ]
  },
  {
   "cell_type": "code",
   "execution_count": null,
   "id": "37032245",
   "metadata": {},
   "outputs": [],
   "source": [
    "np.allclose(la.inv(X) @ X, np.identity(3))"
   ]
  },
  {
   "cell_type": "markdown",
   "id": "12fd31b5",
   "metadata": {},
   "source": [
    "### Statistics\n",
    "\n",
    "We often want to work with various probability distributions. \n",
    "\n",
    "We could code up the pdf or a sampler ourselves but this work is largely done for us within `scipy.statistics`."
   ]
  },
  {
   "cell_type": "code",
   "execution_count": null,
   "id": "33ef16f6",
   "metadata": {},
   "outputs": [],
   "source": [
    "import scipy.stats as st"
   ]
  },
  {
   "cell_type": "code",
   "execution_count": null,
   "id": "ec29d01c",
   "metadata": {},
   "outputs": [],
   "source": [
    "# location specifies the mean / scale specifies the standard deviation\n",
    "d = st.norm(loc=2.0, scale=4.0)"
   ]
  },
  {
   "cell_type": "code",
   "execution_count": null,
   "id": "b604c16e",
   "metadata": {},
   "outputs": [],
   "source": [
    "# Draw random samples\n",
    "d.rvs(25)"
   ]
  },
  {
   "cell_type": "code",
   "execution_count": null,
   "id": "eaaf0088",
   "metadata": {},
   "outputs": [],
   "source": [
    "# Probability density function\n",
    "d.pdf(0.5)"
   ]
  },
  {
   "cell_type": "code",
   "execution_count": null,
   "id": "d63bc86f",
   "metadata": {},
   "outputs": [],
   "source": [
    "# Cumulative density function\n",
    "d.cdf(2.0)"
   ]
  },
  {
   "cell_type": "code",
   "execution_count": null,
   "id": "fb487cd6",
   "metadata": {},
   "outputs": [],
   "source": [
    "# Fit a normal rv to N(0, 1) data\n",
    "st.norm.fit(12 + 4 * np.random.randn(100_000))"
   ]
  },
  {
   "cell_type": "markdown",
   "id": "6504e5de",
   "metadata": {},
   "source": [
    "SciPy's API for working with probability distributions is a bit weird but the code is stable and well-written."
   ]
  },
  {
   "cell_type": "markdown",
   "id": "1deac199",
   "metadata": {},
   "source": [
    "## Numba\n",
    "\n",
    "Numba is a powerful package that brings \"just-in-time\" (JIT) compilation technology to Python."
   ]
  },
  {
   "cell_type": "code",
   "execution_count": null,
   "id": "062ab6f6",
   "metadata": {},
   "outputs": [],
   "source": [
    "import numpy as np\n",
    "\n",
    "\n",
    "def calculate_pi_python(n=1_000_000):\n",
    "    \"\"\"\n",
    "    Approximates π as follows:\n",
    "\n",
    "    For a circle of radius 1/2, area = π r^2 = π / 4 \n",
    "\n",
    "    Hence π = 4 area.\n",
    "\n",
    "    We estimate the area of a circle C of radius 1/2 inside the unit square S = [0, 1] x [0, 1].\n",
    "\n",
    "        area = probability that a uniform distribution on S assigns to C\n",
    "        area is approximately fraction of uniform draws in S that fall in C\n",
    "\n",
    "    Then we estimate π using the formula above.\n",
    "    \"\"\"\n",
    "    in_circ = 0\n",
    "\n",
    "    for i in range(n):\n",
    "        # Draw (x, y) uniformly on S\n",
    "        x = np.random.random()\n",
    "        y = np.random.random()\n",
    "        # Increment counter if (x, y) falls in C\n",
    "        if np.sqrt((x - 0.5)**2 + (y - 0.5)**2) < 1/2:\n",
    "            in_circ += 1\n",
    "\n",
    "    approximate_area = in_circ / n\n",
    "\n",
    "    return 4 * approximate_area"
   ]
  },
  {
   "cell_type": "code",
   "execution_count": null,
   "id": "f2d8a756",
   "metadata": {},
   "outputs": [],
   "source": [
    "%%timeit\n",
    "\n",
    "calculate_pi_python(1_000_000)"
   ]
  },
  {
   "cell_type": "markdown",
   "id": "6e9d1a96",
   "metadata": {},
   "source": [
    "To get a idea of how fast this is, let's compare it to a Fortran version.\n",
    "\n",
    "The following code allows us to call Fortran code from within Jupyter."
   ]
  },
  {
   "cell_type": "code",
   "execution_count": null,
   "id": "cee7a54e",
   "metadata": {},
   "outputs": [],
   "source": [
    "#pip install meson ninja  # Uncomment if you wish"
   ]
  },
  {
   "cell_type": "code",
   "execution_count": null,
   "id": "ac1f5400",
   "metadata": {},
   "outputs": [],
   "source": [
    "#pip install fortran-magic  # Uncomment if you wish"
   ]
  },
  {
   "cell_type": "code",
   "execution_count": null,
   "id": "339eb08c",
   "metadata": {},
   "outputs": [],
   "source": [
    "#sudo apt install gfortran  # Uncomment for Ubuntu or search for instructions for your OS"
   ]
  },
  {
   "cell_type": "code",
   "execution_count": null,
   "id": "3b74bd47",
   "metadata": {},
   "outputs": [],
   "source": [
    "%load_ext fortranmagic"
   ]
  },
  {
   "cell_type": "code",
   "execution_count": null,
   "id": "7b8c548c",
   "metadata": {},
   "outputs": [],
   "source": [
    "%%fortran\n",
    "\n",
    "subroutine calculate_pi_fortran(n, pi_approx)\n",
    "    implicit none\n",
    "    integer, intent(in) :: n\n",
    "    real, intent(out) :: pi_approx\n",
    "    \n",
    "    integer :: in_circ, i\n",
    "    real :: x, y, distance\n",
    "    real :: approximate_area\n",
    "\n",
    "    in_circ = 0\n",
    "    \n",
    "    CALL RANDOM_SEED\n",
    "    DO i = 1, n\n",
    "        ! Draw (x, y) uniformly on unit square [0,1] x [0,1]\n",
    "        CALL RANDOM_NUMBER(x)\n",
    "        CALL RANDOM_NUMBER(y)\n",
    "        \n",
    "        ! Calculate distance from center (0.5, 0.5)\n",
    "        distance = SQRT((x - 0.5)**2 + (y - 0.5)**2)\n",
    "        \n",
    "        ! Increment counter if (x, y) falls in circle of radius 1/2\n",
    "        IF (distance < 0.5) in_circ = in_circ + 1\n",
    "    END DO\n",
    "\n",
    "    ! Estimate area and then π\n",
    "    approximate_area = REAL(in_circ) / REAL(n)\n",
    "    pi_approx = 4.0 * approximate_area\n",
    "end subroutine calculate_pi_fortran\n"
   ]
  },
  {
   "cell_type": "code",
   "execution_count": null,
   "id": "5028217d",
   "metadata": {},
   "outputs": [],
   "source": [
    "%%timeit\n",
    "\n",
    "calculate_pi_fortran(1_000_000)"
   ]
  },
  {
   "cell_type": "markdown",
   "id": "6c94c699",
   "metadata": {},
   "source": [
    "Clearly Fortran is much faster that the Python code.\n",
    "\n",
    "So should we be using Fortran?\n",
    "\n",
    "In general, no --- the next section explains."
   ]
  },
  {
   "cell_type": "markdown",
   "id": "88b28af1",
   "metadata": {},
   "source": [
    "**JIT compilation**\n",
    "\n",
    "JIT is a relatively modern development which has the goal of bridging some of the gaps between compiled and interpreted.\n",
    "\n",
    "Rather than compile the code ahead of time or interpreting line-by-line, JIT compiles small chunks of the code right before it runs them.\n",
    "\n",
    "For example, recall the function `mc_approximate_pi_python` (that we wrote earlier) that approximates the value of pi using Monte-carlo methods... We might even want to run this function multiple times to average across the approximations. The way that JIT works is,\n",
    "\n",
    "1. Check the input types to the function\n",
    "2. The first time it sees particular types of inputs to the function, it compiles the function assuming those types as inputs and stores this compiled code\n",
    "3. The computer then runs the function using the compiled code -- If it has seen these inputs before, it can jump directly to this step.\n",
    "\n",
    "`numba` is a package that will empower Python with \"JIT super powers\""
   ]
  },
  {
   "cell_type": "markdown",
   "id": "84e7fb64",
   "metadata": {},
   "source": [
    "**What works within Numba?**\n",
    "\n",
    "* Almost all core Python objects. including: lists, tuples, dictionaries, integers, floats, strings\n",
    "* Python logic, including: `if.. elif.. else`, `while`, `for .. in`, `break`, `continue`\n",
    "* NumPy arrays\n",
    "* Many (but not all!) NumPy functions"
   ]
  },
  {
   "cell_type": "code",
   "execution_count": null,
   "id": "4db00746",
   "metadata": {},
   "outputs": [],
   "source": [
    "import numba"
   ]
  },
  {
   "cell_type": "code",
   "execution_count": null,
   "id": "e3160207",
   "metadata": {},
   "outputs": [],
   "source": [
    "calculate_pi_numba = numba.jit(calculate_pi_python)"
   ]
  },
  {
   "cell_type": "code",
   "execution_count": null,
   "id": "5ab52008",
   "metadata": {},
   "outputs": [],
   "source": [
    "%%time\n",
    "\n",
    "calculate_pi_numba(1_000_000)"
   ]
  },
  {
   "cell_type": "code",
   "execution_count": null,
   "id": "8a26d3d4",
   "metadata": {},
   "outputs": [],
   "source": [
    "%%timeit\n",
    "\n",
    "calculate_pi_numba(1_000_000)"
   ]
  },
  {
   "cell_type": "markdown",
   "id": "54596c42",
   "metadata": {},
   "source": [
    "**Writing parallel code with numba**"
   ]
  },
  {
   "cell_type": "code",
   "execution_count": null,
   "id": "6925331c",
   "metadata": {},
   "outputs": [],
   "source": [
    "@numba.jit(parallel=True)\n",
    "def calculate_pi_parallel(n=1_000_000):\n",
    "    in_circ = 0\n",
    "\n",
    "    for i in numba.prange(n):\n",
    "        # Draw (x, y) uniformly on S\n",
    "        x = np.random.random()\n",
    "        y = np.random.random()\n",
    "        # Increment counter if (x, y) falls in C\n",
    "        if np.sqrt((x - 0.5)**2 + (y - 0.5)**2) < 1/2:\n",
    "            in_circ += 1\n",
    "\n",
    "    approximate_area = in_circ / n\n",
    "\n",
    "    return 4 * approximate_area"
   ]
  },
  {
   "cell_type": "code",
   "execution_count": null,
   "id": "e0761df9",
   "metadata": {},
   "outputs": [],
   "source": [
    "calculate_pi_parallel(1_000_000)"
   ]
  },
  {
   "cell_type": "code",
   "execution_count": null,
   "id": "4d27cd73",
   "metadata": {},
   "outputs": [],
   "source": [
    "%%timeit\n",
    "\n",
    "calculate_pi_parallel(1_000_000)"
   ]
  },
  {
   "cell_type": "markdown",
   "id": "b391c8a7",
   "metadata": {},
   "source": [
    "**Writing GPU code with numba**"
   ]
  },
  {
   "cell_type": "code",
   "execution_count": null,
   "id": "6fa26ab2",
   "metadata": {},
   "outputs": [],
   "source": [
    "import numpy as np\n",
    "\n",
    "from numba import cuda\n",
    "from numba.cuda.random import create_xoroshiro128p_states, xoroshiro128p_uniform_float32"
   ]
  },
  {
   "cell_type": "code",
   "execution_count": null,
   "id": "8a8fd84f",
   "metadata": {},
   "outputs": [],
   "source": [
    "@cuda.jit\n",
    "def compute_pi(rng_states, n, out):\n",
    "    thread_id = cuda.grid(1)\n",
    "\n",
    "    # Compute pi by drawing random (x, y) points and finding\n",
    "    # the fraction that lie inside the unit circle\n",
    "    inside = 0\n",
    "    for i in range(n):\n",
    "        x = xoroshiro128p_uniform_float32(rng_states, thread_id)\n",
    "        y = xoroshiro128p_uniform_float32(rng_states, thread_id)\n",
    "        if x**2 + y**2 <= 1.0:\n",
    "            inside += 1\n",
    "\n",
    "    out[thread_id] = 4.0 * inside / n"
   ]
  },
  {
   "cell_type": "code",
   "execution_count": null,
   "id": "ee006feb",
   "metadata": {},
   "outputs": [],
   "source": [
    "%%time\n",
    "\n",
    "threads_per_block = 64\n",
    "blocks = 32\n",
    "\n",
    "n = 500\n",
    "\n",
    "rng_states = create_xoroshiro128p_states(threads_per_block*blocks, seed=3252024)\n",
    "out = np.zeros(threads_per_block*blocks, dtype=np.float32)\n",
    "\n",
    "compute_pi[blocks, threads_per_block](rng_states, n, out)"
   ]
  },
  {
   "cell_type": "code",
   "execution_count": null,
   "id": "9a85b59a",
   "metadata": {},
   "outputs": [],
   "source": [
    "print(\"As if we sampled: \", threads_per_block*blocks*n)\n",
    "print(\"Pi: \", out.mean())"
   ]
  }
 ],
 "metadata": {
  "jupytext": {
   "default_lexer": "ipython3"
  },
  "kernelspec": {
   "display_name": "Python 3 (ipykernel)",
   "language": "python",
   "name": "python3"
  }
 },
 "nbformat": 4,
 "nbformat_minor": 5
}
