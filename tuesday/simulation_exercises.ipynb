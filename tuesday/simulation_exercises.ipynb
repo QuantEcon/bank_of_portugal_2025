{
 "cells": [
  {
   "cell_type": "markdown",
   "id": "6676ae4c",
   "metadata": {},
   "source": [
    "# Simulation Exercises\n",
    "\n",
    "**Prepared for the Bank of Portugal Computational Economics Course (Oct 2025)**\n",
    "\n",
    "**Author:** [John Stachurski](https://johnstachurski.net)"
   ]
  },
  {
   "cell_type": "markdown",
   "id": "d632d45f",
   "metadata": {},
   "source": [
    "This notebook contains some exercises related to simulation."
   ]
  },
  {
   "cell_type": "code",
   "execution_count": null,
   "id": "8dd9c249",
   "metadata": {},
   "outputs": [],
   "source": [
    "import numpy as np\n",
    "import matplotlib.pyplot as plt\n",
    "import numba\n",
    "from numba import jit, prange\n",
    "import quantecon as qe"
   ]
  },
  {
   "cell_type": "markdown",
   "id": "720c839d",
   "metadata": {},
   "source": [
    "## Exercise\n",
    "\n",
    "Suppose that the volatility of returns on an asset can be in one of two regimes — high or low.\n",
    "\n",
    "The transition probabilities across states are as follows\n",
    "\n",
    "![https://python-programming.quantecon.org/_static/lecture_specific/sci_libs/nfs_ex1.png](https://python-programming.quantecon.org/_static/lecture_specific/sci_libs/nfs_ex1.png)\n",
    "\n",
    "  \n",
    "For example, let the period length be one day, and suppose the current state is high.\n",
    "\n",
    "We see from the graph that the state tomorrow will be\n",
    "\n",
    "- high with probability 0.8  \n",
    "- low with probability 0.2  \n",
    "\n",
    "\n",
    "Your task is to simulate a sequence of daily volatility states according to this rule.\n",
    "\n",
    "Set the length of the sequence to `n = 1_000_000` and start in the high state.\n",
    "\n",
    "To test your code, evaluate the fraction of time that the chain spends in the low state.\n",
    "\n",
    "If your code is correct, it should be about 2/3.\n",
    "\n",
    "Implement a pure Python version and a Numba version, and compare speeds.\n",
    "\n",
    "Hints:\n",
    "\n",
    "- Represent the low state as 0 and the high state as 1.  \n",
    "\n",
    "- To store integers in a NumPy array and then apply JIT compilation, use `x = np.empty(n, dtype=numba.int32)` or similar."
   ]
  },
  {
   "cell_type": "code",
   "execution_count": null,
   "id": "240c1eb4",
   "metadata": {},
   "outputs": [],
   "source": [
    "# Put your code here"
   ]
  },
  {
   "cell_type": "code",
   "execution_count": null,
   "id": "f5fde38d",
   "metadata": {},
   "outputs": [],
   "source": [
    "for _ in range(20):\n",
    "    print('Solution below!')"
   ]
  },
  {
   "cell_type": "markdown",
   "id": "0afd3dc1",
   "metadata": {},
   "source": [
    "We let\n",
    "\n",
    "- 0 represent “low”  \n",
    "- 1 represent “high”"
   ]
  },
  {
   "cell_type": "code",
   "execution_count": null,
   "id": "5b8b48f4",
   "metadata": {},
   "outputs": [],
   "source": [
    "p, q = 0.1, 0.2  # Prob of leaving low and high state respectively"
   ]
  },
  {
   "cell_type": "markdown",
   "id": "6726e4b7",
   "metadata": {},
   "source": [
    "Here’s a pure Python version of the function"
   ]
  },
  {
   "cell_type": "code",
   "execution_count": null,
   "id": "dfe0a760",
   "metadata": {},
   "outputs": [],
   "source": [
    "def compute_series(n):\n",
    "    x = np.empty(n, dtype=np.int32)\n",
    "    x[0] = 1  # Start in state 1\n",
    "    for t in range(1, n):\n",
    "        U = np.random.random()\n",
    "        current_x = x[t-1]\n",
    "        if current_x == 0:\n",
    "            x[t] = 1 if U < p else 0\n",
    "        else: # x = 1\n",
    "            x[t] = 0 if U < q else 1\n",
    "    return x"
   ]
  },
  {
   "cell_type": "code",
   "execution_count": null,
   "id": "6e590d9d",
   "metadata": {},
   "outputs": [],
   "source": [
    "n = 1_000_000"
   ]
  },
  {
   "cell_type": "code",
   "execution_count": null,
   "id": "9392fef4",
   "metadata": {},
   "outputs": [],
   "source": [
    "timer = qe.Timer()\n",
    "with timer:\n",
    "    x = compute_series(n)\n",
    "elapsed_time = timer.elapsed  "
   ]
  },
  {
   "cell_type": "code",
   "execution_count": null,
   "id": "00ed3df4",
   "metadata": {},
   "outputs": [],
   "source": [
    "print(np.mean(x == 0))  # Fraction of time x is in state 0"
   ]
  },
  {
   "cell_type": "markdown",
   "id": "309d7e51",
   "metadata": {},
   "source": [
    "Just for fun, let's add a plot that shows how the fraction of time spent in state zero converges to 2/3."
   ]
  },
  {
   "cell_type": "code",
   "execution_count": null,
   "id": "7d174037",
   "metadata": {},
   "outputs": [],
   "source": [
    "n_plot = 2500\n",
    "x_plot = compute_series(n_plot)\n",
    "\n",
    "# Calculate cumulative fraction of time in state 0 (unemployed)\n",
    "cumulative_fraction = np.cumsum(x_plot == 0) / np.arange(1, n_plot + 1)\n",
    "\n",
    "plt.figure()\n",
    "plt.plot(cumulative_fraction, color='C0', label='Observed fraction')\n",
    "plt.axhline(y=2/3, color='C1', linestyle='--', label='Theoretical value (2/3)')\n",
    "plt.fill_between(range(n_plot), cumulative_fraction, 2/3, color='C2', alpha=0.2)\n",
    "plt.xlabel('Time')\n",
    "\n",
    "plt.ylim(0, 1)\n",
    "plt.legend()\n",
    "plt.show()"
   ]
  },
  {
   "cell_type": "markdown",
   "id": "96a4a3b6",
   "metadata": {},
   "source": [
    "Now let's speed it up:"
   ]
  },
  {
   "cell_type": "code",
   "execution_count": null,
   "id": "c8b27b94",
   "metadata": {},
   "outputs": [],
   "source": [
    "fast_compute_series = jit(compute_series)"
   ]
  },
  {
   "cell_type": "markdown",
   "id": "57845c5f",
   "metadata": {},
   "source": [
    "Warm up:"
   ]
  },
  {
   "cell_type": "code",
   "execution_count": null,
   "id": "0248a29e",
   "metadata": {},
   "outputs": [],
   "source": [
    "fast_compute_series(n)"
   ]
  },
  {
   "cell_type": "markdown",
   "id": "3145bf3a",
   "metadata": {},
   "source": [
    "Now let's check the speed:"
   ]
  },
  {
   "cell_type": "code",
   "execution_count": null,
   "id": "5ce7ed59",
   "metadata": {},
   "outputs": [],
   "source": [
    "with timer:\n",
    "    x = fast_compute_series(n)\n",
    "elapsed_time_numba = timer.elapsed  \n",
    "\n",
    "print(f\"Numba is {elapsed_time / elapsed_time_numba} faster.\")"
   ]
  },
  {
   "cell_type": "markdown",
   "id": "77a48015",
   "metadata": {},
   "source": [
    "## Exercise\n",
    "\n",
    "\n",
    "We consider using Monte Carlo to price a European call option.\n",
    "\n",
    "The price of the option obeys \n",
    "\n",
    "$$\n",
    "P = \\beta^n \\mathbb E \\max\\{ S_n - K, 0 \\}\n",
    "$$\n",
    "\n",
    "where\n",
    "\n",
    "1. $\\beta$ is a discount factor,\n",
    "2. $n$ is the expiry date,\n",
    "2. $K$ is the strike price and\n",
    "3. $\\{S_t\\}$ is the price of the underlying asset at each time $t$.\n",
    "\n",
    "Suppose that `n, β, K = 20, 0.99, 100`.\n",
    "\n",
    "Assume that the stock price obeys \n",
    "\n",
    "$$ \n",
    "\\ln \\frac{S_{t+1}}{S_t} = \\mu + \\sigma_t \\xi_{t+1}\n",
    "$$\n",
    "\n",
    "where \n",
    "\n",
    "$$ \n",
    "    \\sigma_t = \\exp(h_t), \n",
    "    \\quad\n",
    "        h_{t+1} = \\rho h_t + \\nu \\eta_{t+1}\n",
    "$$\n",
    "\n",
    "Here $\\{\\xi_t\\}$ and $\\{\\eta_t\\}$ are IID and standard normal.\n",
    "\n",
    "(This is a stochastic volatility model, where the volatility $\\sigma_t$ varies over time.)\n",
    "\n",
    "Use the defaults `μ, ρ, ν, S0, h0 = 0.0001, 0.1, 0.001, 10, 0`.\n",
    "\n",
    "(Here `S0` is $S_0$ and `h0` is $h_0$.)\n",
    "\n",
    "By generating $M$ paths $s_0, \\ldots, s_n$, compute the Monte Carlo estimate \n",
    "\n",
    "$$\n",
    "    \\hat P_M \n",
    "    := \\beta^n \\mathbb E \\max\\{ S_n - K, 0 \\} \n",
    "    \\approx\n",
    "    \\beta^n \\frac{1}{M} \\sum_{m=1}^M \\max \\{S_n^m - K, 0 \\}\n",
    "$$\n",
    "    \n",
    "\n",
    "If you can, use Numba to speed up loops.\n",
    "\n",
    "If possible, use Numba-based multithreading (`parallel=True`) to speed it even\n",
    "further."
   ]
  },
  {
   "cell_type": "code",
   "execution_count": null,
   "id": "e6da52ac",
   "metadata": {},
   "outputs": [],
   "source": [
    "# Put your code here"
   ]
  },
  {
   "cell_type": "code",
   "execution_count": null,
   "id": "ec18b932",
   "metadata": {},
   "outputs": [],
   "source": [
    "for _ in range(20):\n",
    "    print('solution below')"
   ]
  },
  {
   "cell_type": "markdown",
   "id": "c58c4d06",
   "metadata": {},
   "source": [
    "With $s_t := \\ln S_t$, the price dynamics become\n",
    "\n",
    "$$\n",
    "s_{t+1} = s_t + \\mu + \\exp(h_t) \\xi_{t+1}\n",
    "$$\n",
    "\n",
    "Using this fact, the solution can be written as follows."
   ]
  },
  {
   "cell_type": "code",
   "execution_count": null,
   "id": "cbe5dfa4",
   "metadata": {},
   "outputs": [],
   "source": [
    "from numpy.random import randn\n",
    "M = 10_000_000\n",
    "\n",
    "n, β, K = 20, 0.99, 100\n",
    "μ, ρ, ν, S0, h0 = 0.0001, 0.1, 0.001, 10, 0\n",
    "\n",
    "@jit(parallel=True)\n",
    "def compute_call_price_parallel(β=β,\n",
    "                                μ=μ,\n",
    "                                S0=S0,\n",
    "                                h0=h0,\n",
    "                                K=K,\n",
    "                                n=n,\n",
    "                                ρ=ρ,\n",
    "                                ν=ν,\n",
    "                                M=M):\n",
    "    current_sum = 0.0\n",
    "    # For each sample path\n",
    "    for m in prange(M):\n",
    "        s = np.log(S0)\n",
    "        h = h0\n",
    "        # Simulate forward in time\n",
    "        for t in range(n):\n",
    "            s = s + μ + np.exp(h) * randn()\n",
    "            h = ρ * h + ν * randn()\n",
    "        # And add the value max{S_n - K, 0} to current_sum\n",
    "        current_sum += np.maximum(np.exp(s) - K, 0)\n",
    "        \n",
    "    return β**n * current_sum / M"
   ]
  },
  {
   "cell_type": "markdown",
   "id": "bef641ca",
   "metadata": {},
   "source": [
    "Let's also create non-parallel version for comparison"
   ]
  },
  {
   "cell_type": "code",
   "execution_count": null,
   "id": "429b9a40",
   "metadata": {},
   "outputs": [],
   "source": [
    "@jit(parallel=False)\n",
    "def compute_call_price_serial(β=β,\n",
    "                              μ=μ,\n",
    "                              S0=S0,\n",
    "                              h0=h0,\n",
    "                              K=K,\n",
    "                              n=n,\n",
    "                              ρ=ρ,\n",
    "                              ν=ν,\n",
    "                              M=M):\n",
    "    current_sum = 0.0\n",
    "    # For each sample path\n",
    "    for m in range(M):\n",
    "        s = np.log(S0)\n",
    "        h = h0\n",
    "        # Simulate forward in time\n",
    "        for t in range(n):\n",
    "            s = s + μ + np.exp(h) * randn()\n",
    "            h = ρ * h + ν * randn()\n",
    "        # And add the value max{S_n - K, 0} to current_sum\n",
    "        current_sum += np.maximum(np.exp(s) - K, 0)\n",
    "\n",
    "    return β**n * current_sum / M"
   ]
  },
  {
   "cell_type": "code",
   "execution_count": null,
   "id": "9c84481a",
   "metadata": {},
   "outputs": [],
   "source": [
    "# Warm up both functions\n",
    "_ = compute_call_price_parallel()\n",
    "_ = compute_call_price_serial()"
   ]
  },
  {
   "cell_type": "code",
   "execution_count": null,
   "id": "709da987",
   "metadata": {},
   "outputs": [],
   "source": [
    "# Time serial version\n",
    "timer = qe.Timer()\n",
    "with timer:\n",
    "    price_serial = compute_call_price_serial()\n",
    "elapsed_time_serial = timer.elapsed\n",
    "print(f\"Serial price: {price_serial:.6f}\")"
   ]
  },
  {
   "cell_type": "code",
   "execution_count": null,
   "id": "836465f1",
   "metadata": {},
   "outputs": [],
   "source": [
    "# Time parallel version\n",
    "with timer:\n",
    "    price_parallel = compute_call_price_parallel()\n",
    "elapsed_time_parallel = timer.elapsed\n",
    "print(f\"Parallel price: {price_parallel:.6f}\")\n",
    "print(f\"Parallel is {elapsed_time_serial / elapsed_time_parallel:.2f}x faster\")"
   ]
  },
  {
   "cell_type": "code",
   "execution_count": null,
   "id": "0e8d7d8e",
   "metadata": {},
   "outputs": [],
   "source": []
  }
 ],
 "metadata": {
  "jupytext": {
   "default_lexer": "ipython3"
  },
  "kernelspec": {
   "display_name": "Python 3 (ipykernel)",
   "language": "python",
   "name": "python3"
  }
 },
 "nbformat": 4,
 "nbformat_minor": 5
}
