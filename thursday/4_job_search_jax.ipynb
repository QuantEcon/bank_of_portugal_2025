{
 "cells": [
  {
   "cell_type": "markdown",
   "id": "68d50fd0",
   "metadata": {},
   "source": [
    "# Job Search\n",
    "\n",
    "**Prepared for the Bank of Portugal Computational Economics Course (Oct 2025)**\n",
    "\n",
    "**Author:** [John Stachurski](https://johnstachurski.net)\n",
    "\n",
    "\n",
    "In this lecture we study a basic infinite-horizon job search problem with Markov wage\n",
    "draws \n",
    "\n",
    "* For background on infinite horizon job search see, e.g., [DP1](https://dp.quantecon.org/).\n",
    "\n",
    "\n",
    "In addition to what's in Anaconda, this lecture will need the QE library:"
   ]
  },
  {
   "cell_type": "code",
   "execution_count": 1,
   "id": "1ad9e957",
   "metadata": {
    "execution": {
     "iopub.execute_input": "2025-10-07T05:05:25.529495Z",
     "iopub.status.busy": "2025-10-07T05:05:25.529046Z",
     "iopub.status.idle": "2025-10-07T05:05:25.535803Z",
     "shell.execute_reply": "2025-10-07T05:05:25.534465Z"
    }
   },
   "outputs": [],
   "source": [
    "#!pip install quantecon  # Uncomment if necessary"
   ]
  },
  {
   "cell_type": "markdown",
   "id": "71433810",
   "metadata": {},
   "source": [
    "We use the following imports."
   ]
  },
  {
   "cell_type": "code",
   "execution_count": 2,
   "id": "90559b8f",
   "metadata": {
    "execution": {
     "iopub.execute_input": "2025-10-07T05:05:25.539635Z",
     "iopub.status.busy": "2025-10-07T05:05:25.539207Z",
     "iopub.status.idle": "2025-10-07T05:05:26.571757Z",
     "shell.execute_reply": "2025-10-07T05:05:26.571320Z"
    }
   },
   "outputs": [],
   "source": [
    "import matplotlib.pyplot as plt\n",
    "import quantecon as qe\n",
    "import jax.numpy as jnp\n",
    "import jax\n",
    "from jax import lax\n",
    "import time\n",
    "from typing import NamedTuple, Callable\n",
    "from functools import partial"
   ]
  },
  {
   "cell_type": "markdown",
   "id": "6ce584f9",
   "metadata": {},
   "source": [
    "## Model\n",
    "\n",
    "We study an elementary model where \n",
    "\n",
    "* jobs are permanent \n",
    "* unemployed workers receive current compensation $c$\n",
    "* the horizon is infinite\n",
    "* an unemployment agent discounts the future via discount factor $\\beta \\in (0,1)$\n",
    "\n",
    "### Set up\n",
    "\n",
    "At the start of each period, an unemployed worker receives wage offer $W_t$.\n",
    "\n",
    "We assume that \n",
    "\n",
    "$$\n",
    "    \\ln W_{t+1} = \\rho \\ln W_t + \\nu Z_{t+1}\n",
    "$$\n",
    "\n",
    "where $(Z_t)_{t \\geq 0}$ is IID and standard normal.\n",
    "\n",
    "We then discretize this wage process using Tauchen's method to produce a stochastic matrix $P$.\n",
    "\n",
    "Successive wage offers are drawn from $P$.\n",
    "\n",
    "### Rewards\n",
    "\n",
    "Since jobs are permanent, the return to accepting wage offer $w$ today is\n",
    "\n",
    "$$\n",
    "    w + \\beta w + \\beta^2 w + \n",
    "    \\cdots = \\frac{w}{1-\\beta}\n",
    "$$\n",
    "\n",
    "The Bellman equation is\n",
    "\n",
    "$$\n",
    "    v(w) = \\max\n",
    "    \\left\\{\n",
    "            \\frac{w}{1-\\beta}, c + \\beta \\sum_{w'} v(w') P(w, w')\n",
    "    \\right\\}\n",
    "$$\n",
    "\n",
    "We solve this model using value function iteration."
   ]
  },
  {
   "cell_type": "markdown",
   "id": "76494966",
   "metadata": {},
   "source": [
    "## Code\n",
    "\n",
    "Let's set up a `Model` class to store information needed to solve the model."
   ]
  },
  {
   "cell_type": "code",
   "execution_count": 3,
   "id": "31478221",
   "metadata": {
    "execution": {
     "iopub.execute_input": "2025-10-07T05:05:26.573405Z",
     "iopub.status.busy": "2025-10-07T05:05:26.573169Z",
     "iopub.status.idle": "2025-10-07T05:05:26.576927Z",
     "shell.execute_reply": "2025-10-07T05:05:26.575726Z"
    }
   },
   "outputs": [],
   "source": [
    "class Model(NamedTuple):\n",
    "    n: int\n",
    "    w_vals: jnp.ndarray\n",
    "    P: jnp.ndarray\n",
    "    β: float\n",
    "    c: float"
   ]
  },
  {
   "cell_type": "markdown",
   "id": "7c9fe5a1",
   "metadata": {},
   "source": [
    "The function below holds default values and creates a `Model` instance."
   ]
  },
  {
   "cell_type": "code",
   "execution_count": 4,
   "id": "272502f4",
   "metadata": {
    "execution": {
     "iopub.execute_input": "2025-10-07T05:05:26.580463Z",
     "iopub.status.busy": "2025-10-07T05:05:26.580058Z",
     "iopub.status.idle": "2025-10-07T05:05:26.585798Z",
     "shell.execute_reply": "2025-10-07T05:05:26.585132Z"
    }
   },
   "outputs": [],
   "source": [
    "def create_js_model(\n",
    "        n: int = 500,       # wage grid size\n",
    "        ρ: float = 0.9,     # wage persistence\n",
    "        ν: float = 0.2,     # wage volatility\n",
    "        β: float = 0.99,    # discount factor\n",
    "        c: float = 1.0,     # unemployment compensation\n",
    "    ) -> Model:\n",
    "    \"Creates an instance of the job search model with Markov wages.\"\n",
    "    mc = qe.tauchen(n, ρ, ν)\n",
    "    w_vals, P = jnp.exp(mc.state_values), jnp.array(mc.P)\n",
    "    return Model(n, w_vals, P, β, c)"
   ]
  },
  {
   "cell_type": "markdown",
   "id": "78b7af31",
   "metadata": {},
   "source": [
    "Let's test it:"
   ]
  },
  {
   "cell_type": "code",
   "execution_count": 5,
   "id": "e48e02a0",
   "metadata": {
    "execution": {
     "iopub.execute_input": "2025-10-07T05:05:26.587936Z",
     "iopub.status.busy": "2025-10-07T05:05:26.587677Z",
     "iopub.status.idle": "2025-10-07T05:05:27.107699Z",
     "shell.execute_reply": "2025-10-07T05:05:27.107311Z"
    }
   },
   "outputs": [],
   "source": [
    "model = create_js_model(β=0.98)"
   ]
  },
  {
   "cell_type": "code",
   "execution_count": 6,
   "id": "a1571095",
   "metadata": {
    "execution": {
     "iopub.execute_input": "2025-10-07T05:05:27.109005Z",
     "iopub.status.busy": "2025-10-07T05:05:27.108882Z",
     "iopub.status.idle": "2025-10-07T05:05:27.112576Z",
     "shell.execute_reply": "2025-10-07T05:05:27.112342Z"
    }
   },
   "outputs": [
    {
     "data": {
      "text/plain": [
       "1.0"
      ]
     },
     "execution_count": 6,
     "metadata": {},
     "output_type": "execute_result"
    }
   ],
   "source": [
    "model.c"
   ]
  },
  {
   "cell_type": "code",
   "execution_count": 7,
   "id": "c5ceeb59",
   "metadata": {
    "execution": {
     "iopub.execute_input": "2025-10-07T05:05:27.113712Z",
     "iopub.status.busy": "2025-10-07T05:05:27.113599Z",
     "iopub.status.idle": "2025-10-07T05:05:27.116088Z",
     "shell.execute_reply": "2025-10-07T05:05:27.115781Z"
    }
   },
   "outputs": [
    {
     "data": {
      "text/plain": [
       "0.98"
      ]
     },
     "execution_count": 7,
     "metadata": {},
     "output_type": "execute_result"
    }
   ],
   "source": [
    "model.β"
   ]
  },
  {
   "cell_type": "code",
   "execution_count": 8,
   "id": "84f64fca",
   "metadata": {
    "execution": {
     "iopub.execute_input": "2025-10-07T05:05:27.117318Z",
     "iopub.status.busy": "2025-10-07T05:05:27.117205Z",
     "iopub.status.idle": "2025-10-07T05:05:27.182943Z",
     "shell.execute_reply": "2025-10-07T05:05:27.182515Z"
    }
   },
   "outputs": [
    {
     "data": {
      "text/plain": [
       "Array(1.3486148, dtype=float32)"
      ]
     },
     "execution_count": 8,
     "metadata": {},
     "output_type": "execute_result"
    }
   ],
   "source": [
    "model.w_vals.mean()  "
   ]
  },
  {
   "cell_type": "markdown",
   "id": "85cd8a72",
   "metadata": {},
   "source": [
    "Here's the Bellman operator\n",
    "\n",
    "$$\n",
    "    (Tv)(w) = \\max\n",
    "    \\left\\{\n",
    "            \\frac{w}{1-\\beta}, c + \\beta \\sum_{w'} v(w') P(w, w')\n",
    "    \\right\\}\n",
    "$$"
   ]
  },
  {
   "cell_type": "code",
   "execution_count": 9,
   "id": "1d85f9fd",
   "metadata": {
    "execution": {
     "iopub.execute_input": "2025-10-07T05:05:27.184181Z",
     "iopub.status.busy": "2025-10-07T05:05:27.184062Z",
     "iopub.status.idle": "2025-10-07T05:05:27.186642Z",
     "shell.execute_reply": "2025-10-07T05:05:27.186333Z"
    }
   },
   "outputs": [],
   "source": [
    "@jax.jit\n",
    "def T(v: jnp.ndarray, model: Model) -> jnp.ndarray:\n",
    "    \"\"\"\n",
    "    The Bellman operator Tv = max{e, c + β P v} with\n",
    "\n",
    "        e(w) = w / (1-β) and (Pv)(w) = E_w[ v(W')]\n",
    "\n",
    "    \"\"\"\n",
    "    n, w_vals, P, β, c = model\n",
    "    h = c + β * P @ v\n",
    "    e = w_vals / (1 - β)\n",
    "\n",
    "    return jnp.maximum(e, h)"
   ]
  },
  {
   "cell_type": "markdown",
   "id": "9197141b",
   "metadata": {},
   "source": [
    "The next function computes the optimal policy under the assumption that $v$ is\n",
    "the value function.\n",
    "\n",
    "The policy takes the form\n",
    "\n",
    "$$\n",
    "    \\sigma(w) = \\mathbf 1 \n",
    "        \\left\\{\n",
    "            \\frac{w}{1-\\beta} \\geq c + \\beta \\sum_{w'} v(w') P(w, w')\n",
    "        \\right\\}\n",
    "$$\n",
    "\n",
    "Here $\\mathbf 1$ is an indicator function.\n",
    "\n",
    "* $\\sigma(w) = 1$ means stop\n",
    "* $\\sigma(w) = 0$ means continue."
   ]
  },
  {
   "cell_type": "code",
   "execution_count": 10,
   "id": "7eaf95b4",
   "metadata": {
    "execution": {
     "iopub.execute_input": "2025-10-07T05:05:27.187883Z",
     "iopub.status.busy": "2025-10-07T05:05:27.187733Z",
     "iopub.status.idle": "2025-10-07T05:05:27.190280Z",
     "shell.execute_reply": "2025-10-07T05:05:27.189905Z"
    }
   },
   "outputs": [],
   "source": [
    "@jax.jit\n",
    "def get_greedy(v: jnp.ndarray, model: Model) -> jnp.ndarray:\n",
    "    \"Get a v-greedy policy.\"\n",
    "    n, w_vals, P, β, c = model\n",
    "    e = w_vals / (1 - β)\n",
    "    h = c + β * P @ v\n",
    "    σ = jnp.where(e >= h, 1, 0)\n",
    "    return σ"
   ]
  },
  {
   "cell_type": "markdown",
   "id": "922c0219",
   "metadata": {},
   "source": [
    "Here's a routine for value function iteration."
   ]
  },
  {
   "cell_type": "code",
   "execution_count": 11,
   "id": "b2ae99be",
   "metadata": {
    "execution": {
     "iopub.execute_input": "2025-10-07T05:05:27.191440Z",
     "iopub.status.busy": "2025-10-07T05:05:27.191329Z",
     "iopub.status.idle": "2025-10-07T05:05:27.194145Z",
     "shell.execute_reply": "2025-10-07T05:05:27.193839Z"
    }
   },
   "outputs": [],
   "source": [
    "def vfi(\n",
    "        model: Model,\n",
    "        max_iter: int = 10_000,\n",
    "        tol: float = 1e-4,\n",
    "        verbose: bool = False\n",
    "    ):\n",
    "    \"\"\"\n",
    "    Solve the infinite-horizon Markov job search model by VFI.\n",
    "\n",
    "    \"\"\"\n",
    "    v = jnp.zeros_like(model.w_vals)  # Initial condition\n",
    "\n",
    "    for i in range(max_iter):\n",
    "        new_v = T(v, model)\n",
    "        error = jnp.max(jnp.abs(new_v - v))\n",
    "        if error < tol:\n",
    "            if verbose:\n",
    "                print(f\"VFI converged after {i+1} iterations \"\n",
    "                      f\"(error: {error:.2e})\")\n",
    "            break\n",
    "        v = new_v\n",
    "    else:\n",
    "        print(f\"VFI hit max iterations ({max_iter}) with error {error:.2e}\")\n",
    "\n",
    "    return new_v, get_greedy(new_v, model)"
   ]
  },
  {
   "cell_type": "markdown",
   "id": "93a42e73",
   "metadata": {},
   "source": [
    "## Computing the solution\n",
    "\n",
    "Let's set up and solve the model."
   ]
  },
  {
   "cell_type": "code",
   "execution_count": 12,
   "id": "7a968f8a",
   "metadata": {
    "execution": {
     "iopub.execute_input": "2025-10-07T05:05:27.195332Z",
     "iopub.status.busy": "2025-10-07T05:05:27.195220Z",
     "iopub.status.idle": "2025-10-07T05:05:27.611691Z",
     "shell.execute_reply": "2025-10-07T05:05:27.611312Z"
    }
   },
   "outputs": [
    {
     "name": "stdout",
     "output_type": "stream",
     "text": [
      "VFI converged after 441 iterations (error: 9.16e-05)\n"
     ]
    }
   ],
   "source": [
    "model = create_js_model()\n",
    "n, w_vals, P, β, c = model\n",
    "\n",
    "v_star, σ_star = vfi(model, verbose=True)"
   ]
  },
  {
   "cell_type": "markdown",
   "id": "1346b27b",
   "metadata": {},
   "source": [
    "Here's the optimal policy:"
   ]
  },
  {
   "cell_type": "code",
   "execution_count": 13,
   "id": "b49fc1eb",
   "metadata": {
    "execution": {
     "iopub.execute_input": "2025-10-07T05:05:27.612896Z",
     "iopub.status.busy": "2025-10-07T05:05:27.612758Z",
     "iopub.status.idle": "2025-10-07T05:05:27.678702Z",
     "shell.execute_reply": "2025-10-07T05:05:27.678298Z"
    }
   },
   "outputs": [
    {
     "data": {
      "image/png": "[encoded data removed]",
      "text/plain": [
       "<Figure size 640x480 with 1 Axes>"
      ]
     },
     "metadata": {},
     "output_type": "display_data"
    }
   ],
   "source": [
    "fig, ax = plt.subplots()\n",
    "ax.plot(w_vals, σ_star)\n",
    "ax.set_xlabel(\"wage values\")\n",
    "ax.set_ylabel(\"optimal choice (stop=1)\")\n",
    "ax.set_yticks((0, 1))\n",
    "plt.show()"
   ]
  },
  {
   "cell_type": "markdown",
   "id": "dd91c05c",
   "metadata": {},
   "source": [
    "Let's compute the runtime as well, averaging over a number of iterations"
   ]
  },
  {
   "cell_type": "code",
   "execution_count": 14,
   "id": "2ce04649",
   "metadata": {
    "execution": {
     "iopub.execute_input": "2025-10-07T05:05:27.679867Z",
     "iopub.status.busy": "2025-10-07T05:05:27.679734Z",
     "iopub.status.idle": "2025-10-07T05:05:31.136109Z",
     "shell.execute_reply": "2025-10-07T05:05:31.135685Z"
    }
   },
   "outputs": [
    {
     "name": "stdout",
     "output_type": "stream",
     "text": [
      "\n",
      "Mean runtime for value function iteration = 0.3419 seconds\n",
      "\n"
     ]
    }
   ],
   "source": [
    "runtimes = []\n",
    "for _ in range(10):\n",
    "    start = time.time()\n",
    "    v_star, σ_star = vfi(model, verbose=False)\n",
    "    end = time.time()\n",
    "    runtimes.append(end - start)\n",
    "\n",
    "print()\n",
    "mean_runtime = jnp.mean(jnp.array(runtimes))\n",
    "print(f\"Mean runtime for value function iteration = {mean_runtime:.4f} seconds\")\n",
    "print()"
   ]
  },
  {
   "cell_type": "markdown",
   "id": "aee9b806",
   "metadata": {},
   "source": [
    "We compute the reservation wage as the first $w$ such that $\\sigma(w)=1$."
   ]
  },
  {
   "cell_type": "code",
   "execution_count": 15,
   "id": "505efc30",
   "metadata": {
    "execution": {
     "iopub.execute_input": "2025-10-07T05:05:31.137341Z",
     "iopub.status.busy": "2025-10-07T05:05:31.137217Z",
     "iopub.status.idle": "2025-10-07T05:05:31.683467Z",
     "shell.execute_reply": "2025-10-07T05:05:31.683136Z"
    }
   },
   "outputs": [
    {
     "data": {
      "text/plain": [
       "(Array([385, 386, 387, 388, 389, 390, 391, 392, 393, 394, 395, 396, 397,\n",
       "        398, 399, 400, 401, 402, 403, 404, 405, 406, 407, 408, 409, 410,\n",
       "        411, 412, 413, 414, 415, 416, 417, 418, 419, 420, 421, 422, 423,\n",
       "        424, 425, 426, 427, 428, 429, 430, 431, 432, 433, 434, 435, 436,\n",
       "        437, 438, 439, 440, 441, 442, 443, 444, 445, 446, 447, 448, 449,\n",
       "        450, 451, 452, 453, 454, 455, 456, 457, 458, 459, 460, 461, 462,\n",
       "        463, 464, 465, 466, 467, 468, 469, 470, 471, 472, 473, 474, 475,\n",
       "        476, 477, 478, 479, 480, 481, 482, 483, 484, 485, 486, 487, 488,\n",
       "        489, 490, 491, 492, 493, 494, 495, 496, 497, 498, 499],      dtype=int32),)"
      ]
     },
     "execution_count": 15,
     "metadata": {},
     "output_type": "execute_result"
    }
   ],
   "source": [
    "stop_indices = jnp.where(σ_star == 1)\n",
    "stop_indices"
   ]
  },
  {
   "cell_type": "code",
   "execution_count": 16,
   "id": "a1b3809f",
   "metadata": {
    "execution": {
     "iopub.execute_input": "2025-10-07T05:05:31.684718Z",
     "iopub.status.busy": "2025-10-07T05:05:31.684598Z",
     "iopub.status.idle": "2025-10-07T05:05:32.266525Z",
     "shell.execute_reply": "2025-10-07T05:05:32.266168Z"
    }
   },
   "outputs": [],
   "source": [
    "res_wage_index = min(stop_indices[0])"
   ]
  },
  {
   "cell_type": "code",
   "execution_count": 17,
   "id": "1124ef99",
   "metadata": {
    "execution": {
     "iopub.execute_input": "2025-10-07T05:05:32.267901Z",
     "iopub.status.busy": "2025-10-07T05:05:32.267732Z",
     "iopub.status.idle": "2025-10-07T05:05:32.365713Z",
     "shell.execute_reply": "2025-10-07T05:05:32.365287Z"
    }
   },
   "outputs": [],
   "source": [
    "res_wage = w_vals[res_wage_index]"
   ]
  },
  {
   "cell_type": "markdown",
   "id": "fb2b563b",
   "metadata": {},
   "source": [
    "Here's a joint plot of the value function and the reservation wage."
   ]
  },
  {
   "cell_type": "code",
   "execution_count": 18,
   "id": "ddeb083f",
   "metadata": {
    "execution": {
     "iopub.execute_input": "2025-10-07T05:05:32.367009Z",
     "iopub.status.busy": "2025-10-07T05:05:32.366886Z",
     "iopub.status.idle": "2025-10-07T05:05:32.542699Z",
     "shell.execute_reply": "2025-10-07T05:05:32.542312Z"
    }
   },
   "outputs": [
    {
     "data": {
      "image/png": "[encoded data removed]",
      "text/plain": [
       "<Figure size 640x480 with 1 Axes>"
      ]
     },
     "metadata": {},
     "output_type": "display_data"
    }
   ],
   "source": [
    "fig, ax = plt.subplots()\n",
    "ax.plot(w_vals, v_star, alpha=0.8, label=\"value function\")\n",
    "ax.vlines((res_wage,), 150, 400, 'k', ls='--', label=\"reservation wage\")\n",
    "ax.legend(frameon=False, fontsize=12, loc=\"lower right\")\n",
    "ax.set_xlabel(\"$w$\", fontsize=12)\n",
    "plt.show()"
   ]
  },
  {
   "cell_type": "markdown",
   "id": "3b785b82",
   "metadata": {},
   "source": [
    "## Exercise 1\n",
    "\n",
    "In the setting above, the agent is risk-neutral vis-a-vis future utility risk.\n",
    "\n",
    "Now solve the same problem but this time assuming that the agent has risk-sensitive\n",
    "preferences, which are a type of nonlinear recursive preferences.\n",
    "\n",
    "The Bellman equation becomes\n",
    "\n",
    "$$\n",
    "    v(w) = \\max\n",
    "    \\left\\{\n",
    "            \\frac{w}{1-\\beta}, \n",
    "            c + \\frac{\\beta}{\\theta}\n",
    "            \\ln \\left[ \n",
    "                      \\sum_{w'} \\exp(\\theta v(w')) P(w, w')\n",
    "                \\right]\n",
    "    \\right\\}\n",
    "$$\n",
    "\n",
    "\n",
    "When $\\theta < 0$ the agent is risk averse.\n",
    "\n",
    "Solve the model when $\\theta = -0.1$ and compare your result to the risk neutral\n",
    "case.\n",
    "\n",
    "Try to interpret your result.\n",
    "\n",
    "You can start with the following code:"
   ]
  },
  {
   "cell_type": "code",
   "execution_count": 19,
   "id": "d351365a",
   "metadata": {
    "execution": {
     "iopub.execute_input": "2025-10-07T05:05:32.543963Z",
     "iopub.status.busy": "2025-10-07T05:05:32.543844Z",
     "iopub.status.idle": "2025-10-07T05:05:32.546986Z",
     "shell.execute_reply": "2025-10-07T05:05:32.546570Z"
    }
   },
   "outputs": [],
   "source": [
    "class RiskModel(NamedTuple):\n",
    "    n: int\n",
    "    w_vals: jnp.ndarray\n",
    "    P: jnp.ndarray\n",
    "    β: float\n",
    "    c: float\n",
    "    θ: float\n",
    "\n",
    "def create_risk_sensitive_js_model(\n",
    "        n: int = 500,       # wage grid size\n",
    "        ρ: float = 0.9,     # wage persistence\n",
    "        ν: float = 0.2,     # wage volatility\n",
    "        β: float = 0.99,    # discount factor\n",
    "        c: float = 1.0,     # unemployment compensation\n",
    "        θ: float = -0.1     # risk parameter\n",
    "    ) -> RiskModel:\n",
    "    \"Creates an instance of the job search model with Markov wages.\"\n",
    "    mc = qe.tauchen(n, ρ, ν)\n",
    "    w_vals, P = jnp.exp(mc.state_values), jnp.array(mc.P)\n",
    "    return RiskModel(n, w_vals, P, β, c, θ)"
   ]
  },
  {
   "cell_type": "markdown",
   "id": "af4fba75",
   "metadata": {},
   "source": [
    "Now you need to modify `T` and `get_greedy` and then run value function iteration again."
   ]
  },
  {
   "cell_type": "code",
   "execution_count": 20,
   "id": "637d91f1",
   "metadata": {
    "execution": {
     "iopub.execute_input": "2025-10-07T05:05:32.548192Z",
     "iopub.status.busy": "2025-10-07T05:05:32.548043Z",
     "iopub.status.idle": "2025-10-07T05:05:32.550054Z",
     "shell.execute_reply": "2025-10-07T05:05:32.549798Z"
    }
   },
   "outputs": [],
   "source": [
    "# Put your code here"
   ]
  },
  {
   "cell_type": "code",
   "execution_count": 21,
   "id": "4c2c5a67",
   "metadata": {
    "execution": {
     "iopub.execute_input": "2025-10-07T05:05:32.551377Z",
     "iopub.status.busy": "2025-10-07T05:05:32.551233Z",
     "iopub.status.idle": "2025-10-07T05:05:32.553875Z",
     "shell.execute_reply": "2025-10-07T05:05:32.553533Z"
    }
   },
   "outputs": [
    {
     "name": "stdout",
     "output_type": "stream",
     "text": [
      "Solution below!\n",
      "Solution below!\n",
      "Solution below!\n",
      "Solution below!\n",
      "Solution below!\n",
      "Solution below!\n",
      "Solution below!\n",
      "Solution below!\n",
      "Solution below!\n",
      "Solution below!\n",
      "Solution below!\n",
      "Solution below!\n",
      "Solution below!\n",
      "Solution below!\n",
      "Solution below!\n",
      "Solution below!\n",
      "Solution below!\n",
      "Solution below!\n",
      "Solution below!\n",
      "Solution below!\n"
     ]
    }
   ],
   "source": [
    "for _ in range(20):\n",
    "    print(\"Solution below!\")"
   ]
  },
  {
   "cell_type": "code",
   "execution_count": 22,
   "id": "fac6fd60",
   "metadata": {
    "execution": {
     "iopub.execute_input": "2025-10-07T05:05:32.555134Z",
     "iopub.status.busy": "2025-10-07T05:05:32.554989Z",
     "iopub.status.idle": "2025-10-07T05:05:32.558891Z",
     "shell.execute_reply": "2025-10-07T05:05:32.558623Z"
    }
   },
   "outputs": [],
   "source": [
    "@jax.jit\n",
    "def T_rs(v: jnp.ndarray, model: RiskModel) -> jnp.ndarray:\n",
    "    \"\"\"\n",
    "    The Bellman operator Tv = max{e, c + β R v} with\n",
    "\n",
    "        e(w) = w / (1-β) and\n",
    "\n",
    "        (Rv)(w) = (1/θ) ln{E_w[ exp(θ v(W'))]}\n",
    "\n",
    "    \"\"\"\n",
    "    n, w_vals, P, β, c, θ = model\n",
    "    h = c + (β / θ) * jnp.log(P @ (jnp.exp(θ * v)))\n",
    "    e = w_vals / (1 - β)\n",
    "\n",
    "    return jnp.maximum(e, h)\n",
    "\n",
    "\n",
    "@jax.jit\n",
    "def get_greedy_rs(v: jnp.ndarray, model: RiskModel) -> jnp.ndarray:\n",
    "    \" Get a v-greedy policy.\"\n",
    "    n, w_vals, P, β, c, θ = model\n",
    "    e = w_vals / (1 - β)\n",
    "    h = c + (β / θ) * jnp.log(P @ (jnp.exp(θ * v)))\n",
    "    σ = jnp.where(e >= h, 1, 0)\n",
    "    return σ\n",
    "\n",
    "\n",
    "def vfi_rs(\n",
    "        model: RiskModel,\n",
    "        max_iter: int = 10_000,\n",
    "        tol: float = 1e-4\n",
    "    ):\n",
    "    \"Solve the infinite-horizon Markov job search model by VFI.\"\n",
    "    v = jnp.zeros_like(model.w_vals)\n",
    "\n",
    "    for i in range(max_iter):\n",
    "        new_v = T_rs(v, model)\n",
    "        error = jnp.max(jnp.abs(new_v - v))\n",
    "        if error < tol:\n",
    "            print(f\"VFI converged after {i+1} iterations (error: {error:.2e})\")\n",
    "            break\n",
    "        v = new_v\n",
    "    else:\n",
    "        print(f\"VFI reached max iterations ({max_iter}) with error {error:.2e}\")\n",
    "\n",
    "    return new_v, get_greedy_rs(new_v, model)"
   ]
  },
  {
   "cell_type": "code",
   "execution_count": 23,
   "id": "fafd7a9c",
   "metadata": {
    "execution": {
     "iopub.execute_input": "2025-10-07T05:05:32.560050Z",
     "iopub.status.busy": "2025-10-07T05:05:32.559905Z",
     "iopub.status.idle": "2025-10-07T05:05:33.018405Z",
     "shell.execute_reply": "2025-10-07T05:05:33.017954Z"
    }
   },
   "outputs": [
    {
     "name": "stdout",
     "output_type": "stream",
     "text": [
      "VFI converged after 579 iterations (error: 9.16e-05)\n"
     ]
    }
   ],
   "source": [
    "model_rs = create_risk_sensitive_js_model()\n",
    "n, w_vals, P, β, c, θ = model_rs\n",
    "v_star_rs, σ_star_rs = vfi_rs(model_rs)"
   ]
  },
  {
   "cell_type": "markdown",
   "id": "56826851",
   "metadata": {},
   "source": [
    "Let's plot the results together with the original risk neutral case and see what we get."
   ]
  },
  {
   "cell_type": "code",
   "execution_count": 24,
   "id": "4eb5321c",
   "metadata": {
    "execution": {
     "iopub.execute_input": "2025-10-07T05:05:33.019708Z",
     "iopub.status.busy": "2025-10-07T05:05:33.019583Z",
     "iopub.status.idle": "2025-10-07T05:05:33.543201Z",
     "shell.execute_reply": "2025-10-07T05:05:33.542911Z"
    }
   },
   "outputs": [],
   "source": [
    "stop_indices = jnp.where(σ_star_rs == 1)\n",
    "res_wage_index = min(stop_indices[0])\n",
    "res_wage_rs = w_vals[res_wage_index]"
   ]
  },
  {
   "cell_type": "code",
   "execution_count": 25,
   "id": "62bc38ca",
   "metadata": {
    "execution": {
     "iopub.execute_input": "2025-10-07T05:05:33.544657Z",
     "iopub.status.busy": "2025-10-07T05:05:33.544516Z",
     "iopub.status.idle": "2025-10-07T05:05:33.700758Z",
     "shell.execute_reply": "2025-10-07T05:05:33.700365Z"
    }
   },
   "outputs": [
    {
     "data": {
      "image/png": "[encoded data removed]",
      "text/plain": [
       "<Figure size 640x480 with 1 Axes>"
      ]
     },
     "metadata": {},
     "output_type": "display_data"
    }
   ],
   "source": [
    "fig, ax = plt.subplots()\n",
    "ax.plot(w_vals, v_star,  ls='-', color='blue',\n",
    "        alpha=0.8, label=\"risk neutral $v$\")\n",
    "ax.plot(w_vals, v_star_rs, ls='-', color='orange',\n",
    "        alpha=0.8, label=\"risk sensitive $v$\")\n",
    "ax.vlines((res_wage,), 100, 400,  ls='--', color='blue',\n",
    "          alpha=0.5, label=r\"risk neutral $\\bar w$\")\n",
    "ax.vlines((res_wage_rs,), 100, 400, ls='--', color='orange',\n",
    "          alpha=0.5, label=r\"risk sensitive $\\bar w$\")\n",
    "ax.legend(frameon=False, fontsize=12, loc=\"lower right\")\n",
    "ax.set_xlabel(\"$w$\", fontsize=12)\n",
    "plt.show()"
   ]
  },
  {
   "cell_type": "markdown",
   "id": "f82a25a7",
   "metadata": {},
   "source": [
    "The figure shows that the reservation wage under risk sensitive preferences (RS $\\bar w$) shifts down.\n",
    "\n",
    "This makes sense -- the agent does not like risk and hence is more inclined to\n",
    "accept the current offer, even when it's lower."
   ]
  },
  {
   "cell_type": "markdown",
   "id": "f5a67695",
   "metadata": {},
   "source": [
    "## Exercise 2\n",
    "\n",
    "In the code above, we wrote two versions of VFI, one for each model.\n",
    "\n",
    "This is poor style because we are repeating logic.  \n",
    "\n",
    "Write one version of VFI that can work with both and test that it does the\n",
    "same job."
   ]
  },
  {
   "cell_type": "code",
   "execution_count": 26,
   "id": "fd711428",
   "metadata": {
    "execution": {
     "iopub.execute_input": "2025-10-07T05:05:33.702059Z",
     "iopub.status.busy": "2025-10-07T05:05:33.701941Z",
     "iopub.status.idle": "2025-10-07T05:05:33.704063Z",
     "shell.execute_reply": "2025-10-07T05:05:33.703607Z"
    }
   },
   "outputs": [],
   "source": [
    "# Put your code here"
   ]
  },
  {
   "cell_type": "code",
   "execution_count": 27,
   "id": "ed0b7987",
   "metadata": {
    "execution": {
     "iopub.execute_input": "2025-10-07T05:05:33.705225Z",
     "iopub.status.busy": "2025-10-07T05:05:33.705111Z",
     "iopub.status.idle": "2025-10-07T05:05:33.707551Z",
     "shell.execute_reply": "2025-10-07T05:05:33.707232Z"
    }
   },
   "outputs": [
    {
     "name": "stdout",
     "output_type": "stream",
     "text": [
      "Solution below!\n",
      "Solution below!\n",
      "Solution below!\n",
      "Solution below!\n",
      "Solution below!\n",
      "Solution below!\n",
      "Solution below!\n",
      "Solution below!\n",
      "Solution below!\n",
      "Solution below!\n",
      "Solution below!\n",
      "Solution below!\n",
      "Solution below!\n",
      "Solution below!\n",
      "Solution below!\n",
      "Solution below!\n",
      "Solution below!\n",
      "Solution below!\n",
      "Solution below!\n",
      "Solution below!\n"
     ]
    }
   ],
   "source": [
    "for _ in range(20):\n",
    "    print(\"Solution below!\")"
   ]
  },
  {
   "cell_type": "code",
   "execution_count": 28,
   "id": "a0f2574b",
   "metadata": {
    "execution": {
     "iopub.execute_input": "2025-10-07T05:05:33.708743Z",
     "iopub.status.busy": "2025-10-07T05:05:33.708632Z",
     "iopub.status.idle": "2025-10-07T05:05:33.711406Z",
     "shell.execute_reply": "2025-10-07T05:05:33.711040Z"
    }
   },
   "outputs": [],
   "source": [
    "def generic_vfi(\n",
    "        bellman_operator: Callable,\n",
    "        get_greedy_function: Callable,\n",
    "        v_zero: jnp.ndarray,\n",
    "        max_iter: int = 10_000,\n",
    "        tol: float = 1e-4\n",
    "    ):\n",
    "    \"\"\"\n",
    "    Solve the infinite-horizon Markov job search model by VFI.\n",
    "\n",
    "    \"\"\"\n",
    "    v = v_zero\n",
    "\n",
    "    for i in range(max_iter):\n",
    "        new_v = bellman_operator(v)\n",
    "        error = jnp.max(jnp.abs(new_v - v))\n",
    "        if error < tol:\n",
    "            print(f\"VFI converged after {i+1} iterations (error: {error:.2e})\")\n",
    "            break\n",
    "        v = new_v\n",
    "    else:\n",
    "        print(f\"VFI reached max iterations ({max_iter}) with error {error:.2e}\")\n",
    "\n",
    "    return new_v, get_greedy_function(new_v)"
   ]
  },
  {
   "cell_type": "markdown",
   "id": "18d0ec84",
   "metadata": {},
   "source": [
    "## Fully JIT-compiled VFI with lax.while_loop\n",
    "\n",
    "This version uses JAX's `lax.while_loop` for maximum performance with early termination."
   ]
  },
  {
   "cell_type": "code",
   "execution_count": 29,
   "id": "703c72d8",
   "metadata": {
    "execution": {
     "iopub.execute_input": "2025-10-07T05:05:33.712667Z",
     "iopub.status.busy": "2025-10-07T05:05:33.712554Z",
     "iopub.status.idle": "2025-10-07T05:05:33.716015Z",
     "shell.execute_reply": "2025-10-07T05:05:33.715706Z"
    }
   },
   "outputs": [],
   "source": [
    "@partial(jax.jit, static_argnums=(0, 1))\n",
    "def compiled_generic_vfi(\n",
    "        bellman_operator: Callable,\n",
    "        get_greedy_function: Callable,\n",
    "        v_zero: jnp.ndarray,\n",
    "        max_iter: int = 10_000,\n",
    "        tol: float = 1e-4\n",
    "    ):\n",
    "    \"\"\"\n",
    "    Solve the infinite-horizon Markov job search model by VFI.\n",
    "\n",
    "    \"\"\"\n",
    "    v = v_zero\n",
    "    i = 0\n",
    "    error = tol + 1\n",
    "    initial_loop_state = i, error, v\n",
    "\n",
    "    def condition(loop_state):\n",
    "        i, error, v = loop_state\n",
    "        return jnp.logical_and(error > tol, i < max_iter)\n",
    "\n",
    "    def update(loop_state):\n",
    "        i, error, v = loop_state\n",
    "        new_i = i + 1\n",
    "        new_v = bellman_operator(v)\n",
    "        new_error = jnp.max(jnp.abs(new_v - v))\n",
    "        return new_i, new_error, new_v\n",
    "\n",
    "    final_loop_state = jax.lax.while_loop(condition, update, initial_loop_state)\n",
    "    i, error, v = final_loop_state\n",
    "    return v, get_greedy_function(v)"
   ]
  },
  {
   "cell_type": "markdown",
   "id": "9481aee0",
   "metadata": {},
   "source": [
    "Let's compare speed."
   ]
  },
  {
   "cell_type": "code",
   "execution_count": 30,
   "id": "7ccf25d4",
   "metadata": {
    "execution": {
     "iopub.execute_input": "2025-10-07T05:05:33.717245Z",
     "iopub.status.busy": "2025-10-07T05:05:33.717133Z",
     "iopub.status.idle": "2025-10-07T05:05:34.260672Z",
     "shell.execute_reply": "2025-10-07T05:05:34.260266Z"
    }
   },
   "outputs": [
    {
     "name": "stdout",
     "output_type": "stream",
     "text": [
      "VFI converged after 441 iterations (error: 9.16e-05)\n",
      "Non-compiled generic VFI time: 0.1630 seconds\n",
      "Compiled generic VFI time: 0.0146 seconds\n",
      "Speedup vs non-compiled: 11.14x\n"
     ]
    }
   ],
   "source": [
    "model = create_js_model()\n",
    "n, w_vals, P, β, c = model\n",
    "v_star_0, σ_star_0 = vfi(model)\n",
    "bellman_operator = lambda v: T(v, model)\n",
    "get_greedy_function = lambda v: get_greedy(v, model)\n",
    "v_zero = jnp.zeros_like(w_vals)\n",
    "\n",
    "# Time the non-compiled version\n",
    "start_time = time.time()\n",
    "v_star, σ_star = generic_vfi(\n",
    "    bellman_operator, get_greedy_function, v_zero\n",
    ")\n",
    "jax.block_until_ready(v_star)  # Wait for computation to complete\n",
    "non_compiled_time = time.time() - start_time\n",
    "print(f\"Non-compiled generic VFI time: {non_compiled_time:.4f} seconds\")\n",
    "\n",
    "# Run the compiled version -- warm up to eliminate compile time\n",
    "v_star_compiled, σ_star_compiled = compiled_generic_vfi(\n",
    "    bellman_operator, get_greedy_function, v_zero\n",
    ")\n",
    "\n",
    "# Time the compiled version (now pre-compiled)\n",
    "start_time = time.time()\n",
    "v_star_compiled, σ_star_compiled = compiled_generic_vfi(\n",
    "    bellman_operator, get_greedy_function, v_zero\n",
    ")\n",
    "jax.block_until_ready(v_star_compiled)  # Wait for computation to complete\n",
    "compiled_time = time.time() - start_time\n",
    "print(f\"Compiled generic VFI time: {compiled_time:.4f} seconds\")\n",
    "\n",
    "print(f\"Speedup vs non-compiled: {non_compiled_time / compiled_time:.2f}x\")"
   ]
  },
  {
   "cell_type": "code",
   "execution_count": null,
   "id": "c75968aa",
   "metadata": {},
   "outputs": [],
   "source": []
  },
  {
   "cell_type": "code",
   "execution_count": null,
   "id": "34c4f727",
   "metadata": {},
   "outputs": [],
   "source": []
  }
 ],
 "metadata": {
  "jupytext": {
   "default_lexer": "ipython3"
  },
  "kernelspec": {
   "display_name": "Python 3 (ipykernel)",
   "language": "python",
   "name": "python3"
  },
  "language_info": {
   "codemirror_mode": {
    "name": "ipython",
    "version": 3
   },
   "file_extension": ".py",
   "mimetype": "text/x-python",
   "name": "python",
   "nbconvert_exporter": "python",
   "pygments_lexer": "ipython3",
   "version": "3.13.5"
  }
 },
 "nbformat": 4,
 "nbformat_minor": 5
}
