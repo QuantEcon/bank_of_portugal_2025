{
 "cells": [
  {
   "cell_type": "markdown",
   "id": "c973e86c",
   "metadata": {},
   "source": [
    "# Fun with JAX\n",
    "\n",
    "**Prepared for the Bank of Portugal Computational Economics Course (Oct 2025)**\n",
    "\n",
    "**Author:** [John Stachurski](https://johnstachurski.net)\n",
    "\n",
    "October 2025\n",
    "\n",
    "This is a super quick illustration of the power of [JAX](https://github.com/google/jax), a Python library built by Google Research.\n",
    "\n",
    "It should be run on a machine with a GPU --- for example, try Google Colab with the runtime environment set to include a GPU.\n",
    "\n",
    "The aim is just to give a small taste of high performance computing in Python -- details will be covered later in the course."
   ]
  },
  {
   "cell_type": "markdown",
   "id": "33b59d7b",
   "metadata": {},
   "source": [
    "We start with some imports"
   ]
  },
  {
   "cell_type": "code",
   "execution_count": null,
   "id": "7919b366",
   "metadata": {},
   "outputs": [],
   "source": [
    "import numpy as np\n",
    "import jax\n",
    "import jax.numpy as jnp\n",
    "import matplotlib.pyplot as plt"
   ]
  },
  {
   "cell_type": "markdown",
   "id": "a69ace3d",
   "metadata": {},
   "source": [
    "Let's check our hardware:"
   ]
  },
  {
   "cell_type": "code",
   "execution_count": null,
   "id": "5df87b83",
   "metadata": {},
   "outputs": [],
   "source": [
    "!nvidia-smi"
   ]
  },
  {
   "cell_type": "code",
   "execution_count": null,
   "id": "f02575b4",
   "metadata": {},
   "outputs": [],
   "source": [
    "!lscpu -e"
   ]
  },
  {
   "cell_type": "markdown",
   "id": "655ecffb",
   "metadata": {},
   "source": [
    "## Transforming Data"
   ]
  },
  {
   "cell_type": "markdown",
   "id": "b69ebc89",
   "metadata": {},
   "source": [
    "A very common numerical task is to apply a transformation to a set of data points.\n",
    "\n",
    "Our transformation will be the cosine function."
   ]
  },
  {
   "cell_type": "markdown",
   "id": "2ef95f1b",
   "metadata": {},
   "source": [
    "Here we evaluate the cosine function at 50 points."
   ]
  },
  {
   "cell_type": "code",
   "execution_count": null,
   "id": "bc7f3f9b",
   "metadata": {},
   "outputs": [],
   "source": [
    "x = np.linspace(0, 10, 50)\n",
    "y = np.cos(x)"
   ]
  },
  {
   "cell_type": "markdown",
   "id": "eb5a96b0",
   "metadata": {},
   "source": [
    "Let's plot."
   ]
  },
  {
   "cell_type": "code",
   "execution_count": null,
   "id": "4581fb6c",
   "metadata": {},
   "outputs": [],
   "source": [
    "fig, ax = plt.subplots()\n",
    "ax.scatter(x, y)\n",
    "plt.show()"
   ]
  },
  {
   "cell_type": "markdown",
   "id": "5499eda4",
   "metadata": {},
   "source": [
    "Our aim is to evaluate the cosine function at many points."
   ]
  },
  {
   "cell_type": "code",
   "execution_count": null,
   "id": "b7ed10c7",
   "metadata": {},
   "outputs": [],
   "source": [
    "n = 50_000_000\n",
    "x = np.linspace(0, 10, n)"
   ]
  },
  {
   "cell_type": "markdown",
   "id": "ee8886fa",
   "metadata": {},
   "source": [
    "### With NumPy"
   ]
  },
  {
   "cell_type": "code",
   "execution_count": null,
   "id": "b83f47a9",
   "metadata": {},
   "outputs": [],
   "source": [
    "%%time \n",
    "\n",
    "y = np.cos(x)"
   ]
  },
  {
   "cell_type": "code",
   "execution_count": null,
   "id": "65bbad21",
   "metadata": {},
   "outputs": [],
   "source": [
    "%%time \n",
    "\n",
    "y = np.cos(x)"
   ]
  },
  {
   "cell_type": "code",
   "execution_count": null,
   "id": "83a956c4",
   "metadata": {},
   "outputs": [],
   "source": [
    "x = None  "
   ]
  },
  {
   "cell_type": "markdown",
   "id": "f4108b6b",
   "metadata": {},
   "source": [
    "### With JAX"
   ]
  },
  {
   "cell_type": "code",
   "execution_count": null,
   "id": "95bd3de4",
   "metadata": {},
   "outputs": [],
   "source": [
    "x_jax = jnp.linspace(0, 10, n)"
   ]
  },
  {
   "cell_type": "markdown",
   "id": "45b9982f",
   "metadata": {},
   "source": [
    "Let's time it.\n"
   ]
  },
  {
   "cell_type": "code",
   "execution_count": null,
   "id": "c5343b88",
   "metadata": {},
   "outputs": [],
   "source": [
    "%%time\n",
    "    \n",
    "y = jnp.cos(x_jax)\n",
    "jax.block_until_ready(y);  # Don't run forward until the array is returned"
   ]
  },
  {
   "cell_type": "code",
   "execution_count": null,
   "id": "3783606f",
   "metadata": {},
   "outputs": [],
   "source": [
    "%%time\n",
    "    \n",
    "y = jnp.cos(x_jax)\n",
    "jax.block_until_ready(y); "
   ]
  },
  {
   "cell_type": "markdown",
   "id": "31829cff",
   "metadata": {},
   "source": [
    "Here we change the input size --- can you explain why the timing changes?"
   ]
  },
  {
   "cell_type": "code",
   "execution_count": null,
   "id": "6a9ac1e7",
   "metadata": {},
   "outputs": [],
   "source": [
    "x_jax = jnp.linspace(0, 10, n + 1)"
   ]
  },
  {
   "cell_type": "code",
   "execution_count": null,
   "id": "c06d9191",
   "metadata": {},
   "outputs": [],
   "source": [
    "%%time\n",
    "    \n",
    "y = jnp.cos(x_jax)\n",
    "jax.block_until_ready(y);"
   ]
  },
  {
   "cell_type": "code",
   "execution_count": null,
   "id": "8a05cc67",
   "metadata": {},
   "outputs": [],
   "source": [
    "%%time\n",
    "    \n",
    "y = jnp.cos(x_jax)\n",
    "jax.block_until_ready(y);"
   ]
  },
  {
   "cell_type": "code",
   "execution_count": null,
   "id": "653da544",
   "metadata": {},
   "outputs": [],
   "source": [
    "x_jax = None  # Free memory"
   ]
  },
  {
   "cell_type": "markdown",
   "id": "927a32f4",
   "metadata": {},
   "source": [
    "## Evaluating a more complicated function"
   ]
  },
  {
   "cell_type": "code",
   "execution_count": null,
   "id": "2b26dede",
   "metadata": {},
   "outputs": [],
   "source": [
    "def f(x):\n",
    "    y = np.cos(2 * x**2) + np.sqrt(np.abs(x)) + 2 * np.sin(x**4) - 0.1 * x**2\n",
    "    return y"
   ]
  },
  {
   "cell_type": "code",
   "execution_count": null,
   "id": "e2fb48c7",
   "metadata": {},
   "outputs": [],
   "source": [
    "fig, ax = plt.subplots()\n",
    "x = np.linspace(0, 10, 100)\n",
    "ax.plot(x, f(x))\n",
    "ax.scatter(x, f(x))\n",
    "plt.show()"
   ]
  },
  {
   "cell_type": "markdown",
   "id": "110ff07f",
   "metadata": {},
   "source": [
    "Now let's try with a large array."
   ]
  },
  {
   "cell_type": "markdown",
   "id": "4489576a",
   "metadata": {},
   "source": [
    "### With NumPy"
   ]
  },
  {
   "cell_type": "code",
   "execution_count": null,
   "id": "811f1b5c",
   "metadata": {},
   "outputs": [],
   "source": [
    "n = 50_000_000\n",
    "x = np.linspace(0, 10, n)"
   ]
  },
  {
   "cell_type": "code",
   "execution_count": null,
   "id": "6688c1c9",
   "metadata": {},
   "outputs": [],
   "source": [
    "%%time \n",
    "\n",
    "y = f(x)"
   ]
  },
  {
   "cell_type": "code",
   "execution_count": null,
   "id": "72989d7a",
   "metadata": {},
   "outputs": [],
   "source": [
    "%%time \n",
    "\n",
    "y = f(x)"
   ]
  },
  {
   "cell_type": "markdown",
   "id": "af207b39",
   "metadata": {},
   "source": [
    "### With JAX"
   ]
  },
  {
   "cell_type": "code",
   "execution_count": null,
   "id": "e7908128",
   "metadata": {},
   "outputs": [],
   "source": [
    "def f(x):\n",
    "    y = jnp.cos(2 * x**2) + jnp.sqrt(jnp.abs(x)) + 2 * jnp.sin(x**4) - x**2\n",
    "    return y"
   ]
  },
  {
   "cell_type": "code",
   "execution_count": null,
   "id": "a86d9035",
   "metadata": {},
   "outputs": [],
   "source": [
    "x_jax = jnp.linspace(0, 10, n)"
   ]
  },
  {
   "cell_type": "code",
   "execution_count": null,
   "id": "18b749ac",
   "metadata": {},
   "outputs": [],
   "source": [
    "%%time \n",
    "\n",
    "y = f(x_jax)\n",
    "jax.block_until_ready(y);"
   ]
  },
  {
   "cell_type": "code",
   "execution_count": null,
   "id": "68957c06",
   "metadata": {},
   "outputs": [],
   "source": [
    "%%time \n",
    "\n",
    "y = f(x_jax)\n",
    "jax.block_until_ready(y)"
   ]
  },
  {
   "cell_type": "markdown",
   "id": "36f18612",
   "metadata": {},
   "source": [
    "### Compiling the Whole Function"
   ]
  },
  {
   "cell_type": "code",
   "execution_count": null,
   "id": "c1570edc",
   "metadata": {},
   "outputs": [],
   "source": [
    "f_jax = jax.jit(f)"
   ]
  },
  {
   "cell_type": "code",
   "execution_count": null,
   "id": "d0ac7e4e",
   "metadata": {},
   "outputs": [],
   "source": [
    "%%time \n",
    "\n",
    "y = f_jax(x_jax)\n",
    "jax.block_until_ready(y);"
   ]
  },
  {
   "cell_type": "code",
   "execution_count": null,
   "id": "b9d8d11a",
   "metadata": {},
   "outputs": [],
   "source": [
    "%%time \n",
    "\n",
    "y = f_jax(x_jax)\n",
    "jax.block_until_ready(y);"
   ]
  },
  {
   "cell_type": "code",
   "execution_count": null,
   "id": "c68b0059",
   "metadata": {},
   "outputs": [],
   "source": []
  }
 ],
 "metadata": {
  "kernelspec": {
   "display_name": "Python 3 (ipykernel)",
   "language": "python",
   "name": "python3"
  }
 },
 "nbformat": 4,
 "nbformat_minor": 5
}
