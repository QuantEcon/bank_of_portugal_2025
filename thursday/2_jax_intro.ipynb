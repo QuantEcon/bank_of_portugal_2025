{
 "cells": [
  {
   "cell_type": "markdown",
   "id": "1b267647",
   "metadata": {},
   "source": [
    "# An Introduction to JAX\n",
    "\n",
    "**Prepared for the Bank of Portugal Computational Economics Course (Oct 2025)**\n",
    "\n",
    "**Author:** [John Stachurski](https://johnstachurski.net)"
   ]
  },
  {
   "cell_type": "markdown",
   "id": "0f05d6bc",
   "metadata": {},
   "source": [
    "# GPU\n",
    "\n",
    "This lecture provides a short introduction to [Google JAX](https://github.com/google/jax).\n",
    "\n",
    "Let’s see if we have an active GPU:"
   ]
  },
  {
   "cell_type": "code",
   "execution_count": 1,
   "id": "698fd433",
   "metadata": {
    "execution": {
     "iopub.execute_input": "2025-10-07T05:04:43.841631Z",
     "iopub.status.busy": "2025-10-07T05:04:43.841062Z",
     "iopub.status.idle": "2025-10-07T05:04:44.002611Z",
     "shell.execute_reply": "2025-10-07T05:04:44.001876Z"
    }
   },
   "outputs": [
    {
     "name": "stdout",
     "output_type": "stream",
     "text": [
      "Tue Oct  7 16:04:43 2025       \r\n",
      "+-----------------------------------------------------------------------------------------+\r\n",
      "| NVIDIA-SMI 580.65.06              Driver Version: 580.65.06      CUDA Version: 13.0     |\r\n",
      "+-----------------------------------------+------------------------+----------------------+\r\n",
      "| GPU  Name                 Persistence-M | Bus-Id          Disp.A | Volatile Uncorr. ECC |\r\n",
      "| Fan  Temp   Perf          Pwr:Usage/Cap |           Memory-Usage | GPU-Util  Compute M. |\r\n",
      "|                                         |                        |               MIG M. |\r\n",
      "|=========================================+========================+======================|\r\n",
      "|   0  NVIDIA GeForce RTX 3080        Off |   00000000:0A:00.0 Off |                  N/A |\r\n",
      "| 30%   53C    P0            113W /  320W |       1MiB /  10240MiB |      0%      Default |\r\n",
      "|                                         |                        |                  N/A |\r\n",
      "+-----------------------------------------+------------------------+----------------------+\r\n",
      "\r\n",
      "+-----------------------------------------------------------------------------------------+\r\n",
      "| Processes:                                                                              |\r\n",
      "|  GPU   GI   CI              PID   Type   Process name                        GPU Memory |\r\n",
      "|        ID   ID                                                               Usage      |\r\n",
      "|=========================================================================================|\r\n",
      "|  No running processes found                                                             |\r\n",
      "+-----------------------------------------------------------------------------------------+\r\n"
     ]
    }
   ],
   "source": [
    "!nvidia-smi"
   ]
  },
  {
   "cell_type": "markdown",
   "id": "8e470226",
   "metadata": {},
   "source": [
    "## JAX as a NumPy Replacement\n",
    "\n",
    "One way to use JAX is as a plug-in NumPy replacement. Let’s look at the\n",
    "similarities and differences."
   ]
  },
  {
   "cell_type": "markdown",
   "id": "d4c1bff5",
   "metadata": {},
   "source": [
    "### Similarities\n",
    "\n",
    "The following import is standard, replacing `import numpy as np`:"
   ]
  },
  {
   "cell_type": "code",
   "execution_count": 2,
   "id": "7afcd018",
   "metadata": {
    "execution": {
     "iopub.execute_input": "2025-10-07T05:04:44.004817Z",
     "iopub.status.busy": "2025-10-07T05:04:44.004586Z",
     "iopub.status.idle": "2025-10-07T05:04:44.226012Z",
     "shell.execute_reply": "2025-10-07T05:04:44.225653Z"
    }
   },
   "outputs": [],
   "source": [
    "import jax\n",
    "import jax.numpy as jnp"
   ]
  },
  {
   "cell_type": "markdown",
   "id": "c4cbc548",
   "metadata": {},
   "source": [
    "Now we can use `jnp` in place of `np` for the usual array operations:"
   ]
  },
  {
   "cell_type": "code",
   "execution_count": 3,
   "id": "ff9adcd5",
   "metadata": {
    "execution": {
     "iopub.execute_input": "2025-10-07T05:04:44.227660Z",
     "iopub.status.busy": "2025-10-07T05:04:44.227229Z",
     "iopub.status.idle": "2025-10-07T05:04:44.548360Z",
     "shell.execute_reply": "2025-10-07T05:04:44.547906Z"
    }
   },
   "outputs": [],
   "source": [
    "a = jnp.asarray((1.0, 3.2, -1.5))"
   ]
  },
  {
   "cell_type": "code",
   "execution_count": 4,
   "id": "316c6693",
   "metadata": {
    "execution": {
     "iopub.execute_input": "2025-10-07T05:04:44.549629Z",
     "iopub.status.busy": "2025-10-07T05:04:44.549506Z",
     "iopub.status.idle": "2025-10-07T05:04:44.580810Z",
     "shell.execute_reply": "2025-10-07T05:04:44.580462Z"
    }
   },
   "outputs": [
    {
     "name": "stdout",
     "output_type": "stream",
     "text": [
      "[ 1.   3.2 -1.5]\n"
     ]
    }
   ],
   "source": [
    "print(a)"
   ]
  },
  {
   "cell_type": "code",
   "execution_count": 5,
   "id": "8720ce7e",
   "metadata": {
    "execution": {
     "iopub.execute_input": "2025-10-07T05:04:44.581922Z",
     "iopub.status.busy": "2025-10-07T05:04:44.581802Z",
     "iopub.status.idle": "2025-10-07T05:04:44.610217Z",
     "shell.execute_reply": "2025-10-07T05:04:44.609783Z"
    }
   },
   "outputs": [
    {
     "name": "stdout",
     "output_type": "stream",
     "text": [
      "2.6999998\n"
     ]
    }
   ],
   "source": [
    "print(jnp.sum(a))"
   ]
  },
  {
   "cell_type": "code",
   "execution_count": 6,
   "id": "a81b03f5",
   "metadata": {
    "execution": {
     "iopub.execute_input": "2025-10-07T05:04:44.611380Z",
     "iopub.status.busy": "2025-10-07T05:04:44.611260Z",
     "iopub.status.idle": "2025-10-07T05:04:44.638206Z",
     "shell.execute_reply": "2025-10-07T05:04:44.637848Z"
    }
   },
   "outputs": [
    {
     "name": "stdout",
     "output_type": "stream",
     "text": [
      "0.9\n"
     ]
    }
   ],
   "source": [
    "print(jnp.mean(a))"
   ]
  },
  {
   "cell_type": "code",
   "execution_count": 7,
   "id": "4feaf3fb",
   "metadata": {
    "execution": {
     "iopub.execute_input": "2025-10-07T05:04:44.639347Z",
     "iopub.status.busy": "2025-10-07T05:04:44.639228Z",
     "iopub.status.idle": "2025-10-07T05:04:44.665316Z",
     "shell.execute_reply": "2025-10-07T05:04:44.665006Z"
    }
   },
   "outputs": [
    {
     "name": "stdout",
     "output_type": "stream",
     "text": [
      "13.490001\n"
     ]
    }
   ],
   "source": [
    "print(jnp.dot(a, a))"
   ]
  },
  {
   "cell_type": "markdown",
   "id": "5b23150c",
   "metadata": {},
   "source": [
    "However, the array object `a` is not a NumPy array:"
   ]
  },
  {
   "cell_type": "code",
   "execution_count": 8,
   "id": "da997023",
   "metadata": {
    "execution": {
     "iopub.execute_input": "2025-10-07T05:04:44.666481Z",
     "iopub.status.busy": "2025-10-07T05:04:44.666362Z",
     "iopub.status.idle": "2025-10-07T05:04:44.670316Z",
     "shell.execute_reply": "2025-10-07T05:04:44.670081Z"
    }
   },
   "outputs": [
    {
     "data": {
      "text/plain": [
       "Array([ 1. ,  3.2, -1.5], dtype=float32)"
      ]
     },
     "execution_count": 8,
     "metadata": {},
     "output_type": "execute_result"
    }
   ],
   "source": [
    "a"
   ]
  },
  {
   "cell_type": "code",
   "execution_count": 9,
   "id": "3f0f404b",
   "metadata": {
    "execution": {
     "iopub.execute_input": "2025-10-07T05:04:44.671360Z",
     "iopub.status.busy": "2025-10-07T05:04:44.671248Z",
     "iopub.status.idle": "2025-10-07T05:04:44.673516Z",
     "shell.execute_reply": "2025-10-07T05:04:44.673282Z"
    }
   },
   "outputs": [
    {
     "data": {
      "text/plain": [
       "jaxlib._jax.ArrayImpl"
      ]
     },
     "execution_count": 9,
     "metadata": {},
     "output_type": "execute_result"
    }
   ],
   "source": [
    "type(a)"
   ]
  },
  {
   "cell_type": "markdown",
   "id": "4d584f02",
   "metadata": {},
   "source": [
    "Even scalar-valued maps on arrays return JAX arrays."
   ]
  },
  {
   "cell_type": "code",
   "execution_count": 10,
   "id": "5728191b",
   "metadata": {
    "execution": {
     "iopub.execute_input": "2025-10-07T05:04:44.674611Z",
     "iopub.status.busy": "2025-10-07T05:04:44.674500Z",
     "iopub.status.idle": "2025-10-07T05:04:44.677192Z",
     "shell.execute_reply": "2025-10-07T05:04:44.676961Z"
    }
   },
   "outputs": [
    {
     "data": {
      "text/plain": [
       "Array(2.6999998, dtype=float32)"
      ]
     },
     "execution_count": 10,
     "metadata": {},
     "output_type": "execute_result"
    }
   ],
   "source": [
    "jnp.sum(a)"
   ]
  },
  {
   "cell_type": "markdown",
   "id": "1e144d7b",
   "metadata": {},
   "source": [
    "JAX arrays are also called “device arrays,” where term “device” refers to a\n",
    "hardware accelerator (GPU or TPU).\n",
    "\n",
    "(In the terminology of GPUs, the “host” is the machine that launches GPU operations, while the “device” is the GPU itself.)\n",
    "\n",
    "Operations on higher dimensional arrays are also similar to NumPy:"
   ]
  },
  {
   "cell_type": "code",
   "execution_count": 11,
   "id": "e6cac8cf",
   "metadata": {
    "execution": {
     "iopub.execute_input": "2025-10-07T05:04:44.678230Z",
     "iopub.status.busy": "2025-10-07T05:04:44.678118Z",
     "iopub.status.idle": "2025-10-07T05:04:44.854578Z",
     "shell.execute_reply": "2025-10-07T05:04:44.854235Z"
    }
   },
   "outputs": [
    {
     "data": {
      "text/plain": [
       "Array([[1., 1.],\n",
       "       [1., 1.]], dtype=float32)"
      ]
     },
     "execution_count": 11,
     "metadata": {},
     "output_type": "execute_result"
    }
   ],
   "source": [
    "A = jnp.ones((2, 2))\n",
    "B = jnp.identity(2)\n",
    "A @ B"
   ]
  },
  {
   "cell_type": "code",
   "execution_count": 12,
   "id": "a604933f",
   "metadata": {
    "execution": {
     "iopub.execute_input": "2025-10-07T05:04:44.855895Z",
     "iopub.status.busy": "2025-10-07T05:04:44.855689Z",
     "iopub.status.idle": "2025-10-07T05:04:44.857754Z",
     "shell.execute_reply": "2025-10-07T05:04:44.857462Z"
    }
   },
   "outputs": [],
   "source": [
    "from jax.numpy import linalg"
   ]
  },
  {
   "cell_type": "code",
   "execution_count": 13,
   "id": "2b9eb784",
   "metadata": {
    "execution": {
     "iopub.execute_input": "2025-10-07T05:04:44.858929Z",
     "iopub.status.busy": "2025-10-07T05:04:44.858819Z",
     "iopub.status.idle": "2025-10-07T05:04:44.964309Z",
     "shell.execute_reply": "2025-10-07T05:04:44.963903Z"
    }
   },
   "outputs": [
    {
     "data": {
      "text/plain": [
       "Array([[1., 0.],\n",
       "       [0., 1.]], dtype=float32)"
      ]
     },
     "execution_count": 13,
     "metadata": {},
     "output_type": "execute_result"
    }
   ],
   "source": [
    "linalg.inv(B)   # Inverse of identity is identity"
   ]
  },
  {
   "cell_type": "code",
   "execution_count": 14,
   "id": "ab6f493c",
   "metadata": {
    "execution": {
     "iopub.execute_input": "2025-10-07T05:04:44.965445Z",
     "iopub.status.busy": "2025-10-07T05:04:44.965324Z",
     "iopub.status.idle": "2025-10-07T05:04:45.019162Z",
     "shell.execute_reply": "2025-10-07T05:04:45.018888Z"
    }
   },
   "outputs": [
    {
     "data": {
      "text/plain": [
       "EighResult(eigenvalues=Array([0.99999994, 0.99999994], dtype=float32), eigenvectors=Array([[1., 0.],\n",
       "       [0., 1.]], dtype=float32))"
      ]
     },
     "execution_count": 14,
     "metadata": {},
     "output_type": "execute_result"
    }
   ],
   "source": [
    "linalg.eigh(B)  # Computes eigenvalues and eigenvectors"
   ]
  },
  {
   "cell_type": "markdown",
   "id": "10f528d3",
   "metadata": {},
   "source": [
    "### Differences\n",
    "\n",
    "One difference between NumPy and JAX is that JAX currently uses 32 bit floats by default.\n",
    "\n",
    "This is standard for GPU computing and can lead to significant speed gains with small loss of precision.\n",
    "\n",
    "However, for some calculations precision matters.  In these cases 64 bit floats can be enforced via the command"
   ]
  },
  {
   "cell_type": "code",
   "execution_count": 15,
   "id": "328bae7b",
   "metadata": {
    "execution": {
     "iopub.execute_input": "2025-10-07T05:04:45.020408Z",
     "iopub.status.busy": "2025-10-07T05:04:45.020282Z",
     "iopub.status.idle": "2025-10-07T05:04:45.022630Z",
     "shell.execute_reply": "2025-10-07T05:04:45.022184Z"
    }
   },
   "outputs": [],
   "source": [
    "jax.config.update(\"jax_enable_x64\", True)"
   ]
  },
  {
   "cell_type": "markdown",
   "id": "d098bfb8",
   "metadata": {},
   "source": [
    "Let’s check this works:"
   ]
  },
  {
   "cell_type": "code",
   "execution_count": 16,
   "id": "d6b8cc9f",
   "metadata": {
    "execution": {
     "iopub.execute_input": "2025-10-07T05:04:45.023734Z",
     "iopub.status.busy": "2025-10-07T05:04:45.023614Z",
     "iopub.status.idle": "2025-10-07T05:04:45.058763Z",
     "shell.execute_reply": "2025-10-07T05:04:45.058447Z"
    }
   },
   "outputs": [
    {
     "data": {
      "text/plain": [
       "Array([1., 1., 1.], dtype=float64)"
      ]
     },
     "execution_count": 16,
     "metadata": {},
     "output_type": "execute_result"
    }
   ],
   "source": [
    "jnp.ones(3)"
   ]
  },
  {
   "cell_type": "markdown",
   "id": "22a8b0c4",
   "metadata": {},
   "source": [
    "As a NumPy replacement, a more significant difference is that arrays are treated as **immutable**.\n",
    "\n",
    "For example, with NumPy we can write"
   ]
  },
  {
   "cell_type": "code",
   "execution_count": 17,
   "id": "f6fb5a93",
   "metadata": {
    "execution": {
     "iopub.execute_input": "2025-10-07T05:04:45.060093Z",
     "iopub.status.busy": "2025-10-07T05:04:45.059936Z",
     "iopub.status.idle": "2025-10-07T05:04:45.062747Z",
     "shell.execute_reply": "2025-10-07T05:04:45.062521Z"
    }
   },
   "outputs": [
    {
     "data": {
      "text/plain": [
       "array([0. , 0.5, 1. ])"
      ]
     },
     "execution_count": 17,
     "metadata": {},
     "output_type": "execute_result"
    }
   ],
   "source": [
    "import numpy as np\n",
    "a = np.linspace(0, 1, 3)\n",
    "a"
   ]
  },
  {
   "cell_type": "markdown",
   "id": "b6e7ea35",
   "metadata": {},
   "source": [
    "and then mutate the data in memory:"
   ]
  },
  {
   "cell_type": "code",
   "execution_count": 18,
   "id": "1cc3d3ad",
   "metadata": {
    "execution": {
     "iopub.execute_input": "2025-10-07T05:04:45.063996Z",
     "iopub.status.busy": "2025-10-07T05:04:45.063889Z",
     "iopub.status.idle": "2025-10-07T05:04:45.066365Z",
     "shell.execute_reply": "2025-10-07T05:04:45.066142Z"
    }
   },
   "outputs": [
    {
     "data": {
      "text/plain": [
       "array([1. , 0.5, 1. ])"
      ]
     },
     "execution_count": 18,
     "metadata": {},
     "output_type": "execute_result"
    }
   ],
   "source": [
    "a[0] = 1\n",
    "a"
   ]
  },
  {
   "cell_type": "markdown",
   "id": "c4120be4",
   "metadata": {},
   "source": [
    "In JAX this fails:"
   ]
  },
  {
   "cell_type": "code",
   "execution_count": 19,
   "id": "37ecdcbb",
   "metadata": {
    "execution": {
     "iopub.execute_input": "2025-10-07T05:04:45.067504Z",
     "iopub.status.busy": "2025-10-07T05:04:45.067397Z",
     "iopub.status.idle": "2025-10-07T05:04:45.104635Z",
     "shell.execute_reply": "2025-10-07T05:04:45.104312Z"
    }
   },
   "outputs": [
    {
     "data": {
      "text/plain": [
       "Array([0. , 0.5, 1. ], dtype=float64)"
      ]
     },
     "execution_count": 19,
     "metadata": {},
     "output_type": "execute_result"
    }
   ],
   "source": [
    "a = jnp.linspace(0, 1, 3)\n",
    "a"
   ]
  },
  {
   "cell_type": "code",
   "execution_count": 20,
   "id": "aac3f644",
   "metadata": {
    "execution": {
     "iopub.execute_input": "2025-10-07T05:04:45.105877Z",
     "iopub.status.busy": "2025-10-07T05:04:45.105692Z",
     "iopub.status.idle": "2025-10-07T05:04:45.107557Z",
     "shell.execute_reply": "2025-10-07T05:04:45.107252Z"
    }
   },
   "outputs": [],
   "source": [
    "# a[0] = 1  # If you uncomment and run this it will fail"
   ]
  },
  {
   "cell_type": "markdown",
   "id": "0c51c76a",
   "metadata": {},
   "source": [
    "In line with immutability, JAX does not support inplace operations:"
   ]
  },
  {
   "cell_type": "code",
   "execution_count": 21,
   "id": "e6b055ee",
   "metadata": {
    "execution": {
     "iopub.execute_input": "2025-10-07T05:04:45.108606Z",
     "iopub.status.busy": "2025-10-07T05:04:45.108495Z",
     "iopub.status.idle": "2025-10-07T05:04:45.111162Z",
     "shell.execute_reply": "2025-10-07T05:04:45.110860Z"
    }
   },
   "outputs": [
    {
     "data": {
      "text/plain": [
       "array([1, 2])"
      ]
     },
     "execution_count": 21,
     "metadata": {},
     "output_type": "execute_result"
    }
   ],
   "source": [
    "a = np.array((2, 1))\n",
    "a.sort()\n",
    "a"
   ]
  },
  {
   "cell_type": "code",
   "execution_count": 22,
   "id": "e2eb53a0",
   "metadata": {
    "execution": {
     "iopub.execute_input": "2025-10-07T05:04:45.112211Z",
     "iopub.status.busy": "2025-10-07T05:04:45.112102Z",
     "iopub.status.idle": "2025-10-07T05:04:45.149087Z",
     "shell.execute_reply": "2025-10-07T05:04:45.148780Z"
    }
   },
   "outputs": [
    {
     "data": {
      "text/plain": [
       "(Array([2, 1], dtype=int64), Array([1, 2], dtype=int64))"
      ]
     },
     "execution_count": 22,
     "metadata": {},
     "output_type": "execute_result"
    }
   ],
   "source": [
    "a = jnp.array((2, 1))\n",
    "a_new = a.sort()\n",
    "a, a_new"
   ]
  },
  {
   "cell_type": "markdown",
   "id": "ff7c79a6",
   "metadata": {},
   "source": [
    "The designers of JAX chose to make arrays immutable because JAX uses a\n",
    "functional programming style.  More on this below.\n",
    "\n",
    "However, JAX provides a functionally pure equivalent of in-place array modification\n",
    "using the [`at` method](https://docs.jax.dev/en/latest/_autosummary/jax.numpy.ndarray.at.html)."
   ]
  },
  {
   "cell_type": "code",
   "execution_count": 23,
   "id": "7a9ca48e",
   "metadata": {
    "execution": {
     "iopub.execute_input": "2025-10-07T05:04:45.150278Z",
     "iopub.status.busy": "2025-10-07T05:04:45.150132Z",
     "iopub.status.idle": "2025-10-07T05:04:45.152893Z",
     "shell.execute_reply": "2025-10-07T05:04:45.152615Z"
    }
   },
   "outputs": [
    {
     "data": {
      "text/plain": [
       "525085728"
      ]
     },
     "execution_count": 23,
     "metadata": {},
     "output_type": "execute_result"
    }
   ],
   "source": [
    "a = jnp.linspace(0, 1, 3)\n",
    "id(a)"
   ]
  },
  {
   "cell_type": "code",
   "execution_count": 24,
   "id": "2cc4abf6",
   "metadata": {
    "execution": {
     "iopub.execute_input": "2025-10-07T05:04:45.154083Z",
     "iopub.status.busy": "2025-10-07T05:04:45.153891Z",
     "iopub.status.idle": "2025-10-07T05:04:45.156469Z",
     "shell.execute_reply": "2025-10-07T05:04:45.156168Z"
    }
   },
   "outputs": [
    {
     "data": {
      "text/plain": [
       "Array([0. , 0.5, 1. ], dtype=float64)"
      ]
     },
     "execution_count": 24,
     "metadata": {},
     "output_type": "execute_result"
    }
   ],
   "source": [
    "a"
   ]
  },
  {
   "cell_type": "markdown",
   "id": "2f2f714c",
   "metadata": {},
   "source": [
    "Applying `at[0].set(1)` returns a new copy of `a` with the first element set to 1"
   ]
  },
  {
   "cell_type": "code",
   "execution_count": 25,
   "id": "00e972cd",
   "metadata": {
    "execution": {
     "iopub.execute_input": "2025-10-07T05:04:45.157633Z",
     "iopub.status.busy": "2025-10-07T05:04:45.157524Z",
     "iopub.status.idle": "2025-10-07T05:04:45.243429Z",
     "shell.execute_reply": "2025-10-07T05:04:45.243108Z"
    }
   },
   "outputs": [
    {
     "data": {
      "text/plain": [
       "Array([1. , 0.5, 1. ], dtype=float64)"
      ]
     },
     "execution_count": 25,
     "metadata": {},
     "output_type": "execute_result"
    }
   ],
   "source": [
    "a = a.at[0].set(1)\n",
    "a"
   ]
  },
  {
   "cell_type": "markdown",
   "id": "81c8551f",
   "metadata": {},
   "source": [
    "Inspecting the identifier of `a` shows that it has been reassigned"
   ]
  },
  {
   "cell_type": "code",
   "execution_count": 26,
   "id": "ee3304ce",
   "metadata": {
    "execution": {
     "iopub.execute_input": "2025-10-07T05:04:45.244628Z",
     "iopub.status.busy": "2025-10-07T05:04:45.244511Z",
     "iopub.status.idle": "2025-10-07T05:04:45.246932Z",
     "shell.execute_reply": "2025-10-07T05:04:45.246653Z"
    }
   },
   "outputs": [
    {
     "data": {
      "text/plain": [
       "528650608"
      ]
     },
     "execution_count": 26,
     "metadata": {},
     "output_type": "execute_result"
    }
   ],
   "source": [
    "id(a)"
   ]
  },
  {
   "cell_type": "markdown",
   "id": "bcb63199",
   "metadata": {},
   "source": [
    "## Random Numbers\n",
    "\n",
    "Random numbers are also a bit different in JAX, relative to NumPy.  Typically, in JAX, the state of the random number generator needs to be controlled explicitly."
   ]
  },
  {
   "cell_type": "code",
   "execution_count": 27,
   "id": "64823cb2",
   "metadata": {
    "execution": {
     "iopub.execute_input": "2025-10-07T05:04:45.248082Z",
     "iopub.status.busy": "2025-10-07T05:04:45.247972Z",
     "iopub.status.idle": "2025-10-07T05:04:45.249939Z",
     "shell.execute_reply": "2025-10-07T05:04:45.249575Z"
    }
   },
   "outputs": [],
   "source": [
    "import jax.random as random"
   ]
  },
  {
   "cell_type": "markdown",
   "id": "bea9e59a",
   "metadata": {},
   "source": [
    "First we produce a key, which seeds the random number generator."
   ]
  },
  {
   "cell_type": "code",
   "execution_count": 28,
   "id": "771fbd53",
   "metadata": {
    "execution": {
     "iopub.execute_input": "2025-10-07T05:04:45.251123Z",
     "iopub.status.busy": "2025-10-07T05:04:45.251014Z",
     "iopub.status.idle": "2025-10-07T05:04:45.287311Z",
     "shell.execute_reply": "2025-10-07T05:04:45.286825Z"
    }
   },
   "outputs": [],
   "source": [
    "key = random.PRNGKey(1)"
   ]
  },
  {
   "cell_type": "code",
   "execution_count": 29,
   "id": "2bac59fd",
   "metadata": {
    "execution": {
     "iopub.execute_input": "2025-10-07T05:04:45.288687Z",
     "iopub.status.busy": "2025-10-07T05:04:45.288569Z",
     "iopub.status.idle": "2025-10-07T05:04:45.291153Z",
     "shell.execute_reply": "2025-10-07T05:04:45.290920Z"
    }
   },
   "outputs": [
    {
     "data": {
      "text/plain": [
       "jaxlib._jax.ArrayImpl"
      ]
     },
     "execution_count": 29,
     "metadata": {},
     "output_type": "execute_result"
    }
   ],
   "source": [
    "type(key)"
   ]
  },
  {
   "cell_type": "code",
   "execution_count": 30,
   "id": "930ea4b2",
   "metadata": {
    "execution": {
     "iopub.execute_input": "2025-10-07T05:04:45.292404Z",
     "iopub.status.busy": "2025-10-07T05:04:45.292293Z",
     "iopub.status.idle": "2025-10-07T05:04:45.294550Z",
     "shell.execute_reply": "2025-10-07T05:04:45.294236Z"
    }
   },
   "outputs": [
    {
     "name": "stdout",
     "output_type": "stream",
     "text": [
      "[0 1]\n"
     ]
    }
   ],
   "source": [
    "print(key)"
   ]
  },
  {
   "cell_type": "markdown",
   "id": "1c9489fb",
   "metadata": {},
   "source": [
    "Now we can use the key to generate some random numbers:"
   ]
  },
  {
   "cell_type": "code",
   "execution_count": 31,
   "id": "d3ca3ac8",
   "metadata": {
    "execution": {
     "iopub.execute_input": "2025-10-07T05:04:45.295668Z",
     "iopub.status.busy": "2025-10-07T05:04:45.295558Z",
     "iopub.status.idle": "2025-10-07T05:04:45.513928Z",
     "shell.execute_reply": "2025-10-07T05:04:45.513500Z"
    }
   },
   "outputs": [
    {
     "data": {
      "text/plain": [
       "Array([[-1.18428442, -0.11617041,  0.17269028],\n",
       "       [ 0.95730718, -0.83295415,  0.69080517],\n",
       "       [ 0.07545021, -0.7645271 , -0.05064539]], dtype=float64)"
      ]
     },
     "execution_count": 31,
     "metadata": {},
     "output_type": "execute_result"
    }
   ],
   "source": [
    "x = random.normal(key, (3, 3))\n",
    "x"
   ]
  },
  {
   "cell_type": "markdown",
   "id": "90c2b8bd",
   "metadata": {},
   "source": [
    "If we use the same key again, we initialize at the same seed, so the random numbers are the same:"
   ]
  },
  {
   "cell_type": "code",
   "execution_count": 32,
   "id": "3708b785",
   "metadata": {
    "execution": {
     "iopub.execute_input": "2025-10-07T05:04:45.515087Z",
     "iopub.status.busy": "2025-10-07T05:04:45.514961Z",
     "iopub.status.idle": "2025-10-07T05:04:45.517743Z",
     "shell.execute_reply": "2025-10-07T05:04:45.517499Z"
    }
   },
   "outputs": [
    {
     "data": {
      "text/plain": [
       "Array([[-1.18428442, -0.11617041,  0.17269028],\n",
       "       [ 0.95730718, -0.83295415,  0.69080517],\n",
       "       [ 0.07545021, -0.7645271 , -0.05064539]], dtype=float64)"
      ]
     },
     "execution_count": 32,
     "metadata": {},
     "output_type": "execute_result"
    }
   ],
   "source": [
    "random.normal(key, (3, 3))"
   ]
  },
  {
   "cell_type": "markdown",
   "id": "1a86f62f",
   "metadata": {},
   "source": [
    "To produce a (quasi-) independent draw, best practice is to “split” the existing key:"
   ]
  },
  {
   "cell_type": "code",
   "execution_count": 33,
   "id": "6ddc4829",
   "metadata": {
    "execution": {
     "iopub.execute_input": "2025-10-07T05:04:45.518867Z",
     "iopub.status.busy": "2025-10-07T05:04:45.518746Z",
     "iopub.status.idle": "2025-10-07T05:04:45.678116Z",
     "shell.execute_reply": "2025-10-07T05:04:45.677675Z"
    }
   },
   "outputs": [],
   "source": [
    "key, subkey = random.split(key)"
   ]
  },
  {
   "cell_type": "code",
   "execution_count": 34,
   "id": "81e5392a",
   "metadata": {
    "execution": {
     "iopub.execute_input": "2025-10-07T05:04:45.679438Z",
     "iopub.status.busy": "2025-10-07T05:04:45.679314Z",
     "iopub.status.idle": "2025-10-07T05:04:45.682388Z",
     "shell.execute_reply": "2025-10-07T05:04:45.682072Z"
    }
   },
   "outputs": [
    {
     "data": {
      "text/plain": [
       "Array([[ 1.09221959,  0.33192176, -0.90184197],\n",
       "       [-1.37815779,  0.43052577,  1.6068202 ],\n",
       "       [ 0.04053753, -0.78732842,  1.75917181]], dtype=float64)"
      ]
     },
     "execution_count": 34,
     "metadata": {},
     "output_type": "execute_result"
    }
   ],
   "source": [
    "random.normal(key, (3, 3))"
   ]
  },
  {
   "cell_type": "code",
   "execution_count": 35,
   "id": "0e4ab115",
   "metadata": {
    "execution": {
     "iopub.execute_input": "2025-10-07T05:04:45.683476Z",
     "iopub.status.busy": "2025-10-07T05:04:45.683361Z",
     "iopub.status.idle": "2025-10-07T05:04:45.686294Z",
     "shell.execute_reply": "2025-10-07T05:04:45.685971Z"
    }
   },
   "outputs": [
    {
     "data": {
      "text/plain": [
       "Array([[ 0.7158846 ,  0.03955972,  0.71127682],\n",
       "       [-0.40080158, -0.91609481,  0.23713062],\n",
       "       [ 0.85253995, -0.80972695,  1.79431941]], dtype=float64)"
      ]
     },
     "execution_count": 35,
     "metadata": {},
     "output_type": "execute_result"
    }
   ],
   "source": [
    "random.normal(subkey, (3, 3))"
   ]
  },
  {
   "cell_type": "markdown",
   "id": "e7b985ea",
   "metadata": {},
   "source": [
    "The function below produces `k` (quasi-) independent random `n x n` matrices using this procedure."
   ]
  },
  {
   "cell_type": "code",
   "execution_count": 36,
   "id": "34324ff3",
   "metadata": {
    "execution": {
     "iopub.execute_input": "2025-10-07T05:04:45.687391Z",
     "iopub.status.busy": "2025-10-07T05:04:45.687277Z",
     "iopub.status.idle": "2025-10-07T05:04:45.689631Z",
     "shell.execute_reply": "2025-10-07T05:04:45.689314Z"
    }
   },
   "outputs": [],
   "source": [
    "def gen_random_matrices(key, n, k):\n",
    "    matrices = []\n",
    "    for _ in range(k):\n",
    "        key, subkey = random.split(key)\n",
    "        matrices.append(random.uniform(subkey, (n, n)))\n",
    "    return matrices"
   ]
  },
  {
   "cell_type": "code",
   "execution_count": 37,
   "id": "92b7e392",
   "metadata": {
    "execution": {
     "iopub.execute_input": "2025-10-07T05:04:45.690733Z",
     "iopub.status.busy": "2025-10-07T05:04:45.690618Z",
     "iopub.status.idle": "2025-10-07T05:04:45.819547Z",
     "shell.execute_reply": "2025-10-07T05:04:45.819172Z"
    }
   },
   "outputs": [
    {
     "name": "stdout",
     "output_type": "stream",
     "text": [
      "\n",
      "[[0.29202993 0.43545993]\n",
      " [0.73730956 0.3796823 ]]\n",
      "\n",
      "[[0.08823494 0.3358791 ]\n",
      " [0.72669531 0.82647633]]\n"
     ]
    }
   ],
   "source": [
    "matrices = gen_random_matrices(key, 2, 2)\n",
    "for A in matrices:\n",
    "    print()\n",
    "    print(A)"
   ]
  },
  {
   "cell_type": "markdown",
   "id": "2419db3e",
   "metadata": {},
   "source": [
    "## JIT compilation\n",
    "\n",
    "The JAX just-in-time (JIT) compiler accelerates logic within functions by fusing linear\n",
    "algebra operations into a single optimized kernel that the host can\n",
    "launch on the GPU / TPU (or CPU if no accelerator is detected)."
   ]
  },
  {
   "cell_type": "markdown",
   "id": "35faf1c9",
   "metadata": {},
   "source": [
    "### A first example\n",
    "\n",
    "To see the JIT compiler in action, consider the following function."
   ]
  },
  {
   "cell_type": "code",
   "execution_count": 38,
   "id": "fce44f9c",
   "metadata": {
    "execution": {
     "iopub.execute_input": "2025-10-07T05:04:45.820800Z",
     "iopub.status.busy": "2025-10-07T05:04:45.820652Z",
     "iopub.status.idle": "2025-10-07T05:04:45.823032Z",
     "shell.execute_reply": "2025-10-07T05:04:45.822607Z"
    }
   },
   "outputs": [],
   "source": [
    "def f(x):\n",
    "    a = 3*x + jnp.sin(x) + jnp.cos(x**2) - jnp.cos(2*x) + 6*x + 10*x**2\n",
    "    return jnp.sum(a)"
   ]
  },
  {
   "cell_type": "markdown",
   "id": "e64933d8",
   "metadata": {},
   "source": [
    "Let’s build an array to call the function on."
   ]
  },
  {
   "cell_type": "code",
   "execution_count": 39,
   "id": "533f0ffe",
   "metadata": {
    "execution": {
     "iopub.execute_input": "2025-10-07T05:04:45.824200Z",
     "iopub.status.busy": "2025-10-07T05:04:45.824088Z",
     "iopub.status.idle": "2025-10-07T05:04:45.850225Z",
     "shell.execute_reply": "2025-10-07T05:04:45.849855Z"
    }
   },
   "outputs": [],
   "source": [
    "n = 50_000_000\n",
    "x = jnp.ones(n)"
   ]
  },
  {
   "cell_type": "markdown",
   "id": "44303233",
   "metadata": {},
   "source": [
    "How long does the function take to execute?"
   ]
  },
  {
   "cell_type": "code",
   "execution_count": 40,
   "id": "9efd3bbd",
   "metadata": {
    "execution": {
     "iopub.execute_input": "2025-10-07T05:04:45.851606Z",
     "iopub.status.busy": "2025-10-07T05:04:45.851483Z",
     "iopub.status.idle": "2025-10-07T05:04:46.124137Z",
     "shell.execute_reply": "2025-10-07T05:04:46.123778Z"
    }
   },
   "outputs": [
    {
     "name": "stdout",
     "output_type": "stream",
     "text": [
      "CPU times: user 175 ms, sys: 7.82 ms, total: 182 ms\n",
      "Wall time: 269 ms\n"
     ]
    },
    {
     "data": {
      "text/plain": [
       "Array(1.03989601e+09, dtype=float64)"
      ]
     },
     "execution_count": 40,
     "metadata": {},
     "output_type": "execute_result"
    }
   ],
   "source": [
    "%time f(x).block_until_ready()"
   ]
  },
  {
   "cell_type": "markdown",
   "id": "50069b82",
   "metadata": {},
   "source": [
    "The code doesn’t run as fast as we might hope, given that it’s running on a GPU.\n",
    "\n",
    "But if we run it a second time it becomes much faster:"
   ]
  },
  {
   "cell_type": "code",
   "execution_count": 41,
   "id": "c8b35b7e",
   "metadata": {
    "execution": {
     "iopub.execute_input": "2025-10-07T05:04:46.125457Z",
     "iopub.status.busy": "2025-10-07T05:04:46.125340Z",
     "iopub.status.idle": "2025-10-07T05:04:46.159525Z",
     "shell.execute_reply": "2025-10-07T05:04:46.159025Z"
    }
   },
   "outputs": [
    {
     "name": "stdout",
     "output_type": "stream",
     "text": [
      "CPU times: user 2.79 ms, sys: 1 ms, total: 3.79 ms\n",
      "Wall time: 30.4 ms\n"
     ]
    },
    {
     "data": {
      "text/plain": [
       "Array(1.03989601e+09, dtype=float64)"
      ]
     },
     "execution_count": 41,
     "metadata": {},
     "output_type": "execute_result"
    }
   ],
   "source": [
    "%time f(x).block_until_ready()"
   ]
  },
  {
   "cell_type": "markdown",
   "id": "1dc6d9ee",
   "metadata": {},
   "source": [
    "This is because the built in functions like `jnp.cos` are JIT compiled and the\n",
    "first run includes compile time.\n",
    "\n",
    "Why would JAX want to JIT-compile built in functions like `jnp.cos` instead of\n",
    "just providing pre-compiled versions, like NumPy?\n",
    "\n",
    "The reason is that the JIT compiler can specialize on the *size* of the array\n",
    "being used, which is helpful for parallelization.\n",
    "\n",
    "For example, in running the code above, the JIT compiler produced a version of `jnp.cos` that is\n",
    "specialized to floating point arrays of size `n = 50_000_000`.\n",
    "\n",
    "We can check this by calling `f` with a new array of different size."
   ]
  },
  {
   "cell_type": "code",
   "execution_count": 42,
   "id": "9e29bf57",
   "metadata": {
    "execution": {
     "iopub.execute_input": "2025-10-07T05:04:46.160981Z",
     "iopub.status.busy": "2025-10-07T05:04:46.160830Z",
     "iopub.status.idle": "2025-10-07T05:04:46.194061Z",
     "shell.execute_reply": "2025-10-07T05:04:46.193537Z"
    }
   },
   "outputs": [],
   "source": [
    "m = 50_000_001\n",
    "y = jnp.ones(m)"
   ]
  },
  {
   "cell_type": "code",
   "execution_count": 43,
   "id": "8731bcfb",
   "metadata": {
    "execution": {
     "iopub.execute_input": "2025-10-07T05:04:46.195648Z",
     "iopub.status.busy": "2025-10-07T05:04:46.195495Z",
     "iopub.status.idle": "2025-10-07T05:04:46.444301Z",
     "shell.execute_reply": "2025-10-07T05:04:46.444004Z"
    }
   },
   "outputs": [
    {
     "name": "stdout",
     "output_type": "stream",
     "text": [
      "CPU times: user 158 ms, sys: 13 ms, total: 171 ms\n",
      "Wall time: 246 ms\n"
     ]
    },
    {
     "data": {
      "text/plain": [
       "Array(1.03989603e+09, dtype=float64)"
      ]
     },
     "execution_count": 43,
     "metadata": {},
     "output_type": "execute_result"
    }
   ],
   "source": [
    "%time f(y).block_until_ready()"
   ]
  },
  {
   "cell_type": "markdown",
   "id": "831f0792",
   "metadata": {},
   "source": [
    "Notice that the execution time increases, because now new versions of\n",
    "the built-ins like `jnp.cos` are being compiled, specialized to the new array\n",
    "size.\n",
    "\n",
    "If we run again, the code is dispatched to the correct compiled version and we\n",
    "get faster execution."
   ]
  },
  {
   "cell_type": "code",
   "execution_count": 44,
   "id": "3d13cf70",
   "metadata": {
    "execution": {
     "iopub.execute_input": "2025-10-07T05:04:46.445556Z",
     "iopub.status.busy": "2025-10-07T05:04:46.445433Z",
     "iopub.status.idle": "2025-10-07T05:04:46.479432Z",
     "shell.execute_reply": "2025-10-07T05:04:46.479055Z"
    }
   },
   "outputs": [
    {
     "name": "stdout",
     "output_type": "stream",
     "text": [
      "CPU times: user 2.53 ms, sys: 326 μs, total: 2.86 ms\n",
      "Wall time: 30.4 ms\n"
     ]
    },
    {
     "data": {
      "text/plain": [
       "Array(1.03989603e+09, dtype=float64)"
      ]
     },
     "execution_count": 44,
     "metadata": {},
     "output_type": "execute_result"
    }
   ],
   "source": [
    "%time f(y).block_until_ready()"
   ]
  },
  {
   "cell_type": "markdown",
   "id": "4cadada2",
   "metadata": {},
   "source": [
    "The compiled versions for the previous array size are still available in memory\n",
    "too, and the following call is dispatched to the correct compiled code."
   ]
  },
  {
   "cell_type": "code",
   "execution_count": 45,
   "id": "b0dd242e",
   "metadata": {
    "execution": {
     "iopub.execute_input": "2025-10-07T05:04:46.480925Z",
     "iopub.status.busy": "2025-10-07T05:04:46.480761Z",
     "iopub.status.idle": "2025-10-07T05:04:46.520177Z",
     "shell.execute_reply": "2025-10-07T05:04:46.518762Z"
    }
   },
   "outputs": [
    {
     "name": "stdout",
     "output_type": "stream",
     "text": [
      "CPU times: user 4.19 ms, sys: 1.04 ms, total: 5.23 ms\n",
      "Wall time: 30.6 ms\n"
     ]
    },
    {
     "data": {
      "text/plain": [
       "Array(1.03989601e+09, dtype=float64)"
      ]
     },
     "execution_count": 45,
     "metadata": {},
     "output_type": "execute_result"
    }
   ],
   "source": [
    "%time f(x).block_until_ready()"
   ]
  },
  {
   "cell_type": "markdown",
   "id": "d50d4c6c",
   "metadata": {},
   "source": [
    "### Compiling the outer function\n",
    "\n",
    "We can do even better if we manually JIT-compile the outer function."
   ]
  },
  {
   "cell_type": "code",
   "execution_count": 46,
   "id": "43aa47c1",
   "metadata": {
    "execution": {
     "iopub.execute_input": "2025-10-07T05:04:46.525014Z",
     "iopub.status.busy": "2025-10-07T05:04:46.524463Z",
     "iopub.status.idle": "2025-10-07T05:04:46.531278Z",
     "shell.execute_reply": "2025-10-07T05:04:46.529914Z"
    }
   },
   "outputs": [],
   "source": [
    "f_jit = jax.jit(f)   # target for JIT compilation"
   ]
  },
  {
   "cell_type": "markdown",
   "id": "4aee49c4",
   "metadata": {},
   "source": [
    "Let’s run once to compile it:"
   ]
  },
  {
   "cell_type": "code",
   "execution_count": 47,
   "id": "8901eb17",
   "metadata": {
    "execution": {
     "iopub.execute_input": "2025-10-07T05:04:46.535890Z",
     "iopub.status.busy": "2025-10-07T05:04:46.535338Z",
     "iopub.status.idle": "2025-10-07T05:04:46.736797Z",
     "shell.execute_reply": "2025-10-07T05:04:46.736470Z"
    }
   },
   "outputs": [
    {
     "data": {
      "text/plain": [
       "Array(1.03989601e+09, dtype=float64)"
      ]
     },
     "execution_count": 47,
     "metadata": {},
     "output_type": "execute_result"
    }
   ],
   "source": [
    "f_jit(x)"
   ]
  },
  {
   "cell_type": "markdown",
   "id": "a0d5d152",
   "metadata": {},
   "source": [
    "And now let’s time it."
   ]
  },
  {
   "cell_type": "code",
   "execution_count": 48,
   "id": "6d6f27b9",
   "metadata": {
    "execution": {
     "iopub.execute_input": "2025-10-07T05:04:46.737964Z",
     "iopub.status.busy": "2025-10-07T05:04:46.737846Z",
     "iopub.status.idle": "2025-10-07T05:04:59.273319Z",
     "shell.execute_reply": "2025-10-07T05:04:59.271510Z"
    }
   },
   "outputs": [
    {
     "name": "stdout",
     "output_type": "stream",
     "text": [
      "15.4 ms ± 16.1 μs per loop (mean ± std. dev. of 7 runs, 100 loops each)\n"
     ]
    }
   ],
   "source": [
    "%timeit f_jit(x).block_until_ready()"
   ]
  },
  {
   "cell_type": "markdown",
   "id": "d344d4c8",
   "metadata": {},
   "source": [
    "Note the speed gain.\n",
    "\n",
    "This is because the array operations are fused and no intermediate arrays are created.\n",
    "\n",
    "Incidentally, a more common syntax when targetting a function for the JIT\n",
    "compiler is"
   ]
  },
  {
   "cell_type": "code",
   "execution_count": 49,
   "id": "372f9ab0",
   "metadata": {
    "execution": {
     "iopub.execute_input": "2025-10-07T05:04:59.278965Z",
     "iopub.status.busy": "2025-10-07T05:04:59.278313Z",
     "iopub.status.idle": "2025-10-07T05:04:59.284616Z",
     "shell.execute_reply": "2025-10-07T05:04:59.284324Z"
    }
   },
   "outputs": [],
   "source": [
    "@jax.jit\n",
    "def f(x):\n",
    "    a = 3*x + jnp.sin(x) + jnp.cos(x**2) - jnp.cos(2*x) - x**2 * 0.4 * x**1.5\n",
    "    return jnp.sum(a)"
   ]
  },
  {
   "cell_type": "markdown",
   "id": "b3cc5c5b",
   "metadata": {},
   "source": [
    "## Functional Programming\n",
    "\n",
    "From JAX’s documentation:\n",
    "\n",
    "*When walking about the countryside of Italy, the people will not hesitate to tell you that JAX has “una anima di pura programmazione funzionale”.*\n",
    "\n",
    "In other words, JAX assumes a functional programming style.\n",
    "\n",
    "The major implication is that JAX functions should be pure.\n",
    "\n",
    "A pure function will always return the same result if invoked with the same inputs.\n",
    "\n",
    "In particular, a pure function has\n",
    "\n",
    "- no dependence on global variables and  \n",
    "- no side effects  \n",
    "\n",
    "\n",
    "JAX will not usually throw errors when compiling impure functions but execution becomes unpredictable.\n",
    "\n",
    "Here’s an illustration of this fact, using global variables:"
   ]
  },
  {
   "cell_type": "code",
   "execution_count": 50,
   "id": "fc4c3dfb",
   "metadata": {
    "execution": {
     "iopub.execute_input": "2025-10-07T05:04:59.285834Z",
     "iopub.status.busy": "2025-10-07T05:04:59.285669Z",
     "iopub.status.idle": "2025-10-07T05:04:59.287913Z",
     "shell.execute_reply": "2025-10-07T05:04:59.287590Z"
    }
   },
   "outputs": [],
   "source": [
    "a = 1  # global\n",
    "\n",
    "@jax.jit\n",
    "def f(x):\n",
    "    return a + x"
   ]
  },
  {
   "cell_type": "code",
   "execution_count": 51,
   "id": "5a50fe05",
   "metadata": {
    "execution": {
     "iopub.execute_input": "2025-10-07T05:04:59.289158Z",
     "iopub.status.busy": "2025-10-07T05:04:59.289013Z",
     "iopub.status.idle": "2025-10-07T05:04:59.344218Z",
     "shell.execute_reply": "2025-10-07T05:04:59.343882Z"
    }
   },
   "outputs": [],
   "source": [
    "x = jnp.ones(5)"
   ]
  },
  {
   "cell_type": "code",
   "execution_count": 52,
   "id": "95cfe9ab",
   "metadata": {
    "execution": {
     "iopub.execute_input": "2025-10-07T05:04:59.345724Z",
     "iopub.status.busy": "2025-10-07T05:04:59.345586Z",
     "iopub.status.idle": "2025-10-07T05:04:59.371726Z",
     "shell.execute_reply": "2025-10-07T05:04:59.371409Z"
    }
   },
   "outputs": [
    {
     "data": {
      "text/plain": [
       "Array([2., 2., 2., 2., 2.], dtype=float64)"
      ]
     },
     "execution_count": 52,
     "metadata": {},
     "output_type": "execute_result"
    }
   ],
   "source": [
    "f(x)"
   ]
  },
  {
   "cell_type": "markdown",
   "id": "e87f2f0c",
   "metadata": {},
   "source": [
    "In the code above, the global value `a=1` is fused into the jitted function.\n",
    "\n",
    "Even if we change `a`, the output of `f` will not be affected — as long as the same compiled version is called."
   ]
  },
  {
   "cell_type": "code",
   "execution_count": 53,
   "id": "94fa47bf",
   "metadata": {
    "execution": {
     "iopub.execute_input": "2025-10-07T05:04:59.372979Z",
     "iopub.status.busy": "2025-10-07T05:04:59.372855Z",
     "iopub.status.idle": "2025-10-07T05:04:59.374849Z",
     "shell.execute_reply": "2025-10-07T05:04:59.374499Z"
    }
   },
   "outputs": [],
   "source": [
    "a = 42"
   ]
  },
  {
   "cell_type": "code",
   "execution_count": 54,
   "id": "2afbc581",
   "metadata": {
    "execution": {
     "iopub.execute_input": "2025-10-07T05:04:59.376096Z",
     "iopub.status.busy": "2025-10-07T05:04:59.375987Z",
     "iopub.status.idle": "2025-10-07T05:04:59.379205Z",
     "shell.execute_reply": "2025-10-07T05:04:59.378979Z"
    }
   },
   "outputs": [
    {
     "data": {
      "text/plain": [
       "Array([2., 2., 2., 2., 2.], dtype=float64)"
      ]
     },
     "execution_count": 54,
     "metadata": {},
     "output_type": "execute_result"
    }
   ],
   "source": [
    "f(x)"
   ]
  },
  {
   "cell_type": "markdown",
   "id": "15d94f80",
   "metadata": {},
   "source": [
    "But now it changes:  Why?"
   ]
  },
  {
   "cell_type": "code",
   "execution_count": 55,
   "id": "8f3916df",
   "metadata": {
    "execution": {
     "iopub.execute_input": "2025-10-07T05:04:59.380403Z",
     "iopub.status.busy": "2025-10-07T05:04:59.380294Z",
     "iopub.status.idle": "2025-10-07T05:04:59.383003Z",
     "shell.execute_reply": "2025-10-07T05:04:59.382633Z"
    }
   },
   "outputs": [],
   "source": [
    "x = jnp.ones(3)"
   ]
  },
  {
   "cell_type": "code",
   "execution_count": 56,
   "id": "6039938c",
   "metadata": {
    "execution": {
     "iopub.execute_input": "2025-10-07T05:04:59.384165Z",
     "iopub.status.busy": "2025-10-07T05:04:59.384054Z",
     "iopub.status.idle": "2025-10-07T05:04:59.410111Z",
     "shell.execute_reply": "2025-10-07T05:04:59.409617Z"
    }
   },
   "outputs": [
    {
     "data": {
      "text/plain": [
       "Array([43., 43., 43.], dtype=float64)"
      ]
     },
     "execution_count": 56,
     "metadata": {},
     "output_type": "execute_result"
    }
   ],
   "source": [
    "f(x)"
   ]
  },
  {
   "cell_type": "markdown",
   "id": "46499106",
   "metadata": {},
   "source": [
    "Moral of the story: write pure functions when using JAX!"
   ]
  },
  {
   "cell_type": "markdown",
   "id": "088d603c",
   "metadata": {},
   "source": [
    "## Gradients\n",
    "\n",
    "JAX can use automatic differentiation to compute gradients.\n",
    "\n",
    "This can be extremely useful for optimization and solving nonlinear systems.\n",
    "\n",
    "We will see significant applications later in this lecture series.\n",
    "\n",
    "For now, here’s a very simple illustration involving the function"
   ]
  },
  {
   "cell_type": "code",
   "execution_count": 57,
   "id": "05096dee",
   "metadata": {
    "execution": {
     "iopub.execute_input": "2025-10-07T05:04:59.411481Z",
     "iopub.status.busy": "2025-10-07T05:04:59.411361Z",
     "iopub.status.idle": "2025-10-07T05:04:59.414546Z",
     "shell.execute_reply": "2025-10-07T05:04:59.414236Z"
    }
   },
   "outputs": [],
   "source": [
    "def f(x):\n",
    "    return (x**2) / 2"
   ]
  },
  {
   "cell_type": "markdown",
   "id": "72683713",
   "metadata": {},
   "source": [
    "Let’s take the derivative:"
   ]
  },
  {
   "cell_type": "code",
   "execution_count": 58,
   "id": "fb644996",
   "metadata": {
    "execution": {
     "iopub.execute_input": "2025-10-07T05:04:59.416096Z",
     "iopub.status.busy": "2025-10-07T05:04:59.415983Z",
     "iopub.status.idle": "2025-10-07T05:04:59.417904Z",
     "shell.execute_reply": "2025-10-07T05:04:59.417617Z"
    }
   },
   "outputs": [],
   "source": [
    "f_prime = jax.grad(f)"
   ]
  },
  {
   "cell_type": "code",
   "execution_count": 59,
   "id": "22a3d031",
   "metadata": {
    "execution": {
     "iopub.execute_input": "2025-10-07T05:04:59.419228Z",
     "iopub.status.busy": "2025-10-07T05:04:59.418937Z",
     "iopub.status.idle": "2025-10-07T05:04:59.562011Z",
     "shell.execute_reply": "2025-10-07T05:04:59.561559Z"
    }
   },
   "outputs": [
    {
     "data": {
      "text/plain": [
       "Array(10., dtype=float64, weak_type=True)"
      ]
     },
     "execution_count": 59,
     "metadata": {},
     "output_type": "execute_result"
    }
   ],
   "source": [
    "f_prime(10.0)"
   ]
  },
  {
   "cell_type": "markdown",
   "id": "6781bb17",
   "metadata": {},
   "source": [
    "Let’s plot the function and derivative, noting that $ f'(x) = x $."
   ]
  },
  {
   "cell_type": "code",
   "execution_count": 60,
   "id": "d5699716",
   "metadata": {
    "execution": {
     "iopub.execute_input": "2025-10-07T05:04:59.563289Z",
     "iopub.status.busy": "2025-10-07T05:04:59.563172Z",
     "iopub.status.idle": "2025-10-07T05:05:00.995271Z",
     "shell.execute_reply": "2025-10-07T05:05:00.994674Z"
    }
   },
   "outputs": [
    {
     "data": {
      "image/png": "[encoded data removed]",
      "text/plain": [
       "<Figure size 640x480 with 1 Axes>"
      ]
     },
     "metadata": {},
     "output_type": "display_data"
    }
   ],
   "source": [
    "import matplotlib.pyplot as plt\n",
    "\n",
    "fig, ax = plt.subplots()\n",
    "x_grid = jnp.linspace(-4, 4, 200)\n",
    "ax.plot(x_grid, f(x_grid), label=\"$f$\")\n",
    "ax.plot(x_grid, [f_prime(x) for x in x_grid], label=\"$f'$\")\n",
    "ax.legend(loc='upper center')\n",
    "plt.show()"
   ]
  },
  {
   "cell_type": "markdown",
   "id": "6cab9ae9",
   "metadata": {},
   "source": [
    "We defer further exploration of automatic differentiation with JAX until [Adventures with Autodiff](https://jax.quantecon.org/autodiff.html)."
   ]
  },
  {
   "cell_type": "markdown",
   "id": "f617928b",
   "metadata": {},
   "source": [
    "## Writing vectorized code\n",
    "\n",
    "Writing fast JAX code requires shifting repetitive tasks from loops to array processing operations, so that the JAX compiler can easily understand the whole operation and generate more efficient machine code.\n",
    "\n",
    "This procedure is called **vectorization** or **array programming**, and will be familiar to anyone who has used NumPy or MATLAB.\n",
    "\n",
    "In most ways, vectorization is the same in JAX as it is in NumPy.\n",
    "\n",
    "But there are also some differences, which we highlight here.\n",
    "\n",
    "As a running example, consider the function\n",
    "\n",
    "$$\n",
    "f(x,y) = \\frac{\\cos(x^2 + y^2)}{1 + x^2 + y^2}\n",
    "$$\n",
    "\n",
    "Suppose that we want to evaluate this function on a square grid of $ x $ and $ y $ points and then plot it.\n",
    "\n",
    "To clarify, here is the slow `for` loop version."
   ]
  },
  {
   "cell_type": "code",
   "execution_count": 61,
   "id": "5565047c",
   "metadata": {
    "execution": {
     "iopub.execute_input": "2025-10-07T05:05:00.996767Z",
     "iopub.status.busy": "2025-10-07T05:05:00.996577Z",
     "iopub.status.idle": "2025-10-07T05:05:01.035412Z",
     "shell.execute_reply": "2025-10-07T05:05:01.034890Z"
    }
   },
   "outputs": [],
   "source": [
    "@jax.jit\n",
    "def f(x, y):\n",
    "    return jnp.cos(x**2 + y**2) / (1 + x**2 + y**2)\n",
    "\n",
    "n = 80\n",
    "x = jnp.linspace(-2, 2, n)\n",
    "y = x\n",
    "\n",
    "z_loops = np.empty((n, n))"
   ]
  },
  {
   "cell_type": "code",
   "execution_count": 62,
   "id": "15083ff4",
   "metadata": {
    "execution": {
     "iopub.execute_input": "2025-10-07T05:05:01.037084Z",
     "iopub.status.busy": "2025-10-07T05:05:01.036931Z",
     "iopub.status.idle": "2025-10-07T05:05:05.078570Z",
     "shell.execute_reply": "2025-10-07T05:05:05.078283Z"
    }
   },
   "outputs": [
    {
     "name": "stdout",
     "output_type": "stream",
     "text": [
      "CPU times: user 4.12 s, sys: 790 ms, total: 4.91 s\n",
      "Wall time: 4.04 s\n"
     ]
    }
   ],
   "source": [
    "%%time\n",
    "for i in range(n):\n",
    "    for j in range(n):\n",
    "        z_loops[i, j] = f(x[i], y[j])"
   ]
  },
  {
   "cell_type": "markdown",
   "id": "90de1b52",
   "metadata": {},
   "source": [
    "Even for this very small grid, the run time is extremely slow.\n",
    "\n",
    "(Notice that we used a NumPy array for `z_loops` because we wanted to write to it.)\n",
    "\n",
    "OK, so how can we do the same operation in vectorized form?\n",
    "\n",
    "If you are new to vectorization, you might guess that we can simply write"
   ]
  },
  {
   "cell_type": "code",
   "execution_count": 63,
   "id": "70d2e12f",
   "metadata": {
    "execution": {
     "iopub.execute_input": "2025-10-07T05:05:05.079725Z",
     "iopub.status.busy": "2025-10-07T05:05:05.079601Z",
     "iopub.status.idle": "2025-10-07T05:05:05.135705Z",
     "shell.execute_reply": "2025-10-07T05:05:05.135332Z"
    }
   },
   "outputs": [],
   "source": [
    "z_bad = f(x, y)"
   ]
  },
  {
   "cell_type": "markdown",
   "id": "f372e06d",
   "metadata": {},
   "source": [
    "But this gives us the wrong result because JAX doesn’t understand the nested for loop."
   ]
  },
  {
   "cell_type": "code",
   "execution_count": 64,
   "id": "949c0097",
   "metadata": {
    "execution": {
     "iopub.execute_input": "2025-10-07T05:05:05.137083Z",
     "iopub.status.busy": "2025-10-07T05:05:05.136958Z",
     "iopub.status.idle": "2025-10-07T05:05:05.139501Z",
     "shell.execute_reply": "2025-10-07T05:05:05.139256Z"
    }
   },
   "outputs": [
    {
     "data": {
      "text/plain": [
       "(80,)"
      ]
     },
     "execution_count": 64,
     "metadata": {},
     "output_type": "execute_result"
    }
   ],
   "source": [
    "z_bad.shape"
   ]
  },
  {
   "cell_type": "markdown",
   "id": "5cfa27ae",
   "metadata": {},
   "source": [
    "Here is what we actually wanted:"
   ]
  },
  {
   "cell_type": "code",
   "execution_count": 65,
   "id": "7a41f109",
   "metadata": {
    "execution": {
     "iopub.execute_input": "2025-10-07T05:05:05.140614Z",
     "iopub.status.busy": "2025-10-07T05:05:05.140499Z",
     "iopub.status.idle": "2025-10-07T05:05:05.142879Z",
     "shell.execute_reply": "2025-10-07T05:05:05.142635Z"
    }
   },
   "outputs": [
    {
     "data": {
      "text/plain": [
       "(80, 80)"
      ]
     },
     "execution_count": 65,
     "metadata": {},
     "output_type": "execute_result"
    }
   ],
   "source": [
    "z_loops.shape"
   ]
  },
  {
   "cell_type": "markdown",
   "id": "7f43bd97",
   "metadata": {},
   "source": [
    "To get the right shape and the correct nested for loop calculation, we can use a `meshgrid` operation designed for this purpose:"
   ]
  },
  {
   "cell_type": "code",
   "execution_count": 66,
   "id": "eec82e11",
   "metadata": {
    "execution": {
     "iopub.execute_input": "2025-10-07T05:05:05.144138Z",
     "iopub.status.busy": "2025-10-07T05:05:05.143883Z",
     "iopub.status.idle": "2025-10-07T05:05:05.192753Z",
     "shell.execute_reply": "2025-10-07T05:05:05.192375Z"
    }
   },
   "outputs": [],
   "source": [
    "x_mesh, y_mesh = jnp.meshgrid(x, y)"
   ]
  },
  {
   "cell_type": "markdown",
   "id": "af9cb13c",
   "metadata": {},
   "source": [
    "Now we get what we want and the execution time is very fast."
   ]
  },
  {
   "cell_type": "code",
   "execution_count": 67,
   "id": "af9ba2d9",
   "metadata": {
    "execution": {
     "iopub.execute_input": "2025-10-07T05:05:05.194094Z",
     "iopub.status.busy": "2025-10-07T05:05:05.193974Z",
     "iopub.status.idle": "2025-10-07T05:05:05.250614Z",
     "shell.execute_reply": "2025-10-07T05:05:05.250281Z"
    }
   },
   "outputs": [
    {
     "name": "stdout",
     "output_type": "stream",
     "text": [
      "CPU times: user 33.5 ms, sys: 995 μs, total: 34.5 ms\n",
      "Wall time: 54.4 ms\n"
     ]
    }
   ],
   "source": [
    "%%time\n",
    "z_mesh = f(x_mesh, y_mesh).block_until_ready()"
   ]
  },
  {
   "cell_type": "markdown",
   "id": "3a004ef2",
   "metadata": {},
   "source": [
    "Let’s run again to eliminate compile time."
   ]
  },
  {
   "cell_type": "code",
   "execution_count": 68,
   "id": "690d5141",
   "metadata": {
    "execution": {
     "iopub.execute_input": "2025-10-07T05:05:05.252093Z",
     "iopub.status.busy": "2025-10-07T05:05:05.251700Z",
     "iopub.status.idle": "2025-10-07T05:05:05.254290Z",
     "shell.execute_reply": "2025-10-07T05:05:05.253977Z"
    }
   },
   "outputs": [
    {
     "name": "stdout",
     "output_type": "stream",
     "text": [
      "CPU times: user 492 μs, sys: 0 ns, total: 492 μs\n",
      "Wall time: 260 μs\n"
     ]
    }
   ],
   "source": [
    "%%time\n",
    "z_mesh = f(x_mesh, y_mesh).block_until_ready()"
   ]
  },
  {
   "cell_type": "markdown",
   "id": "9e6f7ca6",
   "metadata": {},
   "source": [
    "Let’s confirm that we got the right answer."
   ]
  },
  {
   "cell_type": "code",
   "execution_count": 69,
   "id": "c8caad16",
   "metadata": {
    "execution": {
     "iopub.execute_input": "2025-10-07T05:05:05.255451Z",
     "iopub.status.busy": "2025-10-07T05:05:05.255340Z",
     "iopub.status.idle": "2025-10-07T05:05:05.312898Z",
     "shell.execute_reply": "2025-10-07T05:05:05.312498Z"
    }
   },
   "outputs": [
    {
     "data": {
      "text/plain": [
       "Array(True, dtype=bool)"
      ]
     },
     "execution_count": 69,
     "metadata": {},
     "output_type": "execute_result"
    }
   ],
   "source": [
    "jnp.allclose(z_mesh, z_loops)"
   ]
  },
  {
   "cell_type": "markdown",
   "id": "24eae3ab",
   "metadata": {},
   "source": [
    "Now we can set up a serious grid and run the same calculation (on the larger grid) in a short amount of time."
   ]
  },
  {
   "cell_type": "code",
   "execution_count": 70,
   "id": "5e59f678",
   "metadata": {
    "execution": {
     "iopub.execute_input": "2025-10-07T05:05:05.314132Z",
     "iopub.status.busy": "2025-10-07T05:05:05.314014Z",
     "iopub.status.idle": "2025-10-07T05:05:05.400433Z",
     "shell.execute_reply": "2025-10-07T05:05:05.399959Z"
    }
   },
   "outputs": [],
   "source": [
    "n = 6000\n",
    "x = jnp.linspace(-2, 2, n)\n",
    "y = x\n",
    "x_mesh, y_mesh = jnp.meshgrid(x, y)"
   ]
  },
  {
   "cell_type": "code",
   "execution_count": 71,
   "id": "77c7c85b",
   "metadata": {
    "execution": {
     "iopub.execute_input": "2025-10-07T05:05:05.401721Z",
     "iopub.status.busy": "2025-10-07T05:05:05.401598Z",
     "iopub.status.idle": "2025-10-07T05:05:05.480730Z",
     "shell.execute_reply": "2025-10-07T05:05:05.480393Z"
    }
   },
   "outputs": [
    {
     "name": "stdout",
     "output_type": "stream",
     "text": [
      "CPU times: user 41.6 ms, sys: 0 ns, total: 41.6 ms\n",
      "Wall time: 76.9 ms\n"
     ]
    }
   ],
   "source": [
    "%%time\n",
    "z_mesh = f(x_mesh, y_mesh).block_until_ready()"
   ]
  },
  {
   "cell_type": "markdown",
   "id": "46dc996c",
   "metadata": {},
   "source": [
    "Let’s run again to get rid of compile time."
   ]
  },
  {
   "cell_type": "code",
   "execution_count": 72,
   "id": "1e9bed03",
   "metadata": {
    "execution": {
     "iopub.execute_input": "2025-10-07T05:05:05.482092Z",
     "iopub.status.busy": "2025-10-07T05:05:05.481973Z",
     "iopub.status.idle": "2025-10-07T05:05:05.490539Z",
     "shell.execute_reply": "2025-10-07T05:05:05.490190Z"
    }
   },
   "outputs": [
    {
     "name": "stdout",
     "output_type": "stream",
     "text": [
      "CPU times: user 547 μs, sys: 0 ns, total: 547 μs\n",
      "Wall time: 6.18 ms\n"
     ]
    }
   ],
   "source": [
    "%%time\n",
    "z_mesh = f(x_mesh, y_mesh).block_until_ready()"
   ]
  },
  {
   "cell_type": "markdown",
   "id": "93cf6278",
   "metadata": {},
   "source": [
    "But there is one problem here: the mesh grids use a lot of memory."
   ]
  },
  {
   "cell_type": "code",
   "execution_count": 73,
   "id": "a6c85cd1",
   "metadata": {
    "execution": {
     "iopub.execute_input": "2025-10-07T05:05:05.492006Z",
     "iopub.status.busy": "2025-10-07T05:05:05.491673Z",
     "iopub.status.idle": "2025-10-07T05:05:05.494554Z",
     "shell.execute_reply": "2025-10-07T05:05:05.494252Z"
    }
   },
   "outputs": [
    {
     "data": {
      "text/plain": [
       "576000000"
      ]
     },
     "execution_count": 73,
     "metadata": {},
     "output_type": "execute_result"
    }
   ],
   "source": [
    "x_mesh.nbytes + y_mesh.nbytes"
   ]
  },
  {
   "cell_type": "markdown",
   "id": "a828288a",
   "metadata": {},
   "source": [
    "By comparison, the flat array `x` is just"
   ]
  },
  {
   "cell_type": "code",
   "execution_count": 74,
   "id": "c9f5f296",
   "metadata": {
    "execution": {
     "iopub.execute_input": "2025-10-07T05:05:05.495741Z",
     "iopub.status.busy": "2025-10-07T05:05:05.495631Z",
     "iopub.status.idle": "2025-10-07T05:05:05.498078Z",
     "shell.execute_reply": "2025-10-07T05:05:05.497776Z"
    }
   },
   "outputs": [
    {
     "data": {
      "text/plain": [
       "48000"
      ]
     },
     "execution_count": 74,
     "metadata": {},
     "output_type": "execute_result"
    }
   ],
   "source": [
    "x.nbytes  # and y is just a pointer to x"
   ]
  },
  {
   "cell_type": "markdown",
   "id": "60a58c64",
   "metadata": {},
   "source": [
    "This extra memory usage can be a big problem in actual research calculations.\n",
    "\n",
    "So let’s try a different approach using [jax.vmap](https://jax.readthedocs.io/en/latest/_autosummary/jax.vmap.html)\n",
    "\n",
    "First we vectorize `f` in `y`."
   ]
  },
  {
   "cell_type": "code",
   "execution_count": 75,
   "id": "c4acbf64",
   "metadata": {
    "execution": {
     "iopub.execute_input": "2025-10-07T05:05:05.499155Z",
     "iopub.status.busy": "2025-10-07T05:05:05.499036Z",
     "iopub.status.idle": "2025-10-07T05:05:05.501250Z",
     "shell.execute_reply": "2025-10-07T05:05:05.500847Z"
    }
   },
   "outputs": [],
   "source": [
    "f_vec_y = jax.vmap(f, in_axes=(None, 0))  "
   ]
  },
  {
   "cell_type": "markdown",
   "id": "883269f3",
   "metadata": {},
   "source": [
    "In the line above, `(None, 0)` indicates that we are vectorizing in the second argument, which is `y`.\n",
    "\n",
    "Next, we vectorize in the first argument, which is `x`."
   ]
  },
  {
   "cell_type": "code",
   "execution_count": 76,
   "id": "2de06513",
   "metadata": {
    "execution": {
     "iopub.execute_input": "2025-10-07T05:05:05.502388Z",
     "iopub.status.busy": "2025-10-07T05:05:05.502268Z",
     "iopub.status.idle": "2025-10-07T05:05:05.504399Z",
     "shell.execute_reply": "2025-10-07T05:05:05.504135Z"
    }
   },
   "outputs": [],
   "source": [
    "f_vec = jax.vmap(f_vec_y, in_axes=(0, None))"
   ]
  },
  {
   "cell_type": "markdown",
   "id": "d8e6cf5c",
   "metadata": {},
   "source": [
    "With this construction, we can now call the function $ f $ on flat (low memory) arrays."
   ]
  },
  {
   "cell_type": "code",
   "execution_count": 77,
   "id": "abdb3f73",
   "metadata": {
    "execution": {
     "iopub.execute_input": "2025-10-07T05:05:05.505529Z",
     "iopub.status.busy": "2025-10-07T05:05:05.505411Z",
     "iopub.status.idle": "2025-10-07T05:05:05.593235Z",
     "shell.execute_reply": "2025-10-07T05:05:05.592810Z"
    }
   },
   "outputs": [
    {
     "name": "stdout",
     "output_type": "stream",
     "text": [
      "CPU times: user 46.7 ms, sys: 2.85 ms, total: 49.5 ms\n",
      "Wall time: 85.4 ms\n"
     ]
    }
   ],
   "source": [
    "%%time\n",
    "z_vmap = f_vec(x, y).block_until_ready()"
   ]
  },
  {
   "cell_type": "markdown",
   "id": "c6133ecd",
   "metadata": {},
   "source": [
    "We run it again to eliminate compile time."
   ]
  },
  {
   "cell_type": "code",
   "execution_count": 78,
   "id": "46b05cf6",
   "metadata": {
    "execution": {
     "iopub.execute_input": "2025-10-07T05:05:05.594513Z",
     "iopub.status.busy": "2025-10-07T05:05:05.594392Z",
     "iopub.status.idle": "2025-10-07T05:05:05.602837Z",
     "shell.execute_reply": "2025-10-07T05:05:05.602472Z"
    }
   },
   "outputs": [
    {
     "name": "stdout",
     "output_type": "stream",
     "text": [
      "CPU times: user 1.26 ms, sys: 42 μs, total: 1.3 ms\n",
      "Wall time: 6.09 ms\n"
     ]
    }
   ],
   "source": [
    "%%time\n",
    "z_vmap = f_vec(x, y).block_until_ready()"
   ]
  },
  {
   "cell_type": "markdown",
   "id": "8800bd53",
   "metadata": {},
   "source": [
    "The execution time is essentially the same as the mesh operation but we are using much less memory.\n",
    "\n",
    "And we produce the correct answer:"
   ]
  },
  {
   "cell_type": "code",
   "execution_count": 79,
   "id": "3f699fe2",
   "metadata": {
    "execution": {
     "iopub.execute_input": "2025-10-07T05:05:05.604026Z",
     "iopub.status.busy": "2025-10-07T05:05:05.603911Z",
     "iopub.status.idle": "2025-10-07T05:05:05.689266Z",
     "shell.execute_reply": "2025-10-07T05:05:05.688835Z"
    }
   },
   "outputs": [
    {
     "data": {
      "text/plain": [
       "Array(True, dtype=bool)"
      ]
     },
     "execution_count": 79,
     "metadata": {},
     "output_type": "execute_result"
    }
   ],
   "source": [
    "jnp.allclose(z_vmap, z_mesh)"
   ]
  },
  {
   "cell_type": "markdown",
   "id": "c81dbba5",
   "metadata": {},
   "source": [
    "## Exercises"
   ]
  },
  {
   "cell_type": "markdown",
   "id": "611cc96b",
   "metadata": {},
   "source": [
    "In the Exercise section of [a lecture on Numba and parallelization](https://python-programming.quantecon.org/parallelization.html), we use Monte Carlo to price a European call option.\n",
    "\n",
    "The code was accelerated by Numba-based multithreading.\n",
    "\n",
    "Try writing a version of this operation for JAX, using all the same\n",
    "parameters.\n",
    "\n",
    "If you are running your code on a GPU, you should be able to achieve\n",
    "significantly faster execution."
   ]
  },
  {
   "cell_type": "code",
   "execution_count": 80,
   "id": "ce923e3a",
   "metadata": {
    "execution": {
     "iopub.execute_input": "2025-10-07T05:05:05.690536Z",
     "iopub.status.busy": "2025-10-07T05:05:05.690419Z",
     "iopub.status.idle": "2025-10-07T05:05:05.692429Z",
     "shell.execute_reply": "2025-10-07T05:05:05.692121Z"
    }
   },
   "outputs": [],
   "source": [
    "# Put your solution here"
   ]
  },
  {
   "cell_type": "code",
   "execution_count": 81,
   "id": "95022710",
   "metadata": {
    "execution": {
     "iopub.execute_input": "2025-10-07T05:05:05.693589Z",
     "iopub.status.busy": "2025-10-07T05:05:05.693477Z",
     "iopub.status.idle": "2025-10-07T05:05:05.695620Z",
     "shell.execute_reply": "2025-10-07T05:05:05.695280Z"
    }
   },
   "outputs": [
    {
     "name": "stdout",
     "output_type": "stream",
     "text": [
      "Solution below!\n",
      "Solution below!\n",
      "Solution below!\n",
      "Solution below!\n",
      "Solution below!\n",
      "Solution below!\n",
      "Solution below!\n",
      "Solution below!\n",
      "Solution below!\n",
      "Solution below!\n",
      "Solution below!\n",
      "Solution below!\n",
      "Solution below!\n",
      "Solution below!\n",
      "Solution below!\n",
      "Solution below!\n",
      "Solution below!\n",
      "Solution below!\n",
      "Solution below!\n",
      "Solution below!\n"
     ]
    }
   ],
   "source": [
    "for _ in range(20):\n",
    "    print(\"Solution below!\")"
   ]
  },
  {
   "cell_type": "code",
   "execution_count": 82,
   "id": "7650375c",
   "metadata": {
    "execution": {
     "iopub.execute_input": "2025-10-07T05:05:05.696742Z",
     "iopub.status.busy": "2025-10-07T05:05:05.696630Z",
     "iopub.status.idle": "2025-10-07T05:05:05.700443Z",
     "shell.execute_reply": "2025-10-07T05:05:05.700193Z"
    }
   },
   "outputs": [],
   "source": [
    "M = 10_000_000\n",
    "\n",
    "n, β, K = 20, 0.99, 100\n",
    "μ, ρ, ν, S0, h0 = 0.0001, 0.1, 0.001, 10, 0\n",
    "\n",
    "@jax.jit\n",
    "def compute_call_price_jax(β=β,\n",
    "                           μ=μ,\n",
    "                           S0=S0,\n",
    "                           h0=h0,\n",
    "                           K=K,\n",
    "                           n=n,\n",
    "                           ρ=ρ,\n",
    "                           ν=ν,\n",
    "                           M=M,\n",
    "                           key=jax.random.PRNGKey(1)):\n",
    "\n",
    "    s = jnp.full(M, np.log(S0))\n",
    "    h = jnp.full(M, h0)\n",
    "    for t in range(n):\n",
    "        key, subkey = jax.random.split(key)\n",
    "        Z = jax.random.normal(subkey, (2, M))\n",
    "        s = s + μ + jnp.exp(h) * Z[0, :]\n",
    "        h = ρ * h + ν * Z[1, :]\n",
    "    expectation = jnp.mean(jnp.maximum(jnp.exp(s) - K, 0))\n",
    "        \n",
    "    return β**n * expectation"
   ]
  },
  {
   "cell_type": "markdown",
   "id": "5fc793a6",
   "metadata": {},
   "source": [
    "Let’s run it once to compile it:"
   ]
  },
  {
   "cell_type": "code",
   "execution_count": 83,
   "id": "a6c5084e",
   "metadata": {
    "execution": {
     "iopub.execute_input": "2025-10-07T05:05:05.701581Z",
     "iopub.status.busy": "2025-10-07T05:05:05.701469Z",
     "iopub.status.idle": "2025-10-07T05:05:15.283972Z",
     "shell.execute_reply": "2025-10-07T05:05:15.282434Z"
    }
   },
   "outputs": [
    {
     "name": "stdout",
     "output_type": "stream",
     "text": [
      "CPU times: user 9.44 s, sys: 390 ms, total: 9.83 s\n",
      "Wall time: 9.57 s\n"
     ]
    },
    {
     "data": {
      "text/plain": [
       "Array(699495.97040563, dtype=float64)"
      ]
     },
     "execution_count": 83,
     "metadata": {},
     "output_type": "execute_result"
    }
   ],
   "source": [
    "%%time \n",
    "compute_call_price_jax().block_until_ready()"
   ]
  },
  {
   "cell_type": "markdown",
   "id": "a384f499",
   "metadata": {},
   "source": [
    "And now let’s time it:"
   ]
  },
  {
   "cell_type": "code",
   "execution_count": 84,
   "id": "43a1d167",
   "metadata": {
    "execution": {
     "iopub.execute_input": "2025-10-07T05:05:15.288231Z",
     "iopub.status.busy": "2025-10-07T05:05:15.287742Z",
     "iopub.status.idle": "2025-10-07T05:05:15.523697Z",
     "shell.execute_reply": "2025-10-07T05:05:15.522356Z"
    }
   },
   "outputs": [
    {
     "name": "stdout",
     "output_type": "stream",
     "text": [
      "CPU times: user 2.92 ms, sys: 95 μs, total: 3.01 ms\n",
      "Wall time: 225 ms\n"
     ]
    },
    {
     "data": {
      "text/plain": [
       "Array(699495.97040563, dtype=float64)"
      ]
     },
     "execution_count": 84,
     "metadata": {},
     "output_type": "execute_result"
    }
   ],
   "source": [
    "%%time \n",
    "compute_call_price_jax().block_until_ready()"
   ]
  }
 ],
 "metadata": {
  "jupytext": {
   "default_lexer": "ipython3"
  },
  "kernelspec": {
   "display_name": "Python 3 (ipykernel)",
   "language": "python",
   "name": "python3"
  },
  "language_info": {
   "codemirror_mode": {
    "name": "ipython",
    "version": 3
   },
   "file_extension": ".py",
   "mimetype": "text/x-python",
   "name": "python",
   "nbconvert_exporter": "python",
   "pygments_lexer": "ipython3",
   "version": "3.13.5"
  }
 },
 "nbformat": 4,
 "nbformat_minor": 5
}
