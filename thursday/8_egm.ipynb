{
 "cells": [
  {
   "cell_type": "markdown",
   "id": "9d323aa6",
   "metadata": {},
   "source": [
    "# The Endogenous Grid Method\n",
    "\n",
    "\n",
    "**Prepared for the Bank of Portugal Computational Economics Course (Oct 2025)**\n",
    "\n",
    "**Author:** [John Stachurski](https://johnstachurski.net)"
   ]
  },
  {
   "cell_type": "markdown",
   "id": "3eb56986",
   "metadata": {},
   "source": [
    "## Overview\n",
    "\n",
    "In this lecture we use the endogenous grid method (EGM) to solve a basic income\n",
    "fluctuation (household optimal savings) problem.\n",
    "\n",
    "To keep things simple, the interest rate will be constant and labor income will\n",
    "be IID.\n"
   ]
  },
  {
   "cell_type": "code",
   "execution_count": null,
   "id": "9e2aa0b3",
   "metadata": {},
   "outputs": [],
   "source": [
    "# !pip install quantecon  # Uncomment if necessary"
   ]
  },
  {
   "cell_type": "markdown",
   "id": "f98969cd",
   "metadata": {},
   "source": [
    "We will use the following imports."
   ]
  },
  {
   "cell_type": "code",
   "execution_count": null,
   "id": "fdf7cdb0",
   "metadata": {},
   "outputs": [],
   "source": [
    "import quantecon as qe\n",
    "import matplotlib.pyplot as plt\n",
    "import numpy as np\n",
    "import jax\n",
    "import jax.numpy as jnp\n",
    "import numba\n",
    "from time import time\n",
    "from typing import NamedTuple"
   ]
  },
  {
   "cell_type": "markdown",
   "id": "26a9054a",
   "metadata": {},
   "source": [
    "Let’s check the GPU we are running"
   ]
  },
  {
   "cell_type": "code",
   "execution_count": null,
   "id": "989a8deb",
   "metadata": {},
   "outputs": [],
   "source": [
    "!nvidia-smi"
   ]
  },
  {
   "cell_type": "markdown",
   "id": "dc48071a",
   "metadata": {},
   "source": [
    "Let's use 64 bit floating point numbers for extra precision."
   ]
  },
  {
   "cell_type": "code",
   "execution_count": null,
   "id": "42f1283b",
   "metadata": {
    "lines_to_next_cell": 0
   },
   "outputs": [],
   "source": [
    "jax.config.update(\"jax_enable_x64\", True)"
   ]
  },
  {
   "cell_type": "markdown",
   "id": "7858542d",
   "metadata": {},
   "source": [
    "## Setup\n",
    "\n",
    "We consider a household that chooses a consumption plan $ \\{c_t\\}_{t \\geq 0} $ to maximize\n",
    "\n",
    "$$\n",
    "    \\mathbb{E} \\, \\sum_{t=0}^{\\infty} \\beta^t u(c_t)\n",
    "$$\n",
    "\n",
    "subject to\n",
    "\n",
    "$$\n",
    "    a_{t+1} \\leq  R(a_t - c_t)  + Y_{t+1},\n",
    "    \\quad c_t \\geq 0,\n",
    "    \\quad a_t \\geq 0\n",
    "    \\quad t = 0, 1, \\ldots\n",
    "$$\n",
    "\n",
    "Here $ R = 1 + r $ where $ r $ is the interest rate.\n",
    "\n",
    "To make our life simple, the income process $ \\{Y_t\\} $ will be IID and\n",
    "lognormal:\n",
    "\n",
    "$$\n",
    "    Y_t = \\exp(\\mu + \\sigma Z_t) \n",
    "    \\quad \\text{with} \\quad \n",
    "    Z_t ~ N(0,1)\n",
    "$$\n",
    "\n",
    "Utility has the CRRA specification\n",
    "\n",
    "$$\n",
    "u(c) = \\frac{c^{1 - \\gamma}} {1 - \\gamma}\n",
    "$$"
   ]
  },
  {
   "cell_type": "markdown",
   "id": "7bf82079",
   "metadata": {},
   "source": [
    "Here's a Model class to store parameters and arrays."
   ]
  },
  {
   "cell_type": "code",
   "execution_count": null,
   "id": "ce688d0c",
   "metadata": {},
   "outputs": [],
   "source": [
    "class Model(NamedTuple):\n",
    "    β: float            # discount factor\n",
    "    R: float            # gross interest rate\n",
    "    γ: float            # CRRA preference parameter\n",
    "    μ: float            # income location parameter\n",
    "    ν: float            # income volatility parameter\n",
    "    s_array: jax.Array  # savings grid\n",
    "    y_draws: jax.Array  # income draws for Monte Carlo"
   ]
  },
  {
   "cell_type": "markdown",
   "id": "2893cc25",
   "metadata": {},
   "source": [
    "This function creates an instance with default parameter values.\n"
   ]
  },
  {
   "cell_type": "code",
   "execution_count": null,
   "id": "079c0f44",
   "metadata": {
    "lines_to_next_cell": 0
   },
   "outputs": [],
   "source": [
    "def create_model(R=1.01,             # gross interest rate\n",
    "                 β=0.98,             # discount factor\n",
    "                 γ=1.5,              # CRRA preference parameter\n",
    "                 μ=-1.0,             # income location parameter\n",
    "                 ν=0.2,              # income volatility parameter\n",
    "                 s_max=16,           # savings grid max\n",
    "                 s_size=500,         # savings grid size\n",
    "                 y_size=2_000,       # number of income draws\n",
    "                 seed=42):           # random seed\n",
    "    \"\"\"\n",
    "    Builder function for Model class.\n",
    "\n",
    "    \"\"\"\n",
    "    # require R β < 1 for convergence\n",
    "    assert R * β < 1, \"Stability condition failed.\"\n",
    "\n",
    "    # Create savings grid\n",
    "    s_array = jnp.linspace(0, s_max, s_size)\n",
    "\n",
    "    # Generate income draws for Monte Carlo integration\n",
    "    key = jax.random.PRNGKey(seed)\n",
    "    z_draws = jax.random.normal(key, (y_size,))\n",
    "    y_draws = jnp.exp(μ + ν * z_draws)\n",
    "\n",
    "    # Return Model instance\n",
    "    return Model(\n",
    "        β=β, R=R, γ=γ, μ=μ, ν=ν, s_array=s_array, y_draws=y_draws\n",
    "    )"
   ]
  },
  {
   "cell_type": "markdown",
   "id": "c0993564",
   "metadata": {},
   "source": [
    "## Solution method\n",
    "\n",
    "The state $a_t$ takes values in $\\mathbb R_+$.\n",
    "\n",
    "We aim to compute an optimal consumption policy $\\sigma^* \\colon S \\to S$, under which dynamics are given by\n",
    "\n",
    "$$\n",
    "    c_t = \\sigma^*(a_t)\n",
    "    \\quad \\text{and} \\quad\n",
    "    a_{t+1} = R (a_t - c_t) + Y_{t+1}\n",
    "$$"
   ]
  },
  {
   "cell_type": "markdown",
   "id": "99656463",
   "metadata": {},
   "source": [
    "### Euler equation\n",
    "\n",
    "The Euler equation for the optimization problem is\n",
    "\n",
    "$$\n",
    "u' (c_t)\n",
    "    = \\max \n",
    "    \\left\\{\n",
    "        \\beta R \\,  \\mathbb{E}_t  u'(c_{t+1})  \\,,\\;  u'(a_t)\n",
    "    \\right\\}\n",
    "$$\n",
    "\n",
    "(An explanation for this expression can be \n",
    "found [here](https://python.quantecon.org/ifp.html#value-function-and-euler-equation).)"
   ]
  },
  {
   "cell_type": "markdown",
   "id": "ae84fca0",
   "metadata": {},
   "source": [
    "Let a consumption policy $\\sigma$ be given.\n",
    "\n",
    "Our task is to update it to the next guess.\n",
    "\n",
    "We fix an *exogenous* grid of current saving values $0 = s_0 < \\ldots < s_{N-1}$\n",
    "\n",
    "(Savings is related to assets and consumption by $s = a - c$.)\n",
    "\n",
    "Using the exogenous savings grid, we will create an \n",
    "\n",
    "1. a consumption grid $ c_0, \\ldots, c_{N-1} $ and\n",
    "2. *endogenous* asset grid $ a_0, \\ldots, a_{N-1}$\n",
    "\n",
    "such that these pairs satisfying the Euler equation.\n",
    "\n",
    "When then interpolate these pairs to obtain the new policy guess $\\sigma'$.\n",
    "\n",
    "Here are the steps:\n",
    "\n",
    "First we set $a_0 = c_0 = 0$.\n",
    "\n",
    "Then, for $i > 0$, we compute $c_i$ to obey the Euler condition\n",
    "\n",
    "$$\n",
    "    u'(c_i)\n",
    "    = \\beta R \\, \\mathbb E (u' \\circ \\sigma) \\, [R s_i + Y]\n",
    "$$\n",
    "\n",
    "Equivalently, we set\n",
    "\n",
    "$$\n",
    "    c_i\n",
    "    = (u')^{-1}\n",
    "    \\left\\{ \n",
    "        \\beta R \\, \\mathbb E (u' \\circ \\sigma) \\, [R s_i + Y]\n",
    "     \\right\\}\n",
    "$$\n",
    "\n",
    "Lastly, we set\n",
    "\n",
    "$$\n",
    "    a_i = s_i + c_i, \\quad i = 1, 2, \\ldots, N-1\n",
    "$$"
   ]
  },
  {
   "cell_type": "markdown",
   "id": "e88a2e61",
   "metadata": {},
   "source": [
    "The new policy $\\sigma'$ is formed by linearly interpolating the points $((a_i), (c_i))$.\n",
    "\n",
    "Notice that we avoided any nonlinear maximization or root-finding routine."
   ]
  },
  {
   "cell_type": "markdown",
   "id": "ad937160",
   "metadata": {},
   "source": [
    "### Implementation"
   ]
  },
  {
   "cell_type": "markdown",
   "id": "c89db467",
   "metadata": {},
   "source": [
    "Here's the policy update step.\n",
    "\n",
    "It reads in points $((a_i), (c_i))$ that are linearly interpolated into a policy\n",
    "$\\sigma$.\n",
    "\n",
    "It returns a new set of points $((a_i'), (c_i'))$ that represent the updated\n",
    "policy $\\sigma'$.\n"
   ]
  },
  {
   "cell_type": "code",
   "execution_count": null,
   "id": "0d28f45f",
   "metadata": {},
   "outputs": [],
   "source": [
    "@jax.jit\n",
    "def update_policy(a_in, c_in, model):\n",
    "    \"\"\"\n",
    "    The vectorized operator K using EGM.\n",
    "\n",
    "    \"\"\"\n",
    "\n",
    "    # Unpack\n",
    "    β, R, γ, μ, ν = model.β, model.R, model.γ, model.μ, model.ν\n",
    "    s_array = model.s_array\n",
    "    y_draws = model.y_draws\n",
    "    \n",
    "    def u_prime(c):\n",
    "        return c**(-γ)\n",
    "\n",
    "    def u_prime_inv(u):\n",
    "            return u**(-1/γ)\n",
    "\n",
    "    # Linearly interpolate σ\n",
    "    def σ(a):\n",
    "        return jnp.interp(a, a_in, c_in)\n",
    "\n",
    "    # Define a function for computing E (u'(σ(Rs + Y)))\n",
    "    def expectation(s):\n",
    "        a_next = R * s + y_draws \n",
    "        c_next = σ(a_next)  \n",
    "        return jnp.mean(u_prime(c_next))\n",
    "\n",
    "    # Vectorize and compute E (u'(σ(Rs + Y))) at all s\n",
    "    exp_term = jax.vmap(expectation)(s_array)\n",
    "    # Corresponding consumption\n",
    "    c = u_prime_inv(β * R * exp_term)\n",
    "\n",
    "    # The policy is computed consumption with the first element set to zero\n",
    "    c_out = c.at[0].set(0.0)\n",
    "    # a = s + c\n",
    "    a_out = s_array + c_out\n",
    "    \n",
    "    return a_out, c_out  # Interpolate to get σ'"
   ]
  },
  {
   "cell_type": "markdown",
   "id": "b0b8a35a",
   "metadata": {},
   "source": [
    "Next we define a successive approximator that repeatedly updates the policy\n",
    "using the endogenous grid method."
   ]
  },
  {
   "cell_type": "code",
   "execution_count": null,
   "id": "abff5074",
   "metadata": {},
   "outputs": [],
   "source": [
    "def egm_solve(model,\n",
    "              tol=1e-5,\n",
    "              max_iter=100_000,\n",
    "              verbose=True,\n",
    "              print_skip=25\n",
    "    ):\n",
    "\n",
    "    # Initial condition is to consume all in every state\n",
    "    c_vec = model.s_array\n",
    "    a_vec = model.s_array\n",
    "    i = 0\n",
    "    error = tol + 1\n",
    "\n",
    "    while i < max_iter and error > tol:\n",
    "        a_new, c_new = update_policy(a_vec, c_vec, model)\n",
    "        error = jnp.max(jnp.abs(c_vec - c_new))\n",
    "        i += 1\n",
    "        if verbose and i % print_skip == 0:\n",
    "            print(f\"Error at iteration {i} is {error}.\")\n",
    "        a_vec, c_vec = a_new, c_new\n",
    "\n",
    "    if error > tol:\n",
    "        print(\"Failed to converge!\")\n",
    "    else:\n",
    "        print(f\"\\nConverged in {i} iterations.\")\n",
    "\n",
    "    return a_new, c_new"
   ]
  },
  {
   "cell_type": "markdown",
   "id": "40e0f2e2",
   "metadata": {},
   "source": [
    "Here's an alternative jit-compiled version of the same function."
   ]
  },
  {
   "cell_type": "code",
   "execution_count": null,
   "id": "985adef1",
   "metadata": {},
   "outputs": [],
   "source": [
    "@jax.jit\n",
    "def egm_solve_fast(\n",
    "        model,\n",
    "        tol=1e-5,\n",
    "        max_iter=100_000\n",
    "    ):\n",
    "\n",
    "    c_vec = model.s_array\n",
    "    a_vec = model.s_array\n",
    "    i = 0\n",
    "    error = tol + 1\n",
    "\n",
    "    def update(loop_state):\n",
    "        i, error, a_vec, c_vec = loop_state\n",
    "        a_new, c_new = update_policy(a_vec, c_vec, model)\n",
    "        error = jnp.max(jnp.abs(c_vec - c_new))\n",
    "        i += 1\n",
    "        return i, error, a_new, c_new\n",
    "\n",
    "    def test(loop_state):\n",
    "        i, error, a_vec, c_vec = loop_state\n",
    "        return jnp.logical_and(i < max_iter, error > tol)\n",
    "\n",
    "    initial_loop_state = i, error, a_vec, c_vec\n",
    "    final_loop_state = jax.lax.while_loop(test, update, initial_loop_state)\n",
    "    i, error, a_star, c_star = final_loop_state\n",
    "    \n",
    "    return a_star, c_star"
   ]
  },
  {
   "cell_type": "markdown",
   "id": "9e9a85e3",
   "metadata": {},
   "source": [
    "## Solutions\n",
    "\n",
    "Here we solve the income fluctuation using the endogenous grid method.\n",
    "\n"
   ]
  },
  {
   "cell_type": "code",
   "execution_count": null,
   "id": "1f6ed8bc",
   "metadata": {},
   "outputs": [],
   "source": [
    "model = create_model()"
   ]
  },
  {
   "cell_type": "code",
   "execution_count": null,
   "id": "b66ad101",
   "metadata": {},
   "outputs": [],
   "source": [
    "%%time\n",
    "\n",
    "a_star, c_star = egm_solve(model)"
   ]
  },
  {
   "cell_type": "code",
   "execution_count": null,
   "id": "34e02a2d",
   "metadata": {},
   "outputs": [],
   "source": [
    "%%time\n",
    "\n",
    "a_star, c_star = egm_solve(model)"
   ]
  },
  {
   "cell_type": "code",
   "execution_count": null,
   "id": "1ce8427d",
   "metadata": {},
   "outputs": [],
   "source": [
    "%%time\n",
    "\n",
    "a_star, c_star = egm_solve_fast(model)\n",
    "jax.block_until_ready(a_star);"
   ]
  },
  {
   "cell_type": "code",
   "execution_count": null,
   "id": "bd8ad724",
   "metadata": {},
   "outputs": [],
   "source": [
    "%%time\n",
    "\n",
    "a_star, c_star = egm_solve_fast(model)\n",
    "jax.block_until_ready(a_star);"
   ]
  },
  {
   "cell_type": "markdown",
   "id": "15f473ba",
   "metadata": {},
   "source": [
    "Let's view the policies in a plot."
   ]
  },
  {
   "cell_type": "code",
   "execution_count": null,
   "id": "36e99752",
   "metadata": {},
   "outputs": [],
   "source": [
    "s_star = a_star - c_star\n",
    "\n",
    "fig, ax = plt.subplots()\n",
    "ax.plot(\n",
    "   a_star,\n",
    "   c_star,\n",
    "   label=\"consumption policy\"\n",
    ")\n",
    "ax.plot(\n",
    "   a_star,\n",
    "   s_star,\n",
    "   label=\"savings policy\"\n",
    ")\n",
    "ax.plot(a_star, a_star, 'k--', alpha=0.5, label=\"45 degree line\")\n",
    "ax.set_xlabel('assets')\n",
    "ax.set_ylabel('consumption / savings')\n",
    "plt.legend()\n",
    "plt.show()"
   ]
  },
  {
   "cell_type": "markdown",
   "id": "5c4c1156",
   "metadata": {},
   "source": [
    "## Simulation\n",
    "\n",
    "Having computed the optimal consumption policy, we can now simulate the model forward.\n",
    "\n",
    "We start by simulating a single household over time to see how consumption and assets\n",
    "evolve in response to random income shocks.\n",
    "\n",
    "The household uses the optimal policy $\\sigma^*$ to choose consumption at each date,\n",
    "given current assets:\n",
    "\n",
    "$$\n",
    "    c_t = \\sigma^*(a_t)\n",
    "$$\n",
    "\n",
    "Assets then evolve according to\n",
    "\n",
    "$$\n",
    "    a_{t+1} = R(a_t - c_t) + Y_{t+1}\n",
    "$$\n",
    "\n",
    "where $Y_{t+1}$ is the random income realization."
   ]
  },
  {
   "cell_type": "code",
   "execution_count": null,
   "id": "9c606fd4",
   "metadata": {},
   "outputs": [],
   "source": [
    "def simulate(model, a_grid, c_policy, a_0=1.0, T=100, seed=123):\n",
    "    \"\"\"\n",
    "    Simulate the optimal consumption path.\n",
    "\n",
    "    Parameters:\n",
    "    -----------\n",
    "    model : Model\n",
    "        The model instance\n",
    "    a_grid : array\n",
    "        Grid of asset values from solution\n",
    "    c_policy : array\n",
    "        Optimal consumption policy on the grid\n",
    "    a_0 : float\n",
    "        Initial asset level\n",
    "    T : int\n",
    "        Number of periods to simulate\n",
    "    seed : int\n",
    "        Random seed for income shocks\n",
    "    \"\"\"\n",
    "\n",
    "    # Generate income shocks for simulation\n",
    "    key = jax.random.PRNGKey(seed)\n",
    "    z_sim = jax.random.normal(key, (T,))\n",
    "    y_sim = jnp.exp(model.μ + model.ν * z_sim)\n",
    "\n",
    "    # Initialize arrays\n",
    "    a_path = jnp.zeros(T+1)\n",
    "    c_path = jnp.zeros(T)\n",
    "\n",
    "    a_path = a_path.at[0].set(a_0)\n",
    "\n",
    "    # Simulate forward\n",
    "    for t in range(T):\n",
    "        # Interpolate consumption policy\n",
    "        c_t = jnp.interp(a_path[t], a_grid, c_policy)\n",
    "        c_path = c_path.at[t].set(c_t)\n",
    "\n",
    "        # Update assets\n",
    "        s_t = a_path[t] - c_t\n",
    "        a_path = a_path.at[t+1].set(model.R * s_t + y_sim[t])\n",
    "\n",
    "    return a_path, c_path, y_sim\n",
    "\n",
    "# Run simulation\n",
    "a_path, c_path, y_path = simulate(model, a_star, c_star)\n",
    "\n",
    "# Plot results\n",
    "fig, (ax1, ax2) = plt.subplots(2, 1, figsize=(6, 6))\n",
    "\n",
    "# Plot consumption and income\n",
    "ax1.plot(c_path, label='consumption')\n",
    "ax1.plot(y_path, alpha=0.5, label='income')\n",
    "ax1.set_xlabel('time')\n",
    "ax1.set_ylabel('value')\n",
    "ax1.set_title('Consumption and Income Over Time')\n",
    "ax1.legend()\n",
    "\n",
    "# Plot assets\n",
    "ax2.plot(a_path)\n",
    "ax2.set_xlabel('time')\n",
    "ax2.set_ylabel('assets')\n",
    "ax2.set_title('Asset Evolution')\n",
    "\n",
    "plt.tight_layout()\n",
    "plt.show()"
   ]
  },
  {
   "cell_type": "markdown",
   "id": "2d793480",
   "metadata": {},
   "source": [
    "## Cross-sectional distribution\n",
    "\n",
    "The plot above shows the time series for a single household.\n",
    "\n",
    "Now let's simulate a large cross-section of households to study the stationary\n",
    "wealth distribution.\n",
    "\n",
    "We simulate $N = 5_000$ households forward for $T = 500$ periods.\n",
    "\n",
    "All households start with the same initial assets but face independent income\n",
    "shocks drawn from the lognormal distribution.\n",
    "\n",
    "Each household follows the same optimal policy $\\sigma^*$, but the different\n",
    "income realizations lead to heterogeneity in the wealth distribution.\n",
    "\n",
    "The final cross-section of assets provides an approximation to the stationary\n",
    "distribution of wealth under the optimal policy.\n"
   ]
  },
  {
   "cell_type": "code",
   "execution_count": null,
   "id": "9b15cd8c",
   "metadata": {
    "lines_to_next_cell": 0
   },
   "outputs": [],
   "source": [
    "def simulate_cross_section(model, a_grid, c_policy, a_0=1.0, T=500, N=5_000, seed=456):\n",
    "    \"\"\"\n",
    "    Simulate a cross-section of households.\n",
    "\n",
    "    Parameters:\n",
    "    -----------\n",
    "    model : Model\n",
    "        The model instance\n",
    "    a_grid : array\n",
    "        Grid of asset values from solution\n",
    "    c_policy : array\n",
    "        Optimal consumption policy on the grid\n",
    "    a_0 : float\n",
    "        Initial asset level for all households\n",
    "    T : int\n",
    "        Number of periods to simulate\n",
    "    N : int\n",
    "        Number of households\n",
    "    seed : int\n",
    "        Random seed for income shocks\n",
    "    \"\"\"\n",
    "\n",
    "    # Generate income shocks for all households\n",
    "    key = jax.random.PRNGKey(seed)\n",
    "    z_sim = jax.random.normal(key, (N, T))\n",
    "    y_sim = jnp.exp(model.μ + model.ν * z_sim)\n",
    "\n",
    "    # Initialize asset holdings\n",
    "    a_current = jnp.ones(N) * a_0\n",
    "\n",
    "    # Simulate forward\n",
    "    for t in range(T):\n",
    "        # Interpolate consumption policy for all households\n",
    "        c_current = jnp.interp(a_current, a_grid, c_policy)\n",
    "        # Update assets\n",
    "        s_current = a_current - c_current\n",
    "        a_current = model.R * s_current + y_sim[:, t]\n",
    "\n",
    "    return a_current\n",
    "\n",
    "# Run cross-sectional simulation\n",
    "print(\"Simulating cross-section...\")\n",
    "a_final = simulate_cross_section(model, a_star, c_star)\n",
    "\n",
    "# Plot histogram with kernel density\n",
    "from scipy.stats import gaussian_kde\n",
    "\n",
    "fig, ax = plt.subplots()\n",
    "ax.hist(a_final, bins=50, alpha=0.5, edgecolor='black', density=True, label='histogram')\n",
    "\n",
    "# Add kernel density estimate\n",
    "kde = gaussian_kde(a_final)\n",
    "a_range = jnp.linspace(jnp.min(a_final), jnp.max(a_final), 200)\n",
    "ax.plot(a_range, kde(a_range), 'k-', linewidth=2, label='kernel density estimate')\n",
    "\n",
    "ax.set_xlabel('assets')\n",
    "ax.set_ylabel('density')\n",
    "ax.set_title('Cross-Sectional Distribution of Assets (N=5,000, T=500)')\n",
    "ax.legend()\n",
    "plt.show()"
   ]
  },
  {
   "cell_type": "markdown",
   "id": "f0e070f4",
   "metadata": {},
   "source": [
    "\n"
   ]
  },
  {
   "cell_type": "code",
   "execution_count": null,
   "id": "7c33763b",
   "metadata": {},
   "outputs": [],
   "source": []
  }
 ],
 "metadata": {
  "kernelspec": {
   "display_name": "Python 3 (ipykernel)",
   "language": "python",
   "name": "python3"
  }
 },
 "nbformat": 4,
 "nbformat_minor": 5
}
