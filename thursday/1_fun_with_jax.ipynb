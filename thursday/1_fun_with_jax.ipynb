{
 "cells": [
  {
   "cell_type": "markdown",
   "id": "66460826",
   "metadata": {},
   "source": [
    "# Fun with JAX\n",
    "\n",
    "**Prepared for the Bank of Portugal Computational Economics Course (Oct 2025)**\n",
    "\n",
    "**Author:** [John Stachurski](https://johnstachurski.net)\n",
    "\n",
    "October 2025\n",
    "\n",
    "This is a super quick illustration of the power of [JAX](https://github.com/google/jax), a Python library built by Google Research.\n",
    "\n",
    "It should be run on a machine with a GPU --- for example, try Google Colab with the runtime environment set to include a GPU.\n",
    "\n",
    "The aim is just to give a small taste of high performance computing in Python -- details will be covered later in the course."
   ]
  },
  {
   "cell_type": "markdown",
   "id": "1641e026",
   "metadata": {},
   "source": [
    "We start with some imports"
   ]
  },
  {
   "cell_type": "code",
   "execution_count": null,
   "id": "24cd7beb",
   "metadata": {},
   "outputs": [],
   "source": [
    "import numpy as np\n",
    "import jax\n",
    "import jax.numpy as jnp\n",
    "import matplotlib.pyplot as plt"
   ]
  },
  {
   "cell_type": "markdown",
   "id": "37c12431",
   "metadata": {},
   "source": [
    "Let's check our hardware:"
   ]
  },
  {
   "cell_type": "code",
   "execution_count": null,
   "id": "005b2024",
   "metadata": {},
   "outputs": [],
   "source": [
    "!nvidia-smi"
   ]
  },
  {
   "cell_type": "code",
   "execution_count": null,
   "id": "c8e50ccd",
   "metadata": {},
   "outputs": [],
   "source": [
    "!lscpu -e"
   ]
  },
  {
   "cell_type": "markdown",
   "id": "2f7f196e",
   "metadata": {},
   "source": [
    "## Transforming Data"
   ]
  },
  {
   "cell_type": "markdown",
   "id": "693758b2",
   "metadata": {},
   "source": [
    "A very common numerical task is to apply a transformation to a set of data points.\n",
    "\n",
    "Our transformation will be the cosine function."
   ]
  },
  {
   "cell_type": "markdown",
   "id": "1b002cee",
   "metadata": {},
   "source": [
    "Here we evaluate the cosine function at 50 points."
   ]
  },
  {
   "cell_type": "code",
   "execution_count": null,
   "id": "c227007f",
   "metadata": {},
   "outputs": [],
   "source": [
    "x = np.linspace(0, 10, 50)\n",
    "y = np.cos(x)"
   ]
  },
  {
   "cell_type": "markdown",
   "id": "eca22ea8",
   "metadata": {},
   "source": [
    "Let's plot."
   ]
  },
  {
   "cell_type": "code",
   "execution_count": null,
   "id": "10c35c1c",
   "metadata": {},
   "outputs": [],
   "source": [
    "fig, ax = plt.subplots()\n",
    "ax.scatter(x, y)\n",
    "plt.show()"
   ]
  },
  {
   "cell_type": "markdown",
   "id": "6c9dbd27",
   "metadata": {},
   "source": [
    "Our aim is to evaluate the cosine function at many points."
   ]
  },
  {
   "cell_type": "code",
   "execution_count": null,
   "id": "867c63f1",
   "metadata": {},
   "outputs": [],
   "source": [
    "n = 50_000_000\n",
    "x = np.linspace(0, 10, n)"
   ]
  },
  {
   "cell_type": "markdown",
   "id": "6e07a5d1",
   "metadata": {},
   "source": [
    "### With NumPy"
   ]
  },
  {
   "cell_type": "code",
   "execution_count": null,
   "id": "aa468627",
   "metadata": {},
   "outputs": [],
   "source": [
    "%%time \n",
    "\n",
    "y = np.cos(x)"
   ]
  },
  {
   "cell_type": "code",
   "execution_count": null,
   "id": "7df01946",
   "metadata": {},
   "outputs": [],
   "source": [
    "%%time \n",
    "\n",
    "y = np.cos(x)"
   ]
  },
  {
   "cell_type": "code",
   "execution_count": null,
   "id": "26606ded",
   "metadata": {},
   "outputs": [],
   "source": [
    "x = None  "
   ]
  },
  {
   "cell_type": "markdown",
   "id": "dcd3e811",
   "metadata": {},
   "source": [
    "### With JAX"
   ]
  },
  {
   "cell_type": "code",
   "execution_count": null,
   "id": "ff051ea3",
   "metadata": {},
   "outputs": [],
   "source": [
    "x_jax = jnp.linspace(0, 10, n)"
   ]
  },
  {
   "cell_type": "markdown",
   "id": "053cf684",
   "metadata": {},
   "source": [
    "Let's time it.\n"
   ]
  },
  {
   "cell_type": "code",
   "execution_count": null,
   "id": "6e9af7f2",
   "metadata": {},
   "outputs": [],
   "source": [
    "%%time\n",
    "    \n",
    "y = jnp.cos(x_jax)\n",
    "jax.block_until_ready(y);  # Don't run forward until the array is returned"
   ]
  },
  {
   "cell_type": "code",
   "execution_count": null,
   "id": "2ad919f2",
   "metadata": {},
   "outputs": [],
   "source": [
    "%%time\n",
    "    \n",
    "y = jnp.cos(x_jax)\n",
    "jax.block_until_ready(y); "
   ]
  },
  {
   "cell_type": "markdown",
   "id": "fff35c99",
   "metadata": {},
   "source": [
    "Here we change the input size --- can you explain why the timing changes?"
   ]
  },
  {
   "cell_type": "code",
   "execution_count": null,
   "id": "1ae62674",
   "metadata": {},
   "outputs": [],
   "source": [
    "x_jax = jnp.linspace(0, 10, n + 1)"
   ]
  },
  {
   "cell_type": "code",
   "execution_count": null,
   "id": "73f3cbf7",
   "metadata": {},
   "outputs": [],
   "source": [
    "%%time\n",
    "    \n",
    "y = jnp.cos(x_jax)\n",
    "jax.block_until_ready(y);"
   ]
  },
  {
   "cell_type": "code",
   "execution_count": null,
   "id": "6a692881",
   "metadata": {},
   "outputs": [],
   "source": [
    "%%time\n",
    "    \n",
    "y = jnp.cos(x_jax)\n",
    "jax.block_until_ready(y);"
   ]
  },
  {
   "cell_type": "code",
   "execution_count": null,
   "id": "b9be9aca",
   "metadata": {},
   "outputs": [],
   "source": [
    "x_jax = None  # Free memory"
   ]
  },
  {
   "cell_type": "markdown",
   "id": "1db434ac",
   "metadata": {},
   "source": [
    "## Evaluating a more complicated function"
   ]
  },
  {
   "cell_type": "code",
   "execution_count": null,
   "id": "67d6526a",
   "metadata": {},
   "outputs": [],
   "source": [
    "def f(x):\n",
    "    y = np.cos(2 * x**2) + np.sqrt(np.abs(x)) + 2 * np.sin(x**4) - 0.1 * x**2\n",
    "    return y"
   ]
  },
  {
   "cell_type": "code",
   "execution_count": null,
   "id": "002d34b3",
   "metadata": {},
   "outputs": [],
   "source": [
    "fig, ax = plt.subplots()\n",
    "x = np.linspace(0, 10, 100)\n",
    "ax.plot(x, f(x))\n",
    "ax.scatter(x, f(x))\n",
    "plt.show()"
   ]
  },
  {
   "cell_type": "markdown",
   "id": "88873e81",
   "metadata": {},
   "source": [
    "Now let's try with a large array."
   ]
  },
  {
   "cell_type": "markdown",
   "id": "f77436fc",
   "metadata": {},
   "source": [
    "### With NumPy"
   ]
  },
  {
   "cell_type": "code",
   "execution_count": null,
   "id": "c8417869",
   "metadata": {},
   "outputs": [],
   "source": [
    "n = 50_000_000\n",
    "x = np.linspace(0, 10, n)"
   ]
  },
  {
   "cell_type": "code",
   "execution_count": null,
   "id": "70face31",
   "metadata": {},
   "outputs": [],
   "source": [
    "%%time \n",
    "\n",
    "y = f(x)"
   ]
  },
  {
   "cell_type": "code",
   "execution_count": null,
   "id": "596f2152",
   "metadata": {},
   "outputs": [],
   "source": [
    "%%time \n",
    "\n",
    "y = f(x)"
   ]
  },
  {
   "cell_type": "markdown",
   "id": "99df7e3f",
   "metadata": {},
   "source": [
    "### With JAX"
   ]
  },
  {
   "cell_type": "code",
   "execution_count": null,
   "id": "5703fa9b",
   "metadata": {},
   "outputs": [],
   "source": [
    "def f(x):\n",
    "    y = jnp.cos(2 * x**2) + jnp.sqrt(jnp.abs(x)) + 2 * jnp.sin(x**4) - x**2\n",
    "    return y"
   ]
  },
  {
   "cell_type": "code",
   "execution_count": null,
   "id": "f2fa12e1",
   "metadata": {},
   "outputs": [],
   "source": [
    "x_jax = jnp.linspace(0, 10, n)"
   ]
  },
  {
   "cell_type": "code",
   "execution_count": null,
   "id": "8bc8ddde",
   "metadata": {},
   "outputs": [],
   "source": [
    "%%time \n",
    "\n",
    "y = f(x_jax)\n",
    "jax.block_until_ready(y);"
   ]
  },
  {
   "cell_type": "code",
   "execution_count": null,
   "id": "5979a8dc",
   "metadata": {},
   "outputs": [],
   "source": [
    "%%time \n",
    "\n",
    "y = f(x_jax)\n",
    "jax.block_until_ready(y)"
   ]
  },
  {
   "cell_type": "markdown",
   "id": "a8557dab",
   "metadata": {},
   "source": [
    "### Compiling the Whole Function"
   ]
  },
  {
   "cell_type": "code",
   "execution_count": null,
   "id": "bb964fa3",
   "metadata": {},
   "outputs": [],
   "source": [
    "f_jax = jax.jit(f)"
   ]
  },
  {
   "cell_type": "code",
   "execution_count": null,
   "id": "73bab26a",
   "metadata": {},
   "outputs": [],
   "source": [
    "%%time \n",
    "\n",
    "y = f_jax(x_jax)\n",
    "jax.block_until_ready(y);"
   ]
  },
  {
   "cell_type": "code",
   "execution_count": null,
   "id": "22922739",
   "metadata": {},
   "outputs": [],
   "source": [
    "%%time \n",
    "\n",
    "y = f_jax(x_jax)\n",
    "jax.block_until_ready(y);"
   ]
  },
  {
   "cell_type": "code",
   "execution_count": null,
   "id": "30aa68b3",
   "metadata": {},
   "outputs": [],
   "source": []
  }
 ],
 "metadata": {
  "kernelspec": {
   "display_name": "Python 3 (ipykernel)",
   "language": "python",
   "name": "python3"
  }
 },
 "nbformat": 4,
 "nbformat_minor": 5
}
